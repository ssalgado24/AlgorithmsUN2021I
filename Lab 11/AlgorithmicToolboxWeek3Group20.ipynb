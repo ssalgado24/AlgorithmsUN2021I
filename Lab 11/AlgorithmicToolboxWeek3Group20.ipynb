{
  "nbformat": 4,
  "nbformat_minor": 0,
  "metadata": {
    "colab": {
      "name": "AlgorithmicToolboxWeek3Group20.ipynb",
      "provenance": []
    },
    "kernelspec": {
      "name": "python3",
      "display_name": "Python 3"
    },
    "language_info": {
      "name": "python"
    }
  },
  "cells": [
    {
      "cell_type": "markdown",
      "metadata": {
        "id": "Mmt7r-RAetD4"
      },
      "source": [
        "# **Lab 11**\n"
      ]
    },
    {
      "cell_type": "markdown",
      "metadata": {
        "id": "y4L3ZL7HkxGM"
      },
      "source": [
        "\n",
        "\n",
        "*   Samuel Salgado\n",
        "*   Zamir Velázquez\n",
        "\n",
        "\n",
        "\n",
        "\n",
        "\n"
      ]
    },
    {
      "cell_type": "markdown",
      "metadata": {
        "id": "d0kAUysQk7bC"
      },
      "source": [
        "## **1. Money Change**"
      ]
    },
    {
      "cell_type": "code",
      "metadata": {
        "id": "h38ju7Z-nP0g",
        "colab": {
          "base_uri": "https://localhost:8080/"
        },
        "outputId": "de6cfbcb-8243-401f-f05c-4815d0bb2b8a"
      },
      "source": [
        "%%writefile change.cpp\n",
        "#include <iostream>\n",
        "\n",
        "int change (int n) {\n",
        "\tint camb = 0;\n",
        "  int op1 = n / 10;\n",
        "\tn = n % 10;\n",
        "\n",
        "\tint op2 = n / 5;\n",
        "\tn = n % 5;\n",
        "\n",
        "\tcamb = op1 + op2 + n;\t\n",
        "\n",
        "\treturn camb;\n",
        "}\n",
        "\n",
        "int main() {\n",
        "\n",
        "\tint n;\n",
        "\tstd::cin >> n;\n",
        "\tstd::cout << change(n) ;\n",
        "}"
      ],
      "execution_count": 18,
      "outputs": [
        {
          "output_type": "stream",
          "text": [
            "Overwriting change.cpp\n"
          ],
          "name": "stdout"
        }
      ]
    },
    {
      "cell_type": "code",
      "metadata": {
        "colab": {
          "base_uri": "https://localhost:8080/"
        },
        "id": "yXczfIApQPL1",
        "outputId": "746fab9a-80c3-4fe9-e329-bd860bfb4229"
      },
      "source": [
        "!g++ change.cpp -o change\n",
        "!./change"
      ],
      "execution_count": 19,
      "outputs": [
        {
          "output_type": "stream",
          "text": [
            "23\n",
            "5"
          ],
          "name": "stdout"
        }
      ]
    },
    {
      "cell_type": "markdown",
      "metadata": {
        "id": "i94U8ckzwURa"
      },
      "source": [
        "## **3. Car Fueling**"
      ]
    },
    {
      "cell_type": "code",
      "metadata": {
        "colab": {
          "base_uri": "https://localhost:8080/"
        },
        "id": "titlK8OelJtT",
        "outputId": "b7a70ddc-aa85-453d-a0d7-755c14c25caf"
      },
      "source": [
        "%%writefile carf.cpp\n",
        "#include <iostream>\n",
        "#include <vector>\n",
        "\n",
        "using std::cin;\n",
        "using std::cout;\n",
        "using std::vector;\n",
        "using std::max;\n",
        "\n",
        "int min_ref(int distance, int tank, vector<int> & stops) {\n",
        "   \n",
        "    int n = stops.size();\n",
        "    stops.insert(stops.begin(), 0);\n",
        "    stops.push_back(distance);\n",
        "\n",
        "    int curr = 0; \n",
        "    int count = 0;\n",
        "\n",
        "    while (curr <= n) {\n",
        "        int i = curr;\n",
        "        int j;\n",
        "        for ( j = i + 1; j <= n + 1; j++) {\n",
        "\n",
        "            if ((stops[j] - stops[i]) > tank) {\n",
        "                break;\n",
        "            }\n",
        "        }\n",
        "\n",
        "        j--;\n",
        "\n",
        "        if (j == n + 1)\n",
        "            break;\n",
        "\n",
        "        if (i == j)\n",
        "            return -1;\n",
        "\n",
        "        curr = j;\n",
        "        count++;\n",
        "\n",
        "    }\n",
        "\n",
        "    return count;\n",
        "\n",
        "    \n",
        "}\n",
        "\n",
        "\n",
        "int main() {\n",
        "    int d = 0;\n",
        "    cin >> d;\n",
        "    int m = 0;\n",
        "    cin >> m;\n",
        "    int n = 0;\n",
        "    cin >> n;\n",
        "\n",
        "    vector<int> stops(n);\n",
        "    for (size_t i = 0; i < n; ++i)\n",
        "        cin >> stops.at(i);\n",
        "\n",
        "    cout << min_ref(d, m, stops) << \"\\n\";\n",
        "\n",
        "    return 0;\n",
        "}"
      ],
      "execution_count": 24,
      "outputs": [
        {
          "output_type": "stream",
          "text": [
            "Overwriting carf.cpp\n"
          ],
          "name": "stdout"
        }
      ]
    },
    {
      "cell_type": "code",
      "metadata": {
        "colab": {
          "base_uri": "https://localhost:8080/"
        },
        "id": "HzQuXVHvC9kz",
        "outputId": "df885343-e9ce-404d-dc42-683537e4c091"
      },
      "source": [
        "!g++ carf.cpp -o carf\n",
        "!./carf"
      ],
      "execution_count": 14,
      "outputs": [
        {
          "output_type": "stream",
          "text": [
            "5\n",
            "4\n",
            "3\n",
            "1 2 3\n",
            "1\n"
          ],
          "name": "stdout"
        }
      ]
    },
    {
      "cell_type": "markdown",
      "metadata": {
        "id": "agsD4NnqDoGe"
      },
      "source": [
        "## **4. Maximum Advertisement Revenue**"
      ]
    },
    {
      "cell_type": "code",
      "metadata": {
        "colab": {
          "base_uri": "https://localhost:8080/"
        },
        "id": "mTMn5Jh-lJkf",
        "outputId": "f0daacbe-235c-481b-e58a-73ba5ea9da11"
      },
      "source": [
        "%%writefile maxadre.cpp\n",
        "#include <iostream>\n",
        "#include <vector>\n",
        "#include <bits/stdc++.h>\n",
        "using std::vector;\n",
        "using ll = long long;\n",
        "\n",
        "bool comparar(int a, int b) {\n",
        "  return a > b;\n",
        "}\n",
        "\n",
        "ll mdp(std::vector<int> a, std::vector<int> b) {\n",
        "  ll ans = 0;\n",
        "  sort(a.begin(), a.end(), comparar);\n",
        "  sort(b.begin(), b.end(), comparar);\n",
        "\n",
        "  for (int i = 0; i < a.size(); ++i)\n",
        "  {\n",
        "       ans += (((ll)a[i]) * b[i]);\n",
        "  }\n",
        "\n",
        "  return ans;\n",
        "\n",
        "}\n",
        "\n",
        "\n",
        "int main() {\n",
        " \n",
        "  size_t n;\n",
        "  std::cin >> n;\n",
        "  vector<int> vec1(n), vec2(n);\n",
        "  for (size_t i = 0; i < n; i++) {\n",
        "    std::cin >> vec1[i];\n",
        "  }\n",
        "  for (size_t i = 0; i < n; i++) {\n",
        "    std::cin >> vec2[i];\n",
        "  }\n",
        "  std::cout << mdp(vec1, vec2) << std::endl;\n",
        "}"
      ],
      "execution_count": 22,
      "outputs": [
        {
          "output_type": "stream",
          "text": [
            "Overwriting maxadre.cpp\n"
          ],
          "name": "stdout"
        }
      ]
    },
    {
      "cell_type": "code",
      "metadata": {
        "id": "fnasx1gCMPKs",
        "colab": {
          "base_uri": "https://localhost:8080/"
        },
        "outputId": "aa143484-bd9f-4cc7-c027-066be76ef486"
      },
      "source": [
        "!g++ maxadre.cpp -o maxadre\n",
        "!./maxadre"
      ],
      "execution_count": 23,
      "outputs": [
        {
          "output_type": "stream",
          "text": [
            "4\n",
            "21 6 4 8\n",
            "8 9 6 1\n",
            "293\n"
          ],
          "name": "stdout"
        }
      ]
    }
  ]
}