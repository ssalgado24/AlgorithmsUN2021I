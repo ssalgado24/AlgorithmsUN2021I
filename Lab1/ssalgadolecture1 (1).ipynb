{
  "nbformat": 4,
  "nbformat_minor": 0,
  "metadata": {
    "kernelspec": {
      "name": "python3",
      "display_name": "Python 3"
    },
    "colab": {
      "name": "ssalgadolecture1.ipynb",
      "provenance": [],
      "collapsed_sections": [
        "EjNuPxCxmBqS"
      ]
    }
  },
  "cells": [
    {
      "cell_type": "markdown",
      "metadata": {
        "id": "DyU2Xj6UmBqK"
      },
      "source": [
        "#Introduction to the Research Environment\n",
        "\n",
        "The research environment is powered by IPython notebooks, which allow one to perform a great deal of data analysis and statistical validation. We'll demonstrate a few simple techniques here."
      ]
    },
    {
      "cell_type": "markdown",
      "metadata": {
        "id": "EjNuPxCxmBqS"
      },
      "source": [
        "##Code Cells vs. Text Cells\n",
        "\n",
        "As you can see, each cell can be either code or text. To select between them, choose from the 'Cell Type' dropdown menu on the top left."
      ]
    },
    {
      "cell_type": "markdown",
      "metadata": {
        "id": "7dUQIIrPmBqT"
      },
      "source": [
        "##Executing a Command\n",
        "\n",
        "A code cell will be evaluated when you press play, or when you press the shortcut, shift-enter. Evaluating a cell evaluates each line of code in sequence, and prints the results of the last line below the cell."
      ]
    },
    {
      "cell_type": "code",
      "metadata": {
        "colab": {
          "base_uri": "https://localhost:8080/"
        },
        "id": "o8HEfvtwmBqU",
        "outputId": "f3e37c7f-d032-43df-d7ea-d522edf86308"
      },
      "source": [
        "2 + 2"
      ],
      "execution_count": 1,
      "outputs": [
        {
          "output_type": "execute_result",
          "data": {
            "text/plain": [
              "4"
            ]
          },
          "metadata": {
            "tags": []
          },
          "execution_count": 1
        }
      ]
    },
    {
      "cell_type": "code",
      "metadata": {
        "colab": {
          "base_uri": "https://localhost:8080/"
        },
        "id": "BmXENN9FuxDG",
        "outputId": "ada5892f-a7dc-42c5-e6f3-0df350967646"
      },
      "source": [
        "#ssalgado\n",
        "25+36"
      ],
      "execution_count": 2,
      "outputs": [
        {
          "output_type": "execute_result",
          "data": {
            "text/plain": [
              "61"
            ]
          },
          "metadata": {
            "tags": []
          },
          "execution_count": 2
        }
      ]
    },
    {
      "cell_type": "markdown",
      "metadata": {
        "id": "SrnhVEGOxjpW"
      },
      "source": [
        "La suma de $25 + 36 = 61$"
      ]
    },
    {
      "cell_type": "markdown",
      "metadata": {
        "id": "Qs8W7cYwmBqU"
      },
      "source": [
        "Sometimes there is no result to be printed, as is the case with assignment."
      ]
    },
    {
      "cell_type": "code",
      "metadata": {
        "collapsed": true,
        "id": "DpKCw_mamBqV"
      },
      "source": [
        "X = 2"
      ],
      "execution_count": 3,
      "outputs": []
    },
    {
      "cell_type": "code",
      "metadata": {
        "id": "Svtkt9JMu2ax"
      },
      "source": [
        "z = 8"
      ],
      "execution_count": 4,
      "outputs": []
    },
    {
      "cell_type": "code",
      "metadata": {
        "colab": {
          "base_uri": "https://localhost:8080/"
        },
        "id": "xIpPgqUiSxa0",
        "outputId": "939e04d8-df10-47cd-d376-0970ccc1e931"
      },
      "source": [
        "#ssalgado\n",
        "z"
      ],
      "execution_count": 5,
      "outputs": [
        {
          "output_type": "execute_result",
          "data": {
            "text/plain": [
              "8"
            ]
          },
          "metadata": {
            "tags": []
          },
          "execution_count": 5
        }
      ]
    },
    {
      "cell_type": "markdown",
      "metadata": {
        "id": "7qoURH4KmBqV"
      },
      "source": [
        "Remember that only the result from the last line is printed."
      ]
    },
    {
      "cell_type": "code",
      "metadata": {
        "colab": {
          "base_uri": "https://localhost:8080/"
        },
        "id": "Di4vO7K2mBqV",
        "outputId": "d48b8432-1086-4b79-a7d8-79f3ca4ff87d"
      },
      "source": [
        "2 + 2\n",
        "3 + 3"
      ],
      "execution_count": 6,
      "outputs": [
        {
          "output_type": "execute_result",
          "data": {
            "text/plain": [
              "6"
            ]
          },
          "metadata": {
            "tags": []
          },
          "execution_count": 6
        }
      ]
    },
    {
      "cell_type": "code",
      "metadata": {
        "colab": {
          "base_uri": "https://localhost:8080/"
        },
        "id": "uvT0rbhN28Qc",
        "outputId": "01512d75-ea83-4cfb-e44a-c8e1987a430c"
      },
      "source": [
        "#ssalgado\n",
        "225+336\n",
        "210-98\n"
      ],
      "execution_count": 7,
      "outputs": [
        {
          "output_type": "execute_result",
          "data": {
            "text/plain": [
              "112"
            ]
          },
          "metadata": {
            "tags": []
          },
          "execution_count": 7
        }
      ]
    },
    {
      "cell_type": "markdown",
      "metadata": {
        "id": "paOI_xtF6ohH"
      },
      "source": [
        "Ejecuta solo la última línea $210 - 98 = 112$"
      ]
    },
    {
      "cell_type": "markdown",
      "metadata": {
        "id": "yy7QgBWBmBqW"
      },
      "source": [
        "However, you can print whichever lines you want using the `print` statement."
      ]
    },
    {
      "cell_type": "code",
      "metadata": {
        "colab": {
          "base_uri": "https://localhost:8080/"
        },
        "id": "-m1HT2MsmBqW",
        "outputId": "0a339c39-a19d-4ed8-db2f-05525a21ce04"
      },
      "source": [
        "print (2 + 2)\n",
        "3 + 3"
      ],
      "execution_count": 8,
      "outputs": [
        {
          "output_type": "stream",
          "text": [
            "4\n"
          ],
          "name": "stdout"
        },
        {
          "output_type": "execute_result",
          "data": {
            "text/plain": [
              "6"
            ]
          },
          "metadata": {
            "tags": []
          },
          "execution_count": 8
        }
      ]
    },
    {
      "cell_type": "code",
      "metadata": {
        "colab": {
          "base_uri": "https://localhost:8080/"
        },
        "id": "IR8Twk4zEAH1",
        "outputId": "d810afee-660e-45e2-d8da-2fb358e64596"
      },
      "source": [
        "#ssalgado\n",
        "print (59 + 14)\n",
        "32+69"
      ],
      "execution_count": 9,
      "outputs": [
        {
          "output_type": "stream",
          "text": [
            "73\n"
          ],
          "name": "stdout"
        },
        {
          "output_type": "execute_result",
          "data": {
            "text/plain": [
              "101"
            ]
          },
          "metadata": {
            "tags": []
          },
          "execution_count": 9
        }
      ]
    },
    {
      "cell_type": "markdown",
      "metadata": {
        "id": "FkjsGiwAmBqW"
      },
      "source": [
        "##Knowing When a Cell is Running\n",
        "\n",
        "While a cell is running, a `[*]` will display on the left. When a cell has yet to be executed, `[ ]` will display. When it has been run, a number will display indicating the order in which it was run during the execution of the notebook `[5]`. Try on this cell and note it happening."
      ]
    },
    {
      "cell_type": "code",
      "metadata": {
        "colab": {
          "base_uri": "https://localhost:8080/"
        },
        "id": "ed4ZQHxUmBqX",
        "outputId": "7da36ede-2296-4d92-f392-98a137cd772c"
      },
      "source": [
        "#Take some time to run something\n",
        "c = 0\n",
        "for i in range(10000000):\n",
        "    c = c + i\n",
        "c"
      ],
      "execution_count": 10,
      "outputs": [
        {
          "output_type": "execute_result",
          "data": {
            "text/plain": [
              "49999995000000"
            ]
          },
          "metadata": {
            "tags": []
          },
          "execution_count": 10
        }
      ]
    },
    {
      "cell_type": "code",
      "metadata": {
        "colab": {
          "base_uri": "https://localhost:8080/"
        },
        "id": "6clQHqSXQamV",
        "outputId": "0264becc-1a9d-4bd0-b917-1399ceb6e1cf"
      },
      "source": [
        "#ssalgado\n",
        "x=0\n",
        "for i in range(10000000):\n",
        "    x= x -i\n",
        "x"
      ],
      "execution_count": 11,
      "outputs": [
        {
          "output_type": "execute_result",
          "data": {
            "text/plain": [
              "-49999995000000"
            ]
          },
          "metadata": {
            "tags": []
          },
          "execution_count": 11
        }
      ]
    },
    {
      "cell_type": "markdown",
      "metadata": {
        "id": "Qo_ybsRomBqX"
      },
      "source": [
        "##Importing Libraries\n",
        "\n",
        "The vast majority of the time, you'll want to use functions from pre-built libraries. You can't import every library on Quantopian due to security issues, but you can import most of the common scientific ones. Here I import numpy and pandas, the two most common and useful libraries in quant finance. I recommend copying this import statement to every new notebook.\n",
        "\n",
        "Notice that you can rename libraries to whatever you want after importing. The `as` statement allows this. Here we use `np` and `pd` as aliases for `numpy` and `pandas`. This is a very common aliasing and will be found in most code snippets around the web. The point behind this is to allow you to type fewer characters when you are frequently accessing these libraries."
      ]
    },
    {
      "cell_type": "code",
      "metadata": {
        "collapsed": true,
        "id": "NfudOOQRmBqY"
      },
      "source": [
        "import numpy as np\n",
        "import pandas as pd\n",
        "\n",
        "# This is a plotting library for pretty pictures.\n",
        "import matplotlib.pyplot as plt"
      ],
      "execution_count": 12,
      "outputs": []
    },
    {
      "cell_type": "code",
      "metadata": {
        "colab": {
          "base_uri": "https://localhost:8080/"
        },
        "id": "RbAWW30epNGl",
        "outputId": "e0d8b38d-a9ec-4148-d249-acd9cc44c269"
      },
      "source": [
        "#ssalgado\n",
        "np.mean([1, 2, 3, 4, 7])"
      ],
      "execution_count": 13,
      "outputs": [
        {
          "output_type": "execute_result",
          "data": {
            "text/plain": [
              "3.4"
            ]
          },
          "metadata": {
            "tags": []
          },
          "execution_count": 13
        }
      ]
    },
    {
      "cell_type": "markdown",
      "metadata": {
        "id": "haVBZPvqmBqY"
      },
      "source": [
        "##Tab Autocomplete\n",
        "\n",
        "Pressing tab will give you a list of IPython's best guesses for what you might want to type next. This is incredibly valuable and will save you a lot of time. If there is only one possible option for what you could type next, IPython will fill that in for you. Try pressing tab very frequently, it will seldom fill in anything you don't want, as if there is ambiguity a list will be shown. This is a great way to see what functions are available in a library.\n",
        "\n",
        "Try placing your cursor after the `.` and pressing tab."
      ]
    },
    {
      "cell_type": "code",
      "metadata": {
        "colab": {
          "base_uri": "https://localhost:8080/"
        },
        "id": "6JrWhWlNqvUk",
        "outputId": "0cdb1660-a53f-4f38-a3b3-687d462d4e16"
      },
      "source": [
        "np.random.normal"
      ],
      "execution_count": 14,
      "outputs": [
        {
          "output_type": "execute_result",
          "data": {
            "text/plain": [
              "<function RandomState.normal>"
            ]
          },
          "metadata": {
            "tags": []
          },
          "execution_count": 14
        }
      ]
    },
    {
      "cell_type": "code",
      "metadata": {
        "colab": {
          "base_uri": "https://localhost:8080/"
        },
        "id": "mCLiqAb0rCb0",
        "outputId": "9561ab33-38da-411d-db43-738b19d3a174"
      },
      "source": [
        "#ssalgado\n",
        "np.random.gamma"
      ],
      "execution_count": 15,
      "outputs": [
        {
          "output_type": "execute_result",
          "data": {
            "text/plain": [
              "<function RandomState.gamma>"
            ]
          },
          "metadata": {
            "tags": []
          },
          "execution_count": 15
        }
      ]
    },
    {
      "cell_type": "markdown",
      "metadata": {
        "id": "dcDmQLeamBqZ"
      },
      "source": [
        "##Getting Documentation Help\n",
        "\n",
        "Placing a question mark after a function and executing that line of code will give you the documentation IPython has for that function. It's often best to do this in a new cell, as you avoid re-executing other code and running into bugs."
      ]
    },
    {
      "cell_type": "code",
      "metadata": {
        "collapsed": true,
        "id": "lkyGGRRGmBqZ"
      },
      "source": [
        "np.random.normal?"
      ],
      "execution_count": 16,
      "outputs": []
    },
    {
      "cell_type": "code",
      "metadata": {
        "id": "Az08KDOZuC1c"
      },
      "source": [
        "#ssalgado\n",
        "np.random.gamma?"
      ],
      "execution_count": 17,
      "outputs": []
    },
    {
      "cell_type": "markdown",
      "metadata": {
        "id": "CD0Ifql8mBqZ"
      },
      "source": [
        "##Sampling\n",
        "\n",
        "We'll sample some random data using a function from `numpy`."
      ]
    },
    {
      "cell_type": "code",
      "metadata": {
        "id": "km2TFI_rmBqa"
      },
      "source": [
        "# Sample 100 points with a mean of 0 and an std of 1. This is a standard normal distribution.\n",
        "X = np.random.normal(0, 1, 100)"
      ],
      "execution_count": 18,
      "outputs": []
    },
    {
      "cell_type": "code",
      "metadata": {
        "colab": {
          "base_uri": "https://localhost:8080/"
        },
        "id": "eywN2mdAucWX",
        "outputId": "3b6d9c04-0763-46da-d068-94bff1b5da7d"
      },
      "source": [
        "X"
      ],
      "execution_count": 19,
      "outputs": [
        {
          "output_type": "execute_result",
          "data": {
            "text/plain": [
              "array([-1.97605295e+00,  1.01837015e+00, -1.16039311e+00,  4.30443216e-01,\n",
              "        8.24809364e-01, -1.21079034e+00,  4.32232999e-01,  5.07471863e-02,\n",
              "        3.11994088e+00, -9.35870066e-01,  5.54255401e-02, -5.69372895e-02,\n",
              "        8.23850553e-01,  2.61165150e-01,  4.91519041e-01, -4.23314308e-01,\n",
              "       -3.93358582e-01, -1.05784884e+00,  2.58653223e-01,  1.46107326e-01,\n",
              "        6.21326026e-01,  1.33637766e+00,  1.60067581e+00,  1.76034411e+00,\n",
              "       -6.02119691e-01,  1.10520358e+00,  6.87780706e-01,  4.26731841e-01,\n",
              "       -1.32804507e+00, -4.18880600e-01, -1.68938570e+00,  7.04257768e-01,\n",
              "       -4.23264767e-01,  6.00144054e-02,  5.50043723e-01, -4.73598768e-01,\n",
              "        9.17512263e-01, -3.01654962e-03, -2.01100484e-01,  1.61812822e-01,\n",
              "       -5.35221916e-01, -3.37732495e-01,  1.66518935e+00,  4.39964113e-01,\n",
              "        6.18565785e-01, -1.99045681e+00, -1.35683746e+00, -1.54308434e-01,\n",
              "       -6.93019981e-01, -3.57031707e-01,  2.67865707e-01, -6.17055936e-01,\n",
              "        4.50207209e-01,  1.11763351e+00, -1.61194195e+00, -1.78454593e-01,\n",
              "        1.00481529e+00,  9.44276638e-01, -3.05321351e-01, -9.79446402e-01,\n",
              "        8.28954413e-01,  1.30109087e+00, -4.15533529e-01,  4.70827509e-01,\n",
              "       -2.61702733e+00, -1.32395835e+00,  2.00547415e+00,  1.83103535e+00,\n",
              "        4.16840201e-02, -6.84236810e-01, -5.65018957e-01, -2.01473953e-01,\n",
              "       -2.04896931e-01,  1.14021944e+00,  8.92141108e-01, -1.43537655e+00,\n",
              "       -3.96407471e-01, -1.87675478e+00,  2.44531910e-01, -7.14754065e-01,\n",
              "        8.95341169e-01, -4.93589258e-02, -2.98383137e-01, -1.55046596e-01,\n",
              "       -7.36980341e-01,  5.99733515e-02, -1.52722226e+00,  1.33564696e+00,\n",
              "       -5.28692006e-01,  2.06540625e-01, -4.32184276e-01,  3.87543570e-01,\n",
              "       -2.46682146e+00,  8.42434722e-01,  1.99398327e+00, -8.08294506e-01,\n",
              "        4.20532443e-01, -1.66638156e+00,  2.01186869e+00,  1.22309789e+00])"
            ]
          },
          "metadata": {
            "tags": []
          },
          "execution_count": 19
        }
      ]
    },
    {
      "cell_type": "code",
      "metadata": {
        "id": "mJmsZV62uj3n"
      },
      "source": [
        "#ssalgado\n",
        "Y = np.random.normal(0, 2, 10000)"
      ],
      "execution_count": 20,
      "outputs": []
    },
    {
      "cell_type": "code",
      "metadata": {
        "colab": {
          "base_uri": "https://localhost:8080/"
        },
        "id": "-TqZp15huxfj",
        "outputId": "b3820d24-715a-4949-c804-36c9bb018751"
      },
      "source": [
        "Y"
      ],
      "execution_count": 21,
      "outputs": [
        {
          "output_type": "execute_result",
          "data": {
            "text/plain": [
              "array([ 1.05458447,  0.84833741, -3.72487537, ..., -0.49952019,\n",
              "       -5.04626818,  1.96766663])"
            ]
          },
          "metadata": {
            "tags": []
          },
          "execution_count": 21
        }
      ]
    },
    {
      "cell_type": "markdown",
      "metadata": {
        "id": "qQRdrIjomBqa"
      },
      "source": [
        "##Plotting\n",
        "\n",
        "We can use the plotting library we imported as follows."
      ]
    },
    {
      "cell_type": "code",
      "metadata": {
        "colab": {
          "base_uri": "https://localhost:8080/",
          "height": 282
        },
        "id": "7OBJRUnCmBqa",
        "outputId": "c150b451-3867-4d29-ef4d-08b49fd43ebd"
      },
      "source": [
        "plt.plot(X)"
      ],
      "execution_count": 22,
      "outputs": [
        {
          "output_type": "execute_result",
          "data": {
            "text/plain": [
              "[<matplotlib.lines.Line2D at 0x7f8cc92599d0>]"
            ]
          },
          "metadata": {
            "tags": []
          },
          "execution_count": 22
        },
        {
          "output_type": "display_data",
          "data": {
            "image/png": "[encoded data removed]",
            "text/plain": [
              "<Figure size 432x288 with 1 Axes>"
            ]
          },
          "metadata": {
            "tags": [],
            "needs_background": "light"
          }
        }
      ]
    },
    {
      "cell_type": "code",
      "metadata": {
        "colab": {
          "base_uri": "https://localhost:8080/",
          "height": 282
        },
        "id": "GAqHJlB-ymkb",
        "outputId": "ebf5e49b-1fb5-45c8-b5ff-ddf22063fe62"
      },
      "source": [
        "#ssalgado\n",
        "plt.plot (Y)"
      ],
      "execution_count": 23,
      "outputs": [
        {
          "output_type": "execute_result",
          "data": {
            "text/plain": [
              "[<matplotlib.lines.Line2D at 0x7f8cc2fbad50>]"
            ]
          },
          "metadata": {
            "tags": []
          },
          "execution_count": 23
        },
        {
          "output_type": "display_data",
          "data": {
            "image/png": "[encoded data removed]",
            "text/plain": [
              "<Figure size 432x288 with 1 Axes>"
            ]
          },
          "metadata": {
            "tags": [],
            "needs_background": "light"
          }
        }
      ]
    },
    {
      "cell_type": "markdown",
      "metadata": {
        "id": "pmYOEAx8mBqa"
      },
      "source": [
        "###Squelching Line Output\n",
        "\n",
        "You might have noticed the annoying line of the form `[<matplotlib.lines.Line2D at 0x7f72fdbc1710>]` before the plots. This is because the `.plot` function actually produces output. Sometimes we wish not to display output, we can accomplish this with the semi-colon as follows."
      ]
    },
    {
      "cell_type": "code",
      "metadata": {
        "colab": {
          "base_uri": "https://localhost:8080/",
          "height": 265
        },
        "id": "h42ZwZMEmBqb",
        "outputId": "f9afb624-ab05-458f-9bc5-cd91285c55fe"
      },
      "source": [
        "plt.plot(X);"
      ],
      "execution_count": 24,
      "outputs": [
        {
          "output_type": "display_data",
          "data": {
            "image/png": "[encoded data removed]",
            "text/plain": [
              "<Figure size 432x288 with 1 Axes>"
            ]
          },
          "metadata": {
            "tags": [],
            "needs_background": "light"
          }
        }
      ]
    },
    {
      "cell_type": "code",
      "metadata": {
        "colab": {
          "base_uri": "https://localhost:8080/",
          "height": 265
        },
        "id": "egUCcdHszKPS",
        "outputId": "9c7e15f4-46a1-4ddb-dfa5-924318975cea"
      },
      "source": [
        "#ssalgado\n",
        "plt.plot(Y);"
      ],
      "execution_count": 25,
      "outputs": [
        {
          "output_type": "display_data",
          "data": {
            "image/png": "[encoded data removed]",
            "text/plain": [
              "<Figure size 432x288 with 1 Axes>"
            ]
          },
          "metadata": {
            "tags": [],
            "needs_background": "light"
          }
        }
      ]
    },
    {
      "cell_type": "markdown",
      "metadata": {
        "id": "uc0bOH81mBqb"
      },
      "source": [
        "###Adding Axis Labels\n",
        "\n",
        "No self-respecting quant leaves a graph without labeled axes. Here are some commands to help with that."
      ]
    },
    {
      "cell_type": "code",
      "metadata": {
        "colab": {
          "base_uri": "https://localhost:8080/",
          "height": 279
        },
        "id": "rrGVc0yTmBqb",
        "outputId": "f78d33ac-2228-4bf1-c2ca-1227a61b458b"
      },
      "source": [
        "X = np.random.normal(0, 1, 100)\n",
        "X2 = np.random.normal(0, 1, 100)\n",
        "\n",
        "plt.plot(X);\n",
        "plt.plot(X2);\n",
        "plt.xlabel('Time') # The data we generated is unitless, but don't forget units in general.\n",
        "plt.ylabel('Returns')\n",
        "plt.legend(['X', 'X2']);"
      ],
      "execution_count": 26,
      "outputs": [
        {
          "output_type": "display_data",
          "data": {
            "image/png": "[encoded data removed]",
            "text/plain": [
              "<Figure size 432x288 with 1 Axes>"
            ]
          },
          "metadata": {
            "tags": [],
            "needs_background": "light"
          }
        }
      ]
    },
    {
      "cell_type": "code",
      "metadata": {
        "colab": {
          "base_uri": "https://localhost:8080/",
          "height": 279
        },
        "id": "IEDKjdeL2z62",
        "outputId": "28a80833-b7e4-46e8-bf4a-09f439338d09"
      },
      "source": [
        "#ssalgado\n",
        "s = np.random.normal(0, 1, 2000)\n",
        "r = np.random.normal(0, 1, 2000)\n",
        "\n",
        "plt.plot(s);\n",
        "plt.plot(r);\n",
        "plt.xlabel('Time') # The data we generated is unitless, but don't forget units in general.\n",
        "plt.ylabel('Returns')\n",
        "plt.legend(['s', 'r']);"
      ],
      "execution_count": 27,
      "outputs": [
        {
          "output_type": "display_data",
          "data": {
            "image/png": "[encoded data removed]",
            "text/plain": [
              "<Figure size 432x288 with 1 Axes>"
            ]
          },
          "metadata": {
            "tags": [],
            "needs_background": "light"
          }
        }
      ]
    },
    {
      "cell_type": "markdown",
      "metadata": {
        "id": "3gIRMk8smBqb"
      },
      "source": [
        "##Generating Statistics\n",
        "\n",
        "Let's use `numpy` to take some simple statistics."
      ]
    },
    {
      "cell_type": "markdown",
      "metadata": {
        "id": "-0lPI4W1OfUy"
      },
      "source": [
        "We can get the **mean** \\\\\n",
        "$\\bar x = \\frac{\\sum_{i=1}^N X_i}{N} $"
      ]
    },
    {
      "cell_type": "code",
      "metadata": {
        "colab": {
          "base_uri": "https://localhost:8080/"
        },
        "id": "hiv6rgFymBqc",
        "outputId": "63520224-0f33-41bd-f819-c2994177372d"
      },
      "source": [
        "np.mean(X)"
      ],
      "execution_count": 28,
      "outputs": [
        {
          "output_type": "execute_result",
          "data": {
            "text/plain": [
              "0.046497273444074956"
            ]
          },
          "metadata": {
            "tags": []
          },
          "execution_count": 28
        }
      ]
    },
    {
      "cell_type": "markdown",
      "metadata": {
        "id": "waxjdrDaPyZz"
      },
      "source": [
        "We can calculate the standard deviation"
      ]
    },
    {
      "cell_type": "markdown",
      "metadata": {
        "id": "P-s36f1xP8X7"
      },
      "source": [
        "$ s = \\sqrt {\\frac{\\sum{(x_i - \\bar x)^2}}{n-1}}$"
      ]
    },
    {
      "cell_type": "code",
      "metadata": {
        "colab": {
          "base_uri": "https://localhost:8080/"
        },
        "id": "vziZf52ZmBqc",
        "outputId": "a0110963-b927-4ff9-bd97-c450e82eaf79"
      },
      "source": [
        "np.std(X)"
      ],
      "execution_count": 29,
      "outputs": [
        {
          "output_type": "execute_result",
          "data": {
            "text/plain": [
              "0.9726362248028598"
            ]
          },
          "metadata": {
            "tags": []
          },
          "execution_count": 29
        }
      ]
    },
    {
      "cell_type": "code",
      "metadata": {
        "colab": {
          "base_uri": "https://localhost:8080/"
        },
        "id": "Yf5e_uPc4RPP",
        "outputId": "fa6fd2e3-b8a4-46b9-958a-f3e2833d6dc8"
      },
      "source": [
        "#ssalgado\n",
        "np.mean(s)"
      ],
      "execution_count": 30,
      "outputs": [
        {
          "output_type": "execute_result",
          "data": {
            "text/plain": [
              "0.002916614421727118"
            ]
          },
          "metadata": {
            "tags": []
          },
          "execution_count": 30
        }
      ]
    },
    {
      "cell_type": "code",
      "metadata": {
        "colab": {
          "base_uri": "https://localhost:8080/"
        },
        "id": "Qqz1yjfN4Vf2",
        "outputId": "b1ddd7a8-2dc1-4a29-e07a-257cc03a0208"
      },
      "source": [
        "np.std(r)"
      ],
      "execution_count": 31,
      "outputs": [
        {
          "output_type": "execute_result",
          "data": {
            "text/plain": [
              "0.9867368880909131"
            ]
          },
          "metadata": {
            "tags": []
          },
          "execution_count": 31
        }
      ]
    },
    {
      "cell_type": "markdown",
      "metadata": {
        "id": "OENrkC52mBqc"
      },
      "source": [
        "##Replacing getpricing()\n",
        "\n",
        "\n",
        "\n",
        "\n",
        "\n",
        "The function getprcing() is not a Python standard function, this function was part of Quantopìan API for Ipython notebooks ( Quantopìan ResearchI, so it will not be recognized in Google Colab or Jupyter, there are multiple alternatives upload finacial data from Yahoo Finance"
      ]
    },
    {
      "cell_type": "code",
      "metadata": {
        "colab": {
          "base_uri": "https://localhost:8080/",
          "height": 450
        },
        "id": "aCaGAdrLmBqd",
        "outputId": "0dbe9a3e-3dca-4f3d-982c-1914f8252bc9"
      },
      "source": [
        "#ssalgado\n",
        "import pandas_datareader as pdr\n",
        "import datetime \n",
        "data = pdr.get_data_yahoo('MSFT', start= datetime.datetime(2018,1,1), end= datetime.datetime(2019,1,1))\n",
        "data"
      ],
      "execution_count": 32,
      "outputs": [
        {
          "output_type": "execute_result",
          "data": {
            "text/html": [
              "<div>\n",
              "<style scoped>\n",
              "    .dataframe tbody tr th:only-of-type {\n",
              "        vertical-align: middle;\n",
              "    }\n",
              "\n",
              "    .dataframe tbody tr th {\n",
              "        vertical-align: top;\n",
              "    }\n",
              "\n",
              "    .dataframe thead th {\n",
              "        text-align: right;\n",
              "    }\n",
              "</style>\n",
              "<table border=\"1\" class=\"dataframe\">\n",
              "  <thead>\n",
              "    <tr style=\"text-align: right;\">\n",
              "      <th></th>\n",
              "      <th>High</th>\n",
              "      <th>Low</th>\n",
              "      <th>Open</th>\n",
              "      <th>Close</th>\n",
              "      <th>Volume</th>\n",
              "      <th>Adj Close</th>\n",
              "    </tr>\n",
              "    <tr>\n",
              "      <th>Date</th>\n",
              "      <th></th>\n",
              "      <th></th>\n",
              "      <th></th>\n",
              "      <th></th>\n",
              "      <th></th>\n",
              "      <th></th>\n",
              "    </tr>\n",
              "  </thead>\n",
              "  <tbody>\n",
              "    <tr>\n",
              "      <th>2018-01-02</th>\n",
              "      <td>86.309998</td>\n",
              "      <td>85.500000</td>\n",
              "      <td>86.129997</td>\n",
              "      <td>85.949997</td>\n",
              "      <td>22483800.0</td>\n",
              "      <td>82.194328</td>\n",
              "    </tr>\n",
              "    <tr>\n",
              "      <th>2018-01-03</th>\n",
              "      <td>86.510002</td>\n",
              "      <td>85.970001</td>\n",
              "      <td>86.059998</td>\n",
              "      <td>86.349998</td>\n",
              "      <td>26061400.0</td>\n",
              "      <td>82.576843</td>\n",
              "    </tr>\n",
              "    <tr>\n",
              "      <th>2018-01-04</th>\n",
              "      <td>87.660004</td>\n",
              "      <td>86.570000</td>\n",
              "      <td>86.589996</td>\n",
              "      <td>87.110001</td>\n",
              "      <td>21912000.0</td>\n",
              "      <td>83.303658</td>\n",
              "    </tr>\n",
              "    <tr>\n",
              "      <th>2018-01-05</th>\n",
              "      <td>88.410004</td>\n",
              "      <td>87.430000</td>\n",
              "      <td>87.660004</td>\n",
              "      <td>88.190002</td>\n",
              "      <td>23407100.0</td>\n",
              "      <td>84.336464</td>\n",
              "    </tr>\n",
              "    <tr>\n",
              "      <th>2018-01-08</th>\n",
              "      <td>88.580002</td>\n",
              "      <td>87.599998</td>\n",
              "      <td>88.199997</td>\n",
              "      <td>88.279999</td>\n",
              "      <td>22113000.0</td>\n",
              "      <td>84.422516</td>\n",
              "    </tr>\n",
              "    <tr>\n",
              "      <th>...</th>\n",
              "      <td>...</td>\n",
              "      <td>...</td>\n",
              "      <td>...</td>\n",
              "      <td>...</td>\n",
              "      <td>...</td>\n",
              "      <td>...</td>\n",
              "    </tr>\n",
              "    <tr>\n",
              "      <th>2018-12-24</th>\n",
              "      <td>97.970001</td>\n",
              "      <td>93.980003</td>\n",
              "      <td>97.680000</td>\n",
              "      <td>94.129997</td>\n",
              "      <td>43935200.0</td>\n",
              "      <td>91.575211</td>\n",
              "    </tr>\n",
              "    <tr>\n",
              "      <th>2018-12-26</th>\n",
              "      <td>100.690002</td>\n",
              "      <td>93.959999</td>\n",
              "      <td>95.139999</td>\n",
              "      <td>100.559998</td>\n",
              "      <td>51634800.0</td>\n",
              "      <td>97.830696</td>\n",
              "    </tr>\n",
              "    <tr>\n",
              "      <th>2018-12-27</th>\n",
              "      <td>101.190002</td>\n",
              "      <td>96.400002</td>\n",
              "      <td>99.300003</td>\n",
              "      <td>101.180000</td>\n",
              "      <td>49498500.0</td>\n",
              "      <td>98.433876</td>\n",
              "    </tr>\n",
              "    <tr>\n",
              "      <th>2018-12-28</th>\n",
              "      <td>102.410004</td>\n",
              "      <td>99.519997</td>\n",
              "      <td>102.089996</td>\n",
              "      <td>100.389999</td>\n",
              "      <td>38196300.0</td>\n",
              "      <td>97.665306</td>\n",
              "    </tr>\n",
              "    <tr>\n",
              "      <th>2018-12-31</th>\n",
              "      <td>102.400002</td>\n",
              "      <td>100.440002</td>\n",
              "      <td>101.290001</td>\n",
              "      <td>101.570000</td>\n",
              "      <td>33173800.0</td>\n",
              "      <td>98.813278</td>\n",
              "    </tr>\n",
              "  </tbody>\n",
              "</table>\n",
              "<p>251 rows × 6 columns</p>\n",
              "</div>"
            ],
            "text/plain": [
              "                  High         Low  ...      Volume  Adj Close\n",
              "Date                                ...                       \n",
              "2018-01-02   86.309998   85.500000  ...  22483800.0  82.194328\n",
              "2018-01-03   86.510002   85.970001  ...  26061400.0  82.576843\n",
              "2018-01-04   87.660004   86.570000  ...  21912000.0  83.303658\n",
              "2018-01-05   88.410004   87.430000  ...  23407100.0  84.336464\n",
              "2018-01-08   88.580002   87.599998  ...  22113000.0  84.422516\n",
              "...                ...         ...  ...         ...        ...\n",
              "2018-12-24   97.970001   93.980003  ...  43935200.0  91.575211\n",
              "2018-12-26  100.690002   93.959999  ...  51634800.0  97.830696\n",
              "2018-12-27  101.190002   96.400002  ...  49498500.0  98.433876\n",
              "2018-12-28  102.410004   99.519997  ...  38196300.0  97.665306\n",
              "2018-12-31  102.400002  100.440002  ...  33173800.0  98.813278\n",
              "\n",
              "[251 rows x 6 columns]"
            ]
          },
          "metadata": {
            "tags": []
          },
          "execution_count": 32
        }
      ]
    },
    {
      "cell_type": "markdown",
      "metadata": {
        "id": "bkQGYAl8mBqd"
      },
      "source": [
        "Our data is now a dataframe. You can see the datetime index and the colums with different pricing data."
      ]
    },
    {
      "cell_type": "code",
      "metadata": {
        "colab": {
          "base_uri": "https://localhost:8080/",
          "height": 450
        },
        "id": "OVbHqA7mmBqg",
        "outputId": "ff0de1fa-c12b-4727-d9af-e62c74ea54a4"
      },
      "source": [
        "#ssalgado\n",
        "data"
      ],
      "execution_count": 33,
      "outputs": [
        {
          "output_type": "execute_result",
          "data": {
            "text/html": [
              "<div>\n",
              "<style scoped>\n",
              "    .dataframe tbody tr th:only-of-type {\n",
              "        vertical-align: middle;\n",
              "    }\n",
              "\n",
              "    .dataframe tbody tr th {\n",
              "        vertical-align: top;\n",
              "    }\n",
              "\n",
              "    .dataframe thead th {\n",
              "        text-align: right;\n",
              "    }\n",
              "</style>\n",
              "<table border=\"1\" class=\"dataframe\">\n",
              "  <thead>\n",
              "    <tr style=\"text-align: right;\">\n",
              "      <th></th>\n",
              "      <th>High</th>\n",
              "      <th>Low</th>\n",
              "      <th>Open</th>\n",
              "      <th>Close</th>\n",
              "      <th>Volume</th>\n",
              "      <th>Adj Close</th>\n",
              "    </tr>\n",
              "    <tr>\n",
              "      <th>Date</th>\n",
              "      <th></th>\n",
              "      <th></th>\n",
              "      <th></th>\n",
              "      <th></th>\n",
              "      <th></th>\n",
              "      <th></th>\n",
              "    </tr>\n",
              "  </thead>\n",
              "  <tbody>\n",
              "    <tr>\n",
              "      <th>2018-01-02</th>\n",
              "      <td>86.309998</td>\n",
              "      <td>85.500000</td>\n",
              "      <td>86.129997</td>\n",
              "      <td>85.949997</td>\n",
              "      <td>22483800.0</td>\n",
              "      <td>82.194328</td>\n",
              "    </tr>\n",
              "    <tr>\n",
              "      <th>2018-01-03</th>\n",
              "      <td>86.510002</td>\n",
              "      <td>85.970001</td>\n",
              "      <td>86.059998</td>\n",
              "      <td>86.349998</td>\n",
              "      <td>26061400.0</td>\n",
              "      <td>82.576843</td>\n",
              "    </tr>\n",
              "    <tr>\n",
              "      <th>2018-01-04</th>\n",
              "      <td>87.660004</td>\n",
              "      <td>86.570000</td>\n",
              "      <td>86.589996</td>\n",
              "      <td>87.110001</td>\n",
              "      <td>21912000.0</td>\n",
              "      <td>83.303658</td>\n",
              "    </tr>\n",
              "    <tr>\n",
              "      <th>2018-01-05</th>\n",
              "      <td>88.410004</td>\n",
              "      <td>87.430000</td>\n",
              "      <td>87.660004</td>\n",
              "      <td>88.190002</td>\n",
              "      <td>23407100.0</td>\n",
              "      <td>84.336464</td>\n",
              "    </tr>\n",
              "    <tr>\n",
              "      <th>2018-01-08</th>\n",
              "      <td>88.580002</td>\n",
              "      <td>87.599998</td>\n",
              "      <td>88.199997</td>\n",
              "      <td>88.279999</td>\n",
              "      <td>22113000.0</td>\n",
              "      <td>84.422516</td>\n",
              "    </tr>\n",
              "    <tr>\n",
              "      <th>...</th>\n",
              "      <td>...</td>\n",
              "      <td>...</td>\n",
              "      <td>...</td>\n",
              "      <td>...</td>\n",
              "      <td>...</td>\n",
              "      <td>...</td>\n",
              "    </tr>\n",
              "    <tr>\n",
              "      <th>2018-12-24</th>\n",
              "      <td>97.970001</td>\n",
              "      <td>93.980003</td>\n",
              "      <td>97.680000</td>\n",
              "      <td>94.129997</td>\n",
              "      <td>43935200.0</td>\n",
              "      <td>91.575211</td>\n",
              "    </tr>\n",
              "    <tr>\n",
              "      <th>2018-12-26</th>\n",
              "      <td>100.690002</td>\n",
              "      <td>93.959999</td>\n",
              "      <td>95.139999</td>\n",
              "      <td>100.559998</td>\n",
              "      <td>51634800.0</td>\n",
              "      <td>97.830696</td>\n",
              "    </tr>\n",
              "    <tr>\n",
              "      <th>2018-12-27</th>\n",
              "      <td>101.190002</td>\n",
              "      <td>96.400002</td>\n",
              "      <td>99.300003</td>\n",
              "      <td>101.180000</td>\n",
              "      <td>49498500.0</td>\n",
              "      <td>98.433876</td>\n",
              "    </tr>\n",
              "    <tr>\n",
              "      <th>2018-12-28</th>\n",
              "      <td>102.410004</td>\n",
              "      <td>99.519997</td>\n",
              "      <td>102.089996</td>\n",
              "      <td>100.389999</td>\n",
              "      <td>38196300.0</td>\n",
              "      <td>97.665306</td>\n",
              "    </tr>\n",
              "    <tr>\n",
              "      <th>2018-12-31</th>\n",
              "      <td>102.400002</td>\n",
              "      <td>100.440002</td>\n",
              "      <td>101.290001</td>\n",
              "      <td>101.570000</td>\n",
              "      <td>33173800.0</td>\n",
              "      <td>98.813278</td>\n",
              "    </tr>\n",
              "  </tbody>\n",
              "</table>\n",
              "<p>251 rows × 6 columns</p>\n",
              "</div>"
            ],
            "text/plain": [
              "                  High         Low  ...      Volume  Adj Close\n",
              "Date                                ...                       \n",
              "2018-01-02   86.309998   85.500000  ...  22483800.0  82.194328\n",
              "2018-01-03   86.510002   85.970001  ...  26061400.0  82.576843\n",
              "2018-01-04   87.660004   86.570000  ...  21912000.0  83.303658\n",
              "2018-01-05   88.410004   87.430000  ...  23407100.0  84.336464\n",
              "2018-01-08   88.580002   87.599998  ...  22113000.0  84.422516\n",
              "...                ...         ...  ...         ...        ...\n",
              "2018-12-24   97.970001   93.980003  ...  43935200.0  91.575211\n",
              "2018-12-26  100.690002   93.959999  ...  51634800.0  97.830696\n",
              "2018-12-27  101.190002   96.400002  ...  49498500.0  98.433876\n",
              "2018-12-28  102.410004   99.519997  ...  38196300.0  97.665306\n",
              "2018-12-31  102.400002  100.440002  ...  33173800.0  98.813278\n",
              "\n",
              "[251 rows x 6 columns]"
            ]
          },
          "metadata": {
            "tags": []
          },
          "execution_count": 33
        }
      ]
    },
    {
      "cell_type": "markdown",
      "metadata": {
        "id": "PZioEpaqmBqg"
      },
      "source": [
        "This is a pandas dataframe, so we can index in to just get price like this. For more info on pandas, please [click here](http://pandas.pydata.org/pandas-docs/stable/10min.html)."
      ]
    },
    {
      "cell_type": "code",
      "metadata": {
        "id": "Elv3-HSVmBqh"
      },
      "source": [
        "X = data['High']"
      ],
      "execution_count": 34,
      "outputs": []
    },
    {
      "cell_type": "code",
      "metadata": {
        "colab": {
          "base_uri": "https://localhost:8080/"
        },
        "id": "pNQs3DCXONcd",
        "outputId": "44a4bc46-0009-48cf-d156-36aeaef29146"
      },
      "source": [
        "X"
      ],
      "execution_count": 35,
      "outputs": [
        {
          "output_type": "execute_result",
          "data": {
            "text/plain": [
              "Date\n",
              "2018-01-02     86.309998\n",
              "2018-01-03     86.510002\n",
              "2018-01-04     87.660004\n",
              "2018-01-05     88.410004\n",
              "2018-01-08     88.580002\n",
              "                 ...    \n",
              "2018-12-24     97.970001\n",
              "2018-12-26    100.690002\n",
              "2018-12-27    101.190002\n",
              "2018-12-28    102.410004\n",
              "2018-12-31    102.400002\n",
              "Name: High, Length: 251, dtype: float64"
            ]
          },
          "metadata": {
            "tags": []
          },
          "execution_count": 35
        }
      ]
    },
    {
      "cell_type": "code",
      "metadata": {
        "id": "TcQmgfSua-vu"
      },
      "source": [
        "#ssalgado\n",
        "V = data['Low']"
      ],
      "execution_count": 36,
      "outputs": []
    },
    {
      "cell_type": "code",
      "metadata": {
        "colab": {
          "base_uri": "https://localhost:8080/"
        },
        "id": "d0jXE4y_bF5v",
        "outputId": "877990db-034f-4868-a519-ea276d769a60"
      },
      "source": [
        "V"
      ],
      "execution_count": 37,
      "outputs": [
        {
          "output_type": "execute_result",
          "data": {
            "text/plain": [
              "Date\n",
              "2018-01-02     85.500000\n",
              "2018-01-03     85.970001\n",
              "2018-01-04     86.570000\n",
              "2018-01-05     87.430000\n",
              "2018-01-08     87.599998\n",
              "                 ...    \n",
              "2018-12-24     93.980003\n",
              "2018-12-26     93.959999\n",
              "2018-12-27     96.400002\n",
              "2018-12-28     99.519997\n",
              "2018-12-31    100.440002\n",
              "Name: Low, Length: 251, dtype: float64"
            ]
          },
          "metadata": {
            "tags": []
          },
          "execution_count": 37
        }
      ]
    },
    {
      "cell_type": "markdown",
      "metadata": {
        "id": "UGlzFc6mmBqh"
      },
      "source": [
        "Because there is now also date information in our data, we provide two series to `.plot`. `X.index` gives us the datetime index, and `X.values` gives us the pricing values. These are used as the X and Y coordinates to make a graph."
      ]
    },
    {
      "cell_type": "code",
      "metadata": {
        "colab": {
          "base_uri": "https://localhost:8080/",
          "height": 265
        },
        "id": "QO-3jBjjmBqh",
        "outputId": "52b83c8b-595f-47bc-8d0b-8ac6631bc666"
      },
      "source": [
        "plt.plot(X.index, X.values)\n",
        "plt.ylabel('Price')\n",
        "plt.legend(['MSFT']);"
      ],
      "execution_count": 38,
      "outputs": [
        {
          "output_type": "display_data",
          "data": {
            "image/png": "[encoded data removed]",
            "text/plain": [
              "<Figure size 432x288 with 1 Axes>"
            ]
          },
          "metadata": {
            "tags": [],
            "needs_background": "light"
          }
        }
      ]
    },
    {
      "cell_type": "code",
      "metadata": {
        "colab": {
          "base_uri": "https://localhost:8080/",
          "height": 265
        },
        "id": "KEFSEtpsPtSc",
        "outputId": "04f5a7ce-ae8e-4b12-8ebb-a4d4348978c8"
      },
      "source": [
        "#ssalgado\n",
        "plt.plot(V.index, V.values)\n",
        "plt.ylabel('Low')\n",
        "plt.legend(['MSFT']);"
      ],
      "execution_count": 39,
      "outputs": [
        {
          "output_type": "display_data",
          "data": {
            "image/png": "[encoded data removed]",
            "text/plain": [
              "<Figure size 432x288 with 1 Axes>"
            ]
          },
          "metadata": {
            "tags": [],
            "needs_background": "light"
          }
        }
      ]
    },
    {
      "cell_type": "markdown",
      "metadata": {
        "id": "-0OMn6iImBqi"
      },
      "source": [
        "We can get statistics again on real data."
      ]
    },
    {
      "cell_type": "code",
      "metadata": {
        "colab": {
          "base_uri": "https://localhost:8080/"
        },
        "id": "Kbki_mkEmBqi",
        "outputId": "8fd7d717-e334-43dc-de4f-815355daa8b3"
      },
      "source": [
        "np.mean(X)"
      ],
      "execution_count": 40,
      "outputs": [
        {
          "output_type": "execute_result",
          "data": {
            "text/plain": [
              "102.11406370368137"
            ]
          },
          "metadata": {
            "tags": []
          },
          "execution_count": 40
        }
      ]
    },
    {
      "cell_type": "code",
      "metadata": {
        "colab": {
          "base_uri": "https://localhost:8080/"
        },
        "id": "2C7ZFwzzbRM3",
        "outputId": "716f73b1-362a-4310-e4e7-354afb638902"
      },
      "source": [
        "np.mean(V)"
      ],
      "execution_count": 41,
      "outputs": [
        {
          "output_type": "execute_result",
          "data": {
            "text/plain": [
              "99.91928313357897"
            ]
          },
          "metadata": {
            "tags": []
          },
          "execution_count": 41
        }
      ]
    },
    {
      "cell_type": "code",
      "metadata": {
        "colab": {
          "base_uri": "https://localhost:8080/"
        },
        "id": "deVX-SCvmBqj",
        "outputId": "40ce7bd5-a363-4579-939b-39247c83fbea"
      },
      "source": [
        "#ssalgado\n",
        "np.std(X)"
      ],
      "execution_count": 42,
      "outputs": [
        {
          "output_type": "execute_result",
          "data": {
            "text/plain": [
              "7.889753837946643"
            ]
          },
          "metadata": {
            "tags": []
          },
          "execution_count": 42
        }
      ]
    },
    {
      "cell_type": "code",
      "metadata": {
        "colab": {
          "base_uri": "https://localhost:8080/"
        },
        "id": "otD-HkzTbTwv",
        "outputId": "1f70b308-6e4b-4d3c-83fa-4da86b12f2f2"
      },
      "source": [
        "np.std(V)"
      ],
      "execution_count": 43,
      "outputs": [
        {
          "output_type": "execute_result",
          "data": {
            "text/plain": [
              "7.885317516819745"
            ]
          },
          "metadata": {
            "tags": []
          },
          "execution_count": 43
        }
      ]
    },
    {
      "cell_type": "markdown",
      "metadata": {
        "id": "Xp7LaF_WmBqj"
      },
      "source": [
        "##Getting Returns from Prices\n",
        "\n",
        "We can use the `pct_change` function to get returns. Notice how we drop the first element after doing this, as it will be `NaN` (nothing -> something results in a NaN percent change)."
      ]
    },
    {
      "cell_type": "code",
      "metadata": {
        "id": "ItyiLgn6mBqk"
      },
      "source": [
        "R = X.pct_change()[1:] ##Second element"
      ],
      "execution_count": 44,
      "outputs": []
    },
    {
      "cell_type": "markdown",
      "metadata": {
        "id": "i7muzRP0mBqk"
      },
      "source": [
        "We can plot the returns distribution as a histogram."
      ]
    },
    {
      "cell_type": "code",
      "metadata": {
        "colab": {
          "base_uri": "https://localhost:8080/",
          "height": 279
        },
        "id": "5b5v_pgZmBql",
        "outputId": "a243deee-ada8-463e-952f-aab0b5b13121"
      },
      "source": [
        "plt.hist(R, bins=20)\n",
        "plt.xlabel('Return')\n",
        "plt.ylabel('Frequency')\n",
        "plt.legend(['MSFT Returns']);"
      ],
      "execution_count": 45,
      "outputs": [
        {
          "output_type": "display_data",
          "data": {
            "image/png": "[encoded data removed]",
            "text/plain": [
              "<Figure size 432x288 with 1 Axes>"
            ]
          },
          "metadata": {
            "tags": [],
            "needs_background": "light"
          }
        }
      ]
    },
    {
      "cell_type": "markdown",
      "metadata": {
        "id": "mZ1MewTlmBql"
      },
      "source": [
        "Get statistics again."
      ]
    },
    {
      "cell_type": "code",
      "metadata": {
        "colab": {
          "base_uri": "https://localhost:8080/"
        },
        "id": "7fyOGiZ6mBqm",
        "outputId": "29c632c5-dc2d-4596-f3e6-ed30c5044f41"
      },
      "source": [
        "np.mean(R)"
      ],
      "execution_count": 46,
      "outputs": [
        {
          "output_type": "execute_result",
          "data": {
            "text/plain": [
              "0.0007711474019386575"
            ]
          },
          "metadata": {
            "tags": []
          },
          "execution_count": 46
        }
      ]
    },
    {
      "cell_type": "code",
      "metadata": {
        "colab": {
          "base_uri": "https://localhost:8080/"
        },
        "id": "jeH2zFmNmBqm",
        "outputId": "8fe9e2e7-8241-4c79-f1c9-b08f6b67010d"
      },
      "source": [
        "np.std(R)"
      ],
      "execution_count": 47,
      "outputs": [
        {
          "output_type": "execute_result",
          "data": {
            "text/plain": [
              "0.013179028414868637"
            ]
          },
          "metadata": {
            "tags": []
          },
          "execution_count": 47
        }
      ]
    },
    {
      "cell_type": "code",
      "metadata": {
        "id": "pnJI11NqbamD"
      },
      "source": [
        "#ssalgado\n",
        "S= V.pct_change()[10:]"
      ],
      "execution_count": 48,
      "outputs": []
    },
    {
      "cell_type": "code",
      "metadata": {
        "colab": {
          "base_uri": "https://localhost:8080/",
          "height": 279
        },
        "id": "FNX3YcjHckKo",
        "outputId": "c17efc72-f706-4c91-936f-0bc08edb70c5"
      },
      "source": [
        "#ssalgado\n",
        "plt.hist(S, bins=20)\n",
        "plt.xlabel('Data 1')\n",
        "plt.ylabel('Data 2')\n",
        "plt.legend(['MSFT Returns']);"
      ],
      "execution_count": 49,
      "outputs": [
        {
          "output_type": "display_data",
          "data": {
            "image/png": "[encoded data removed]",
            "text/plain": [
              "<Figure size 432x288 with 1 Axes>"
            ]
          },
          "metadata": {
            "tags": [],
            "needs_background": "light"
          }
        }
      ]
    },
    {
      "cell_type": "code",
      "metadata": {
        "colab": {
          "base_uri": "https://localhost:8080/"
        },
        "id": "o-QJZEHLc5g3",
        "outputId": "ef47d5da-64df-4412-e1a9-2bde69e13337"
      },
      "source": [
        "np.mean(S)"
      ],
      "execution_count": 50,
      "outputs": [
        {
          "output_type": "execute_result",
          "data": {
            "text/plain": [
              "0.000683572681386488"
            ]
          },
          "metadata": {
            "tags": []
          },
          "execution_count": 50
        }
      ]
    },
    {
      "cell_type": "code",
      "metadata": {
        "colab": {
          "base_uri": "https://localhost:8080/"
        },
        "id": "Nw5J6Rkic9MY",
        "outputId": "6a504e5c-5908-4ffc-d124-bca7efaca836"
      },
      "source": [
        "np.std(S)"
      ],
      "execution_count": 51,
      "outputs": [
        {
          "output_type": "execute_result",
          "data": {
            "text/plain": [
              "0.01644348736447692"
            ]
          },
          "metadata": {
            "tags": []
          },
          "execution_count": 51
        }
      ]
    },
    {
      "cell_type": "markdown",
      "metadata": {
        "id": "wnszh0irmBqm"
      },
      "source": [
        "Now let's go backwards and generate data out of a normal distribution using the statistics we estimated from Microsoft's returns. We'll see that we have good reason to suspect Microsoft's returns may not be normal, as the resulting normal distribution looks far different."
      ]
    },
    {
      "cell_type": "code",
      "metadata": {
        "colab": {
          "base_uri": "https://localhost:8080/",
          "height": 279
        },
        "id": "FCWI8qunmBqm",
        "outputId": "e57899ee-4e9a-4e8e-84ad-ccf98fad0d0f"
      },
      "source": [
        "plt.hist(np.random.normal(np.mean(R), np.std(R), 10000), bins=20)\n",
        "plt.xlabel('Return')\n",
        "plt.ylabel('Frequency')\n",
        "plt.legend(['Normally Distributed Returns']);"
      ],
      "execution_count": 52,
      "outputs": [
        {
          "output_type": "display_data",
          "data": {
            "image/png": "[encoded data removed]",
            "text/plain": [
              "<Figure size 432x288 with 1 Axes>"
            ]
          },
          "metadata": {
            "tags": [],
            "needs_background": "light"
          }
        }
      ]
    },
    {
      "cell_type": "code",
      "metadata": {
        "colab": {
          "base_uri": "https://localhost:8080/",
          "height": 279
        },
        "id": "EgdT4y7udbE8",
        "outputId": "6c0a5e48-a152-4733-8050-6eede6b52d1c"
      },
      "source": [
        "#ssalgado\n",
        "plt.hist(np.random.normal(np.mean(S), np.std(S), 10000), bins=20)\n",
        "plt.xlabel('Return')\n",
        "plt.ylabel('Frequency')\n",
        "plt.legend(['Normally Distributed Returns']);"
      ],
      "execution_count": 53,
      "outputs": [
        {
          "output_type": "display_data",
          "data": {
            "image/png": "[encoded data removed]",
            "text/plain": [
              "<Figure size 432x288 with 1 Axes>"
            ]
          },
          "metadata": {
            "tags": [],
            "needs_background": "light"
          }
        }
      ]
    },
    {
      "cell_type": "markdown",
      "metadata": {
        "id": "sBHriV6XmBqn"
      },
      "source": [
        "##Generating a Moving Average\n",
        "\n",
        "`pandas` has some nice tools to allow us to generate rolling statistics. Here's an example. Notice how there's no moving average for the first 60 days, as we don't have 60 days of data on which to generate the statistic."
      ]
    },
    {
      "cell_type": "code",
      "metadata": {
        "colab": {
          "base_uri": "https://localhost:8080/",
          "height": 265
        },
        "id": "6A_QC7numBqn",
        "outputId": "cf727305-cc86-4710-aae0-e1b545a558a8"
      },
      "source": [
        "# Take the average of the last 60 days at each timepoint.\n",
        "#ssalgado\n",
        "MAVG = X.rolling(30).mean()\n",
        "plt.plot(X.index, X.values)\n",
        "plt.plot(MAVG.index, MAVG.values)\n",
        "plt.ylabel('High')\n",
        "plt.legend(['MSFT', '30-day MAVG']);"
      ],
      "execution_count": 54,
      "outputs": [
        {
          "output_type": "display_data",
          "data": {
            "image/png": "[encoded data removed]",
            "text/plain": [
              "<Figure size 432x288 with 1 Axes>"
            ]
          },
          "metadata": {
            "tags": [],
            "needs_background": "light"
          }
        }
      ]
    },
    {
      "cell_type": "code",
      "metadata": {
        "colab": {
          "base_uri": "https://localhost:8080/",
          "height": 265
        },
        "id": "UPW7310wgRJj",
        "outputId": "76a0c93d-f75a-4569-acc4-069f6ccce59d"
      },
      "source": [
        "#ssalgado\n",
        "MAVG = V.rolling(30).mean()\n",
        "plt.plot(V.index, V.values)\n",
        "plt.plot(MAVG.index, MAVG.values)\n",
        "plt.ylabel('Low')\n",
        "plt.legend(['MSFT', '30-day MAVG']);"
      ],
      "execution_count": 55,
      "outputs": [
        {
          "output_type": "display_data",
          "data": {
            "image/png": "[encoded data removed]",
            "text/plain": [
              "<Figure size 432x288 with 1 Axes>"
            ]
          },
          "metadata": {
            "tags": [],
            "needs_background": "light"
          }
        }
      ]
    },
    {
      "cell_type": "markdown",
      "metadata": {
        "id": "WHV0cY6FmBqn"
      },
      "source": [
        "This presentation is for informational purposes only and does not constitute an offer to sell, a solicitation to buy, or a recommendation for any security; nor does it constitute an offer to provide investment advisory or other services by Quantopian, Inc. (\"Quantopian\"). Nothing contained herein constitutes investment advice or offers any opinion with respect to the suitability of any security, and any views expressed herein should not be taken as advice to buy, sell, or hold any security or as an endorsement of any security or company. In preparing the information contained herein, Quantopian, Inc. has not taken into account the investment needs, objectives, and financial circumstances of any particular investor. Any views expressed and data illustrated herein were prepared based upon information, believed to be reliable, available to Quantopian, Inc. at the time of publication. Quantopian makes no guarantees as to their accuracy or completeness. All information is subject to change and may quickly become unreliable for various reasons, including changes in market conditions or economic circumstances."
      ]
    }
  ]
}