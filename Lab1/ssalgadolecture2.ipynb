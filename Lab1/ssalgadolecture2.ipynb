{
  "nbformat": 4,
  "nbformat_minor": 0,
  "metadata": {
    "kernelspec": {
      "name": "python3",
      "display_name": "Python 3"
    },
    "colab": {
      "name": "ssalgadolecture2.ipynb",
      "provenance": [],
      "collapsed_sections": []
    }
  },
  "cells": [
    {
      "cell_type": "markdown",
      "metadata": {
        "id": "UXzySmxriFed"
      },
      "source": [
        "# Introduction to Python\n",
        "by Maxwell Margenot\n",
        "\n",
        "Part of the Quantopian Lecture Series:\n",
        "\n",
        "* [www.quantopian.com/lectures](https://www.quantopian.com/lectures)\n",
        "* [github.com/quantopian/research_public](https://github.com/quantopian/research_public)\n",
        "\n",
        "\n",
        "---\n",
        "\n",
        "All of the coding that you will do on the Quantopian platform will be in Python. It is also just a good, jack-of-all-trades language to know! Here we will provide you with the basics so that you can feel confident going through our other lectures and understanding what is happening."
      ]
    },
    {
      "cell_type": "markdown",
      "metadata": {
        "id": "azBHNaIiiFfX"
      },
      "source": [
        "## Code Comments\n",
        "\n",
        "A comment is a note made by a programmer in the source code of a program. Its purpose is to clarify the source code and make it easier for people to follow along with what is happening. Anything in a comment is generally ignored when the code is actually run, making comments useful for including explanations and reasoning as well as removing specific lines of code that you may be unsure about. Comments in Python are created by using the pound symbol (`# Insert Text Here`). Including a `#` in a line of code will comment out anything that follows it."
      ]
    },
    {
      "cell_type": "code",
      "metadata": {
        "id": "kAauwNPoiFfZ"
      },
      "source": [
        "# This is a comment\n",
        "# These lines of code will not change any values\n",
        "# Anything following the first # is not run as code"
      ],
      "execution_count": 1,
      "outputs": []
    },
    {
      "cell_type": "code",
      "metadata": {
        "id": "giKWco8flYcq"
      },
      "source": [
        "#ssalgado\n",
        "# Samuel Ricardo Salgado Rivera\n",
        "#Universidad Nacional de Colombia"
      ],
      "execution_count": 2,
      "outputs": []
    },
    {
      "cell_type": "markdown",
      "metadata": {
        "id": "MwIE2X_YiFfa"
      },
      "source": [
        "You may hear text enclosed in triple quotes (`\"\"\" Insert Text Here \"\"\"`) referred to as multi-line comments, but this is not entirely accurate. This is a special type of `string` (a data type we will cover), called a `docstring`, used to explain the purpose of a function."
      ]
    },
    {
      "cell_type": "code",
      "metadata": {
        "colab": {
          "base_uri": "https://localhost:8080/",
          "height": 35
        },
        "id": "v4OSM_AiiFfb",
        "outputId": "35bf5fdc-12c5-4973-9733-69668d7b2f8e"
      },
      "source": [
        "\"\"\" This is a special string \"\"\""
      ],
      "execution_count": 3,
      "outputs": [
        {
          "output_type": "execute_result",
          "data": {
            "application/vnd.google.colaboratory.intrinsic+json": {
              "type": "string"
            },
            "text/plain": [
              "' This is a special string '"
            ]
          },
          "metadata": {
            "tags": []
          },
          "execution_count": 3
        }
      ]
    },
    {
      "cell_type": "code",
      "metadata": {
        "colab": {
          "base_uri": "https://localhost:8080/",
          "height": 35
        },
        "id": "JUzkwSOblrhq",
        "outputId": "1de9a2bb-3cc4-4a46-8e38-448d3cbcdba6"
      },
      "source": [
        "#ssalgado\n",
        "\"\"\"Función que suma\"\"\""
      ],
      "execution_count": 4,
      "outputs": [
        {
          "output_type": "execute_result",
          "data": {
            "application/vnd.google.colaboratory.intrinsic+json": {
              "type": "string"
            },
            "text/plain": [
              "'Función que suma'"
            ]
          },
          "metadata": {
            "tags": []
          },
          "execution_count": 4
        }
      ]
    },
    {
      "cell_type": "markdown",
      "metadata": {
        "id": "vQ3anJfTiFfc"
      },
      "source": [
        "Make sure you read the comments within each code cell (if they are there). They will provide more real-time explanations of what is going on as you look at each line of code."
      ]
    },
    {
      "cell_type": "markdown",
      "metadata": {
        "id": "WvmyweJNiFfc"
      },
      "source": [
        "## Variables\n",
        "\n",
        "Variables provide names for values in programming. If you want to save a value for later or repeated use, you give the value a name, storing the contents in a variable. Variables in programming work in a fundamentally similar way to variables in algebra, but in Python they can take on various different data types.\n",
        "\n",
        "The basic variable types that we will cover in this section are `integers`, `floating point numbers`, `booleans`, and `strings`. \n",
        "\n",
        "An `integer` in programming is the same as in mathematics, a round number with no values after the decimal point. We use the built-in `print` function here to display the values of our variables as well as their types!"
      ]
    },
    {
      "cell_type": "code",
      "metadata": {
        "colab": {
          "base_uri": "https://localhost:8080/"
        },
        "id": "J3zWbydViFfd",
        "outputId": "e135ab97-5635-4904-ae28-5ff7e36dd178"
      },
      "source": [
        "my_integer = 50\n",
        "print (my_integer, type(my_integer))"
      ],
      "execution_count": 5,
      "outputs": [
        {
          "output_type": "stream",
          "text": [
            "50 <class 'int'>\n"
          ],
          "name": "stdout"
        }
      ]
    },
    {
      "cell_type": "code",
      "metadata": {
        "colab": {
          "base_uri": "https://localhost:8080/"
        },
        "id": "1ml3SSoDm_Qx",
        "outputId": "64e0b836-4641-4993-8d8a-2d0a211e4443"
      },
      "source": [
        "#ssalgado\n",
        "var = 99\n",
        "print (var, type(var))"
      ],
      "execution_count": 6,
      "outputs": [
        {
          "output_type": "stream",
          "text": [
            "99 <class 'int'>\n"
          ],
          "name": "stdout"
        }
      ]
    },
    {
      "cell_type": "markdown",
      "metadata": {
        "id": "NH58BvBDiFfe"
      },
      "source": [
        "Variables, regardless of type, are assigned by using a single equals sign (`=`). Variables are case-sensitive so any changes in variation in the capitals of a variable name will reference a different variable entirely."
      ]
    },
    {
      "cell_type": "code",
      "metadata": {
        "colab": {
          "base_uri": "https://localhost:8080/"
        },
        "id": "5ZuNdOtDiFff",
        "outputId": "e1d33f10-e52a-4bf7-f668-af73d537a782"
      },
      "source": [
        "one = 1\n",
        "print (one)"
      ],
      "execution_count": 7,
      "outputs": [
        {
          "output_type": "stream",
          "text": [
            "1\n"
          ],
          "name": "stdout"
        }
      ]
    },
    {
      "cell_type": "markdown",
      "metadata": {
        "id": "K9WU6OGhiFfg"
      },
      "source": [
        "A `floating point` number, or a `float` is a fancy name for a real number (again as in mathematics). To define a `float`, we need to either include a decimal point or specify that the value is a float."
      ]
    },
    {
      "cell_type": "code",
      "metadata": {
        "scrolled": true,
        "colab": {
          "base_uri": "https://localhost:8080/"
        },
        "id": "GcRMDFBViFfg",
        "outputId": "5cd0d6fb-9b3f-48a4-af6f-d2bb4812adb4"
      },
      "source": [
        "my_float = 1.0\n",
        "print (my_float, type(my_float));\n",
        "my_float = float(1)\n",
        "print (my_float, type(my_float))"
      ],
      "execution_count": 8,
      "outputs": [
        {
          "output_type": "stream",
          "text": [
            "1.0 <class 'float'>\n",
            "1.0 <class 'float'>\n"
          ],
          "name": "stdout"
        }
      ]
    },
    {
      "cell_type": "code",
      "metadata": {
        "colab": {
          "base_uri": "https://localhost:8080/"
        },
        "id": "AChZRxgLpMFi",
        "outputId": "cebf6fc8-a2b6-4f0e-f7a3-4ae03d45c5cf"
      },
      "source": [
        "#ssalgado\n",
        "x = 2.245\n",
        "print (x, type(x))\n",
        "x = float(2)\n",
        "print (x, type(x))"
      ],
      "execution_count": 9,
      "outputs": [
        {
          "output_type": "stream",
          "text": [
            "2.245 <class 'float'>\n",
            "2.0 <class 'float'>\n"
          ],
          "name": "stdout"
        }
      ]
    },
    {
      "cell_type": "markdown",
      "metadata": {
        "id": "LTWbOmg1iFfh"
      },
      "source": [
        "A variable of type `float` will not round the number that you store in it, while a variable of type `integer` will. This makes `floats` more suitable for mathematical calculations where you want more than just integers.\n",
        "\n",
        "Note that as we used the `float()` function to force an number to be considered a `float`, we can use the `int()` function to force a number to be considered an `int`."
      ]
    },
    {
      "cell_type": "code",
      "metadata": {
        "colab": {
          "base_uri": "https://localhost:8080/"
        },
        "id": "LjE3Mt5-iFfi",
        "outputId": "1c6eaa4d-8deb-4fcb-8f1b-fa2155a0f3f3"
      },
      "source": [
        "my_int = int(3.14159)\n",
        "print (my_int, type(my_int))"
      ],
      "execution_count": 10,
      "outputs": [
        {
          "output_type": "stream",
          "text": [
            "3 <class 'int'>\n"
          ],
          "name": "stdout"
        }
      ]
    },
    {
      "cell_type": "code",
      "metadata": {
        "colab": {
          "base_uri": "https://localhost:8080/"
        },
        "id": "82FVSg1Rqx8H",
        "outputId": "809583ce-dd5f-4164-a0f2-240ec48f6471"
      },
      "source": [
        "#ssalgado\n",
        "p= int(6.693)\n",
        "print (p, type(p))"
      ],
      "execution_count": 11,
      "outputs": [
        {
          "output_type": "stream",
          "text": [
            "6 <class 'int'>\n"
          ],
          "name": "stdout"
        }
      ]
    },
    {
      "cell_type": "markdown",
      "metadata": {
        "id": "jpDinO7kiFfi"
      },
      "source": [
        "The `int()` function will also truncate any digits that a number may have after the decimal point!\n",
        "\n",
        "Strings allow you to include text as a variable to operate on. They are defined using either single quotes ('') or double quotes (\"\")."
      ]
    },
    {
      "cell_type": "code",
      "metadata": {
        "colab": {
          "base_uri": "https://localhost:8080/"
        },
        "id": "_uzbBYriiFfj",
        "outputId": "b66e205d-8c75-4c3b-ccfa-8d2c7950aa63"
      },
      "source": [
        "my_string = 'This is a string with single quotes'\n",
        "print (my_string)\n",
        "my_string = \"This is a string with double quotes\"\n",
        "print (my_string)"
      ],
      "execution_count": 12,
      "outputs": [
        {
          "output_type": "stream",
          "text": [
            "This is a string with single quotes\n",
            "This is a string with double quotes\n"
          ],
          "name": "stdout"
        }
      ]
    },
    {
      "cell_type": "code",
      "metadata": {
        "colab": {
          "base_uri": "https://localhost:8080/"
        },
        "id": "rsFW-1Drri5w",
        "outputId": "df947e7b-f045-4970-c26e-c6c4bb32259c"
      },
      "source": [
        "#ssalgado\n",
        "q= 'Single quotes'\n",
        "print (q)\n",
        "q=\"Double quotes\"\n",
        "print(q)"
      ],
      "execution_count": 13,
      "outputs": [
        {
          "output_type": "stream",
          "text": [
            "Single quotes\n",
            "Double quotes\n"
          ],
          "name": "stdout"
        }
      ]
    },
    {
      "cell_type": "markdown",
      "metadata": {
        "id": "Se0MRBKCiFfl"
      },
      "source": [
        "Both are allowed so that we can include apostrophes or quotation marks in a string if we so choose."
      ]
    },
    {
      "cell_type": "code",
      "metadata": {
        "colab": {
          "base_uri": "https://localhost:8080/"
        },
        "id": "U4s7gMzgiFfl",
        "outputId": "2bdc163e-6d92-4ae8-fc08-44024835fd9d"
      },
      "source": [
        "my_string = '\"Jabberwocky\", by Lewis Carroll'\n",
        "print (my_string)\n",
        "my_string = \"'Twas brillig, and the slithy toves / Did gyre and gimble in the wabe;\"\n",
        "print (my_string)"
      ],
      "execution_count": 14,
      "outputs": [
        {
          "output_type": "stream",
          "text": [
            "\"Jabberwocky\", by Lewis Carroll\n",
            "'Twas brillig, and the slithy toves / Did gyre and gimble in the wabe;\n"
          ],
          "name": "stdout"
        }
      ]
    },
    {
      "cell_type": "code",
      "metadata": {
        "colab": {
          "base_uri": "https://localhost:8080/"
        },
        "id": "BU1jJndur7jB",
        "outputId": "61aa8048-f58d-4515-d542-69ffa611156d"
      },
      "source": [
        "#ssalgado\n",
        "q = '\"Hamlet\", by William Shakespeare'\n",
        "print(q)\n",
        "q = \"'To be or not to be, that is the question'\"\n",
        "print (q)"
      ],
      "execution_count": 15,
      "outputs": [
        {
          "output_type": "stream",
          "text": [
            "\"Hamlet\", by William Shakespeare\n",
            "'To be or not to be, that is the question'\n"
          ],
          "name": "stdout"
        }
      ]
    },
    {
      "cell_type": "markdown",
      "metadata": {
        "id": "pFzrbvHNiFfm"
      },
      "source": [
        "Booleans, or `bools` are binary variable types. A `bool` can only take on one of two values, these being `True` or `False`. There is much more to this idea of truth values when it comes to programming, which we cover later in the [Logical Operators](#id-section5) of this notebook."
      ]
    },
    {
      "cell_type": "code",
      "metadata": {
        "colab": {
          "base_uri": "https://localhost:8080/"
        },
        "id": "5bzIArbeiFfn",
        "outputId": "e2dbfa27-ab7f-4157-a3e1-e43c48f3ad94"
      },
      "source": [
        "my_bool = True\n",
        "print (my_bool, type(my_bool))"
      ],
      "execution_count": 16,
      "outputs": [
        {
          "output_type": "stream",
          "text": [
            "True <class 'bool'>\n"
          ],
          "name": "stdout"
        }
      ]
    },
    {
      "cell_type": "markdown",
      "metadata": {
        "id": "Kjg4dB5PiFfp"
      },
      "source": [
        "There are many more data types that you can assign as variables in Python, but these are the basic ones! We will cover a few more later as we move through this tutorial."
      ]
    },
    {
      "cell_type": "code",
      "metadata": {
        "colab": {
          "base_uri": "https://localhost:8080/"
        },
        "id": "oa2QXqw-shoS",
        "outputId": "38efcfe0-ba36-4636-d533-87fcfe609070"
      },
      "source": [
        "#ssalgado\n",
        "b= False\n",
        "print(b , type(b))"
      ],
      "execution_count": 17,
      "outputs": [
        {
          "output_type": "stream",
          "text": [
            "False <class 'bool'>\n"
          ],
          "name": "stdout"
        }
      ]
    },
    {
      "cell_type": "markdown",
      "metadata": {
        "id": "GS6UxQpGiFfp"
      },
      "source": [
        "## Basic Math\n",
        "\n",
        "Python has a number of built-in math functions. These can be extended even further by importing the **math** package or by including any number of other calculation-based packages.\n",
        "\n",
        "All of the basic arithmetic operations are supported: `+`, `-`, `/`, and `*`. You can create exponents by using `**` and modular arithmetic is introduced with the mod operator, `%`."
      ]
    },
    {
      "cell_type": "markdown",
      "metadata": {
        "id": "xtwEnukrYfX9"
      },
      "source": [
        "Some examples of how to use the operators are:\n",
        "\n",
        "Addition $2+2 =4$ \n",
        "\n",
        "Substraction $7-4 =3$\n",
        "\n",
        "Multiplication $2*5 =10$\n",
        "\n",
        "Division $10/2 =5$\n",
        "\n",
        "Exponentiation $ 3 ** 2 = 9$"
      ]
    },
    {
      "cell_type": "code",
      "metadata": {
        "colab": {
          "base_uri": "https://localhost:8080/"
        },
        "id": "RaMhYODYiFfq",
        "outputId": "0fc1ff0f-8498-44a7-ec58-c8327552c43a"
      },
      "source": [
        "print ('Addition: ', 2 + 2)\n",
        "print ('Subtraction: ', 7 - 4)\n",
        "print ('Multiplication: ', 2 * 5)\n",
        "print ('Division: ', 10 / 2)\n",
        "print ('Exponentiation: ', 3**2)"
      ],
      "execution_count": 18,
      "outputs": [
        {
          "output_type": "stream",
          "text": [
            "Addition:  4\n",
            "Subtraction:  3\n",
            "Multiplication:  10\n",
            "Division:  5.0\n",
            "Exponentiation:  9\n"
          ],
          "name": "stdout"
        }
      ]
    },
    {
      "cell_type": "code",
      "metadata": {
        "colab": {
          "base_uri": "https://localhost:8080/"
        },
        "id": "uVQMqwlQwVaq",
        "outputId": "7bbe5447-371e-43a7-c51a-4bf4e63b4072"
      },
      "source": [
        "#ssalgado\n",
        "print ('Addition: ', 25 + 23)\n",
        "print ('Subtraction: ', 564 - 225)\n",
        "print ('Multiplication: ', 33 * 5)\n",
        "print ('Division: ', 29 / 12)\n",
        "print ('Exponentiation: ', 3**5)"
      ],
      "execution_count": 19,
      "outputs": [
        {
          "output_type": "stream",
          "text": [
            "Addition:  48\n",
            "Subtraction:  339\n",
            "Multiplication:  165\n",
            "Division:  2.4166666666666665\n",
            "Exponentiation:  243\n"
          ],
          "name": "stdout"
        }
      ]
    },
    {
      "cell_type": "markdown",
      "metadata": {
        "id": "bou5-5U5iFfr"
      },
      "source": [
        "If you are not familiar with the the mod operator, it operates like a remainder function. If we type $15 \\ \\% \\ 4$, it will return the remainder after dividing $15$ by $4$."
      ]
    },
    {
      "cell_type": "code",
      "metadata": {
        "colab": {
          "base_uri": "https://localhost:8080/"
        },
        "id": "SKQBFGwIiFfr",
        "outputId": "b75cdfdf-8670-4f38-cd3f-1389c8a6fb8a"
      },
      "source": [
        "print ('Modulo: ', 15 % 4)"
      ],
      "execution_count": 20,
      "outputs": [
        {
          "output_type": "stream",
          "text": [
            "Modulo:  3\n"
          ],
          "name": "stdout"
        }
      ]
    },
    {
      "cell_type": "code",
      "metadata": {
        "colab": {
          "base_uri": "https://localhost:8080/"
        },
        "id": "ogPHgBCSyqbj",
        "outputId": "4213c12d-50e7-4d1c-d5b5-2afc97a553e2"
      },
      "source": [
        "#ssalgado\n",
        "print('Modulo: ', 526 % 38) "
      ],
      "execution_count": 21,
      "outputs": [
        {
          "output_type": "stream",
          "text": [
            "Modulo:  32\n"
          ],
          "name": "stdout"
        }
      ]
    },
    {
      "cell_type": "markdown",
      "metadata": {
        "id": "3zQ25rqCiFfs"
      },
      "source": [
        "Mathematical functions also work on variables!"
      ]
    },
    {
      "cell_type": "code",
      "metadata": {
        "scrolled": true,
        "colab": {
          "base_uri": "https://localhost:8080/"
        },
        "id": "albVFo7ViFft",
        "outputId": "6f499b59-f436-439e-a03a-b47c968994d4"
      },
      "source": [
        "first_integer = 4\n",
        "second_integer = 5\n",
        "print (first_integer * second_integer)"
      ],
      "execution_count": 22,
      "outputs": [
        {
          "output_type": "stream",
          "text": [
            "20\n"
          ],
          "name": "stdout"
        }
      ]
    },
    {
      "cell_type": "code",
      "metadata": {
        "colab": {
          "base_uri": "https://localhost:8080/"
        },
        "id": "IIKSXbMLzZUR",
        "outputId": "755ef3b4-90b1-4b80-bea0-79656cf17c7f"
      },
      "source": [
        "#ssalgado\n",
        "a=25\n",
        "b=21\n",
        "print(a * b)"
      ],
      "execution_count": 23,
      "outputs": [
        {
          "output_type": "stream",
          "text": [
            "525\n"
          ],
          "name": "stdout"
        }
      ]
    },
    {
      "cell_type": "markdown",
      "metadata": {
        "id": "Q15V7P14iFft"
      },
      "source": [
        "Make sure that your variables are floats if you want to have decimal points in your answer. If you perform math exclusively with integers, you get an integer. Including any float in the calculation will make the result a float."
      ]
    },
    {
      "cell_type": "code",
      "metadata": {
        "colab": {
          "base_uri": "https://localhost:8080/"
        },
        "id": "ELAl7Y4piFfu",
        "outputId": "ca38820d-deb2-4aaa-d544-b737ae3dd579"
      },
      "source": [
        "first_integer = 11\n",
        "second_integer = 3\n",
        "print (first_integer / second_integer)"
      ],
      "execution_count": 24,
      "outputs": [
        {
          "output_type": "stream",
          "text": [
            "3.6666666666666665\n"
          ],
          "name": "stdout"
        }
      ]
    },
    {
      "cell_type": "code",
      "metadata": {
        "colab": {
          "base_uri": "https://localhost:8080/"
        },
        "id": "UEc5lXiyiFfw",
        "outputId": "651c5c46-2d44-4f95-a30f-cd5343ce4433"
      },
      "source": [
        "first_number = 11.0\n",
        "second_number = 3.0\n",
        "print (first_number / second_number)"
      ],
      "execution_count": 25,
      "outputs": [
        {
          "output_type": "stream",
          "text": [
            "3.6666666666666665\n"
          ],
          "name": "stdout"
        }
      ]
    },
    {
      "cell_type": "code",
      "metadata": {
        "colab": {
          "base_uri": "https://localhost:8080/"
        },
        "id": "umauZoLD3Cpq",
        "outputId": "a51d7ba8-73a4-44fd-c107-9866726a3194"
      },
      "source": [
        "#ssalgado\n",
        "n= 4.5\n",
        "m= 6.2\n",
        "print(n / m)"
      ],
      "execution_count": 26,
      "outputs": [
        {
          "output_type": "stream",
          "text": [
            "0.7258064516129032\n"
          ],
          "name": "stdout"
        }
      ]
    },
    {
      "cell_type": "markdown",
      "metadata": {
        "id": "5f3Gcup0iFfw"
      },
      "source": [
        "Python has a few built-in math functions. The most notable of these are:\n",
        "\n",
        "* `abs()`\n",
        "* `round()`\n",
        "* `max()`\n",
        "* `min()`\n",
        "* `sum()`\n",
        "\n",
        "These functions all act as you would expect, given their names. Calling `abs()` on a number will return its absolute value. The `round()` function will round a number to a specified number of the decimal points (the default is $0$). Calling `max()` or `min()` on a collection of numbers will return, respectively, the maximum or minimum value in the collection. Calling `sum()` on a collection of numbers will add them all up. If you're not familiar with how collections of values in Python work, don't worry! We will cover collections in-depth in the next section. \n",
        "\n",
        "Additional math functionality can be added in with the `math` package."
      ]
    },
    {
      "cell_type": "code",
      "metadata": {
        "id": "czN42r9tiFfy"
      },
      "source": [
        "import math"
      ],
      "execution_count": 27,
      "outputs": []
    },
    {
      "cell_type": "markdown",
      "metadata": {
        "id": "h5JSwEpSiFfy"
      },
      "source": [
        "The math library adds a long list of new mathematical functions to Python. Feel free to check out the [documentation](https://docs.python.org/2/library/math.html) for the full list and details. It concludes some mathematical constants"
      ]
    },
    {
      "cell_type": "markdown",
      "metadata": {
        "id": "Ux4gDhcbbCPo"
      },
      "source": [
        "There are a lot of mathematical constants\n",
        "\n",
        "$\\pi, e, \\gamma, \\infty...$"
      ]
    },
    {
      "cell_type": "code",
      "metadata": {
        "colab": {
          "base_uri": "https://localhost:8080/"
        },
        "id": "IskZnj7eiFf1",
        "outputId": "1b62faca-816a-4f37-acd5-39d1616dafdd"
      },
      "source": [
        "print ('Pi: ', math.pi)\n",
        "print (\"Euler's Constant: \", math.e)"
      ],
      "execution_count": 28,
      "outputs": [
        {
          "output_type": "stream",
          "text": [
            "Pi:  3.141592653589793\n",
            "Euler's Constant:  2.718281828459045\n"
          ],
          "name": "stdout"
        }
      ]
    },
    {
      "cell_type": "markdown",
      "metadata": {
        "id": "A0rNxh2uiFf1"
      },
      "source": [
        "As well as some commonly used math functions"
      ]
    },
    {
      "cell_type": "code",
      "metadata": {
        "colab": {
          "base_uri": "https://localhost:8080/"
        },
        "id": "u0M_s0TYiFf2",
        "outputId": "e8b7f885-0b26-498e-dde9-3a3c3d278f6b"
      },
      "source": [
        "print ('Cosine of pi: ', math.cos(math.pi))"
      ],
      "execution_count": 29,
      "outputs": [
        {
          "output_type": "stream",
          "text": [
            "Cosine of pi:  -1.0\n"
          ],
          "name": "stdout"
        }
      ]
    },
    {
      "cell_type": "code",
      "metadata": {
        "colab": {
          "base_uri": "https://localhost:8080/"
        },
        "id": "v8WASB_T3gi8",
        "outputId": "f8b73e76-330a-4b5c-fec2-920236e94205"
      },
      "source": [
        "#ssalgado\n",
        "print ('Square root of 5: ', math.sqrt(5))"
      ],
      "execution_count": 30,
      "outputs": [
        {
          "output_type": "stream",
          "text": [
            "Square root of 5:  2.23606797749979\n"
          ],
          "name": "stdout"
        }
      ]
    },
    {
      "cell_type": "markdown",
      "metadata": {
        "id": "XvKMCMMziFf2"
      },
      "source": [
        "## Collections\n",
        "### Lists\n",
        "\n",
        "A `list` in Python is an ordered collection of objects that can contain any data type. We define a `list` using brackets (`[]`)."
      ]
    },
    {
      "cell_type": "code",
      "metadata": {
        "colab": {
          "base_uri": "https://localhost:8080/"
        },
        "id": "mthdqYMCiFf3",
        "outputId": "73d00363-6f77-4d87-9d4a-44524473c9fe"
      },
      "source": [
        "my_list = [1, 2, 3]\n",
        "print (my_list)"
      ],
      "execution_count": 31,
      "outputs": [
        {
          "output_type": "stream",
          "text": [
            "[1, 2, 3]\n"
          ],
          "name": "stdout"
        }
      ]
    },
    {
      "cell_type": "code",
      "metadata": {
        "colab": {
          "base_uri": "https://localhost:8080/"
        },
        "id": "W_vrJWU84BGA",
        "outputId": "f3d21822-3b1f-4434-8969-a6ef60350a68"
      },
      "source": [
        "#ssalgado\n",
        "lista = [2, 4, 6, 8]\n",
        "print(lista)"
      ],
      "execution_count": 32,
      "outputs": [
        {
          "output_type": "stream",
          "text": [
            "[2, 4, 6, 8]\n"
          ],
          "name": "stdout"
        }
      ]
    },
    {
      "cell_type": "markdown",
      "metadata": {
        "id": "lsKEFslpiFf3"
      },
      "source": [
        "We can access and index the list by using brackets as well. In order to select an individual element, simply type the list name followed by the index of the item you are looking for in braces."
      ]
    },
    {
      "cell_type": "code",
      "metadata": {
        "colab": {
          "base_uri": "https://localhost:8080/"
        },
        "id": "UQET9BjEiFf4",
        "outputId": "72c72761-6e3b-449a-b05b-dc6d40a9282d"
      },
      "source": [
        "print (my_list[0])\n",
        "print (my_list[2])"
      ],
      "execution_count": 33,
      "outputs": [
        {
          "output_type": "stream",
          "text": [
            "1\n",
            "3\n"
          ],
          "name": "stdout"
        }
      ]
    },
    {
      "cell_type": "code",
      "metadata": {
        "colab": {
          "base_uri": "https://localhost:8080/"
        },
        "id": "-9irtXn14Ndg",
        "outputId": "d466f30b-585e-4231-fcf2-d63fdaca1048"
      },
      "source": [
        "#ssalgado\n",
        "print(lista[1])\n",
        "print(lista[3])"
      ],
      "execution_count": 34,
      "outputs": [
        {
          "output_type": "stream",
          "text": [
            "4\n",
            "8\n"
          ],
          "name": "stdout"
        }
      ]
    },
    {
      "cell_type": "markdown",
      "metadata": {
        "id": "AsTz0o2jiFf5"
      },
      "source": [
        "Indexing in Python starts from $0$. If you have a list of length $n$, the first element of the list is at index $0$, the second element is at index $1$, and so on and so forth. The final element of the list will be at index $n-1$. Be careful! Trying to access a non-existent index will cause an error."
      ]
    },
    {
      "cell_type": "code",
      "metadata": {
        "colab": {
          "base_uri": "https://localhost:8080/"
        },
        "id": "N_Vi24KdiFf6",
        "outputId": "2b8fe739-26f4-42cd-f248-da5a384511ee"
      },
      "source": [
        "print ('The first, second, and third list elements: ', my_list[0], my_list[1], my_list[2])\n",
        "print ('Accessing outside the list bounds causes an error: ', my_list[2]) ## Change 3 for 2"
      ],
      "execution_count": 35,
      "outputs": [
        {
          "output_type": "stream",
          "text": [
            "The first, second, and third list elements:  1 2 3\n",
            "Accessing outside the list bounds causes an error:  3\n"
          ],
          "name": "stdout"
        }
      ]
    },
    {
      "cell_type": "code",
      "metadata": {
        "colab": {
          "base_uri": "https://localhost:8080/"
        },
        "id": "vjGj_dpi4uKk",
        "outputId": "f433d513-75dd-4086-9f9e-f6f463997fcf"
      },
      "source": [
        "#ssalgado\n",
        "print ('The first, second, and third list elements: ', lista[0], lista[1], lista[2])\n",
        "print ('Accessing outside the list bounds causes an error: ', lista[3]) "
      ],
      "execution_count": 36,
      "outputs": [
        {
          "output_type": "stream",
          "text": [
            "The first, second, and third list elements:  2 4 6\n",
            "Accessing outside the list bounds causes an error:  8\n"
          ],
          "name": "stdout"
        }
      ]
    },
    {
      "cell_type": "markdown",
      "metadata": {
        "id": "vQkxKmyjiFf6"
      },
      "source": [
        "We can see the number of elements in a list by calling the `len()` function."
      ]
    },
    {
      "cell_type": "code",
      "metadata": {
        "colab": {
          "base_uri": "https://localhost:8080/"
        },
        "id": "Lg7eUAzKiFf7",
        "outputId": "40edd660-7e94-417e-e17b-f3fec9ee03ab"
      },
      "source": [
        "print (len(my_list))"
      ],
      "execution_count": 37,
      "outputs": [
        {
          "output_type": "stream",
          "text": [
            "3\n"
          ],
          "name": "stdout"
        }
      ]
    },
    {
      "cell_type": "code",
      "metadata": {
        "colab": {
          "base_uri": "https://localhost:8080/"
        },
        "id": "tYqAj5Go497C",
        "outputId": "5844fdb5-003c-4d2c-b912-3ff09a63c512"
      },
      "source": [
        "#ssalgado \n",
        "print (len(lista))"
      ],
      "execution_count": 38,
      "outputs": [
        {
          "output_type": "stream",
          "text": [
            "4\n"
          ],
          "name": "stdout"
        }
      ]
    },
    {
      "cell_type": "markdown",
      "metadata": {
        "id": "ktxQNZN8iFf7"
      },
      "source": [
        "We can update and change a list by accessing an index and assigning new value."
      ]
    },
    {
      "cell_type": "code",
      "metadata": {
        "colab": {
          "base_uri": "https://localhost:8080/"
        },
        "id": "mXseax9hiFf8",
        "outputId": "379d6b22-c32b-496d-c27c-fac3ed041a95"
      },
      "source": [
        "print (my_list)\n",
        "my_list[0] = 42\n",
        "print (my_list)"
      ],
      "execution_count": 39,
      "outputs": [
        {
          "output_type": "stream",
          "text": [
            "[1, 2, 3]\n",
            "[42, 2, 3]\n"
          ],
          "name": "stdout"
        }
      ]
    },
    {
      "cell_type": "code",
      "metadata": {
        "colab": {
          "base_uri": "https://localhost:8080/"
        },
        "id": "qeQkBFTO5KD8",
        "outputId": "b1c33df0-37e0-4664-8f3e-5f59a914dd95"
      },
      "source": [
        "#ssalgado\n",
        "print (lista)\n",
        "lista[2]=21\n",
        "print(lista)"
      ],
      "execution_count": 40,
      "outputs": [
        {
          "output_type": "stream",
          "text": [
            "[2, 4, 6, 8]\n",
            "[2, 4, 21, 8]\n"
          ],
          "name": "stdout"
        }
      ]
    },
    {
      "cell_type": "markdown",
      "metadata": {
        "id": "hJSJoi6siFf8"
      },
      "source": [
        "This is fundamentally different from how strings are handled. A `list` is mutable, meaning that you can change a `list`'s elements without changing the list itself. Some data types, like `strings`, are immutable, meaning you cannot change them at all. Once a `string` or other immutable data type has been created, it cannot be directly modified without creating an entirely new object."
      ]
    },
    {
      "cell_type": "code",
      "metadata": {
        "colab": {
          "base_uri": "https://localhost:8080/",
          "height": 180
        },
        "id": "3mO6M7X8iFf9",
        "outputId": "73fd5ddc-27e9-416d-ea62-671bd992b2c3"
      },
      "source": [
        "my_string = \"Strings never change\"\n",
        "my_string[0] = 'Z'"
      ],
      "execution_count": 41,
      "outputs": [
        {
          "output_type": "error",
          "ename": "TypeError",
          "evalue": "ignored",
          "traceback": [
            "\u001b[0;31m---------------------------------------------------------------------------\u001b[0m",
            "\u001b[0;31mTypeError\u001b[0m                                 Traceback (most recent call last)",
            "\u001b[0;32m<ipython-input-41-85065ecd61ab>\u001b[0m in \u001b[0;36m<module>\u001b[0;34m()\u001b[0m\n\u001b[1;32m      1\u001b[0m \u001b[0mmy_string\u001b[0m \u001b[0;34m=\u001b[0m \u001b[0;34m\"Strings never change\"\u001b[0m\u001b[0;34m\u001b[0m\u001b[0;34m\u001b[0m\u001b[0m\n\u001b[0;32m----> 2\u001b[0;31m \u001b[0mmy_string\u001b[0m\u001b[0;34m[\u001b[0m\u001b[0;36m0\u001b[0m\u001b[0;34m]\u001b[0m \u001b[0;34m=\u001b[0m \u001b[0;34m'Z'\u001b[0m\u001b[0;34m\u001b[0m\u001b[0;34m\u001b[0m\u001b[0m\n\u001b[0m",
            "\u001b[0;31mTypeError\u001b[0m: 'str' object does not support item assignment"
          ]
        }
      ]
    },
    {
      "cell_type": "markdown",
      "metadata": {
        "id": "aMvYK4XIiFf9"
      },
      "source": [
        "As we stated before, a list can contain any data type. Thus, lists can also contain strings."
      ]
    },
    {
      "cell_type": "code",
      "metadata": {
        "colab": {
          "base_uri": "https://localhost:8080/"
        },
        "id": "TCLKc2UeiFf-",
        "outputId": "527a0ccc-9aa7-4ce0-e6bb-dc55c3d4859a"
      },
      "source": [
        "my_list_2 = ['one', 'two', 'three']\n",
        "print (my_list_2)"
      ],
      "execution_count": 42,
      "outputs": [
        {
          "output_type": "stream",
          "text": [
            "['one', 'two', 'three']\n"
          ],
          "name": "stdout"
        }
      ]
    },
    {
      "cell_type": "code",
      "metadata": {
        "colab": {
          "base_uri": "https://localhost:8080/"
        },
        "id": "3ZPA6xca5c_Z",
        "outputId": "64b01b4a-6230-4211-9b06-25ce88dd7a71"
      },
      "source": [
        "# ssalgado\n",
        "lista2 = ['Millonarios', 'Santa Fe', 'Nacional', 'America']\n",
        "print(lista2)"
      ],
      "execution_count": 43,
      "outputs": [
        {
          "output_type": "stream",
          "text": [
            "['Millonarios', 'Santa Fe', 'Nacional', 'America']\n"
          ],
          "name": "stdout"
        }
      ]
    },
    {
      "cell_type": "markdown",
      "metadata": {
        "id": "m8htus_oiFgC"
      },
      "source": [
        "Lists can also contain multiple different data types at once!"
      ]
    },
    {
      "cell_type": "code",
      "metadata": {
        "id": "Mcft1zJeiFgD"
      },
      "source": [
        "my_list_3 = [True, 'False', 42]"
      ],
      "execution_count": 44,
      "outputs": []
    },
    {
      "cell_type": "code",
      "metadata": {
        "id": "TdkVfXkO5yTW"
      },
      "source": [
        "#ssalgado\n",
        "lista3 = [False, 'True', 21]"
      ],
      "execution_count": 45,
      "outputs": []
    },
    {
      "cell_type": "markdown",
      "metadata": {
        "id": "-xO0Xei8iFgD"
      },
      "source": [
        "If you want to put two lists together, they can be combined with a `+` symbol."
      ]
    },
    {
      "cell_type": "code",
      "metadata": {
        "colab": {
          "base_uri": "https://localhost:8080/"
        },
        "id": "v8qB2w18iFgE",
        "outputId": "6187c603-76d7-4a09-a8cf-4edaa90b1189"
      },
      "source": [
        "my_list_4 = my_list + my_list_2 + my_list_3\n",
        "print (my_list_4)"
      ],
      "execution_count": 46,
      "outputs": [
        {
          "output_type": "stream",
          "text": [
            "[42, 2, 3, 'one', 'two', 'three', True, 'False', 42]\n"
          ],
          "name": "stdout"
        }
      ]
    },
    {
      "cell_type": "code",
      "metadata": {
        "colab": {
          "base_uri": "https://localhost:8080/"
        },
        "id": "Y8bZHfb76DzL",
        "outputId": "6bf47745-89d2-4121-ddee-820211269601"
      },
      "source": [
        "#ssalgado\n",
        "lista4 = lista + lista2 + lista3\n",
        "print (lista4)"
      ],
      "execution_count": 47,
      "outputs": [
        {
          "output_type": "stream",
          "text": [
            "[2, 4, 21, 8, 'Millonarios', 'Santa Fe', 'Nacional', 'America', False, 'True', 21]\n"
          ],
          "name": "stdout"
        }
      ]
    },
    {
      "cell_type": "markdown",
      "metadata": {
        "id": "I0lnfgkqiFgE"
      },
      "source": [
        "In addition to accessing individual elements of a list, we can access groups of elements through slicing."
      ]
    },
    {
      "cell_type": "code",
      "metadata": {
        "id": "PZThsu6piFgF"
      },
      "source": [
        "my_list = ['friends', 'romans', 'countrymen', 'lend', 'me', 'your', 'ears']"
      ],
      "execution_count": 48,
      "outputs": []
    },
    {
      "cell_type": "code",
      "metadata": {
        "id": "PIt0AX6q6ujT"
      },
      "source": [
        "#ssalgado\n",
        "mi_lista =['Chelsea', 'Manchester City', 'Manchester United', 'Arsenal', 'Liverpool', 'Tottenham', 'Everton'] "
      ],
      "execution_count": 49,
      "outputs": []
    },
    {
      "cell_type": "markdown",
      "metadata": {
        "id": "VVqZh79eiFgF"
      },
      "source": [
        "#### Slicing\n",
        "\n",
        "We use the colon (`:`) to slice lists. "
      ]
    },
    {
      "cell_type": "code",
      "metadata": {
        "scrolled": true,
        "colab": {
          "base_uri": "https://localhost:8080/"
        },
        "id": "ud1duUKxiFgG",
        "outputId": "b23da317-f633-47ee-ba2f-ef44f465fe74"
      },
      "source": [
        "print(my_list[2:4])"
      ],
      "execution_count": 50,
      "outputs": [
        {
          "output_type": "stream",
          "text": [
            "['countrymen', 'lend']\n"
          ],
          "name": "stdout"
        }
      ]
    },
    {
      "cell_type": "code",
      "metadata": {
        "colab": {
          "base_uri": "https://localhost:8080/"
        },
        "id": "uZFWZU5P7LVD",
        "outputId": "5919ec35-5c83-4078-ff2c-66952dc85424"
      },
      "source": [
        "#ssalgado\n",
        "print (mi_lista[2:5])"
      ],
      "execution_count": 51,
      "outputs": [
        {
          "output_type": "stream",
          "text": [
            "['Manchester United', 'Arsenal', 'Liverpool']\n"
          ],
          "name": "stdout"
        }
      ]
    },
    {
      "cell_type": "markdown",
      "metadata": {
        "id": "h6t4phN3iFgG"
      },
      "source": [
        "Using `:` we can select a group of elements in the list starting from the first element indicated and going up to  (but not including) the last element indicated.\n",
        "\n",
        "We can also select everything after a certain point"
      ]
    },
    {
      "cell_type": "code",
      "metadata": {
        "scrolled": true,
        "colab": {
          "base_uri": "https://localhost:8080/"
        },
        "id": "yEyoq8THiFgH",
        "outputId": "9ebf62e7-bcf6-46e8-be43-e3316d952d1f"
      },
      "source": [
        "print (my_list[1:])"
      ],
      "execution_count": 52,
      "outputs": [
        {
          "output_type": "stream",
          "text": [
            "['romans', 'countrymen', 'lend', 'me', 'your', 'ears']\n"
          ],
          "name": "stdout"
        }
      ]
    },
    {
      "cell_type": "code",
      "metadata": {
        "colab": {
          "base_uri": "https://localhost:8080/"
        },
        "id": "BJwnqcke8EKs",
        "outputId": "04f9fd09-66ab-47a5-ef57-fad6901d7031"
      },
      "source": [
        "#ssalgado\n",
        "print (mi_lista[3:])"
      ],
      "execution_count": 53,
      "outputs": [
        {
          "output_type": "stream",
          "text": [
            "['Arsenal', 'Liverpool', 'Tottenham', 'Everton']\n"
          ],
          "name": "stdout"
        }
      ]
    },
    {
      "cell_type": "markdown",
      "metadata": {
        "id": "QyPwTsXiiFgH"
      },
      "source": [
        "And everything before a certain point"
      ]
    },
    {
      "cell_type": "code",
      "metadata": {
        "scrolled": true,
        "colab": {
          "base_uri": "https://localhost:8080/"
        },
        "id": "L9AKXUF3iFgH",
        "outputId": "12ebd9f8-cc7d-47f1-d91e-052ab2dd3fe8"
      },
      "source": [
        "print (my_list[:4])"
      ],
      "execution_count": 54,
      "outputs": [
        {
          "output_type": "stream",
          "text": [
            "['friends', 'romans', 'countrymen', 'lend']\n"
          ],
          "name": "stdout"
        }
      ]
    },
    {
      "cell_type": "code",
      "metadata": {
        "colab": {
          "base_uri": "https://localhost:8080/"
        },
        "id": "VJuVe5pQ_bkw",
        "outputId": "6523ae2e-3e60-429a-8849-85f8912444f5"
      },
      "source": [
        "#ssalgado\n",
        "print (mi_lista[:3])"
      ],
      "execution_count": 55,
      "outputs": [
        {
          "output_type": "stream",
          "text": [
            "['Chelsea', 'Manchester City', 'Manchester United']\n"
          ],
          "name": "stdout"
        }
      ]
    },
    {
      "cell_type": "markdown",
      "metadata": {
        "id": "l3xFzzr1iFgI"
      },
      "source": [
        "Using negative numbers will count from the end of the indices instead of from the beginning. For example, an index of `-1` indicates the last element of the list."
      ]
    },
    {
      "cell_type": "code",
      "metadata": {
        "colab": {
          "base_uri": "https://localhost:8080/"
        },
        "id": "RKf4TJ68iFgI",
        "outputId": "b1bd443a-a017-4924-bc0f-b896951ee5ac"
      },
      "source": [
        "print (my_list[-1])"
      ],
      "execution_count": 56,
      "outputs": [
        {
          "output_type": "stream",
          "text": [
            "ears\n"
          ],
          "name": "stdout"
        }
      ]
    },
    {
      "cell_type": "code",
      "metadata": {
        "colab": {
          "base_uri": "https://localhost:8080/"
        },
        "id": "BjOezBhEBbUK",
        "outputId": "b2c6b523-62b6-40d7-ad57-96390e3fb90a"
      },
      "source": [
        "#ssalgado\n",
        "print (mi_lista[-3])"
      ],
      "execution_count": 57,
      "outputs": [
        {
          "output_type": "stream",
          "text": [
            "Liverpool\n"
          ],
          "name": "stdout"
        }
      ]
    },
    {
      "cell_type": "markdown",
      "metadata": {
        "id": "aQCTzJ4ZiFgK"
      },
      "source": [
        "You can also add a third component to slicing. Instead of simply indicating the first and final parts of your slice, you can specify the step size that you want to take. So instead of taking every single element, you can take every other element."
      ]
    },
    {
      "cell_type": "code",
      "metadata": {
        "colab": {
          "base_uri": "https://localhost:8080/"
        },
        "id": "f7jd4HyxiFgK",
        "outputId": "062039ff-6db3-4dd3-944b-b1ff1f2f3758"
      },
      "source": [
        "print (my_list[0:7:2])"
      ],
      "execution_count": 58,
      "outputs": [
        {
          "output_type": "stream",
          "text": [
            "['friends', 'countrymen', 'me', 'ears']\n"
          ],
          "name": "stdout"
        }
      ]
    },
    {
      "cell_type": "code",
      "metadata": {
        "colab": {
          "base_uri": "https://localhost:8080/"
        },
        "id": "11c-qg9hETTy",
        "outputId": "bd55575d-d444-4a8e-f7f7-a468a1b0e668"
      },
      "source": [
        "#ssalgado\n",
        "print (mi_lista[0:6:2])"
      ],
      "execution_count": 59,
      "outputs": [
        {
          "output_type": "stream",
          "text": [
            "['Chelsea', 'Manchester United', 'Liverpool']\n"
          ],
          "name": "stdout"
        }
      ]
    },
    {
      "cell_type": "markdown",
      "metadata": {
        "id": "lmnF_dStiFgL"
      },
      "source": [
        "Here we have selected the entire list (because `0:7` will yield elements `0` through `6`) and we have selected a step size of `2`. So this will spit out element `0` , element `2`, element `4`, and so on through the list element selected. We can skip indicated the beginning and end of our slice, only indicating the step, if we like."
      ]
    },
    {
      "cell_type": "code",
      "metadata": {
        "colab": {
          "base_uri": "https://localhost:8080/"
        },
        "id": "i58NuyeciFgL",
        "outputId": "0186a9f3-829e-448e-d354-469d9e7af4d6"
      },
      "source": [
        "print (my_list[::2])"
      ],
      "execution_count": 60,
      "outputs": [
        {
          "output_type": "stream",
          "text": [
            "['friends', 'countrymen', 'me', 'ears']\n"
          ],
          "name": "stdout"
        }
      ]
    },
    {
      "cell_type": "code",
      "metadata": {
        "colab": {
          "base_uri": "https://localhost:8080/"
        },
        "id": "OGzombgSGKqp",
        "outputId": "ef63434f-cae6-4076-8c50-15fc809304b0"
      },
      "source": [
        "#ssalgado\n",
        "print (mi_lista[::3])"
      ],
      "execution_count": 61,
      "outputs": [
        {
          "output_type": "stream",
          "text": [
            "['Chelsea', 'Arsenal', 'Everton']\n"
          ],
          "name": "stdout"
        }
      ]
    },
    {
      "cell_type": "markdown",
      "metadata": {
        "id": "QIhR2MieiFgL"
      },
      "source": [
        "Lists implictly select the beginning and end of the list when not otherwise specified."
      ]
    },
    {
      "cell_type": "code",
      "metadata": {
        "colab": {
          "base_uri": "https://localhost:8080/"
        },
        "id": "GKqElwQziFgM",
        "outputId": "26595eea-aab7-40ef-ea3e-73df64cbdf06"
      },
      "source": [
        "print (my_list[:])"
      ],
      "execution_count": 62,
      "outputs": [
        {
          "output_type": "stream",
          "text": [
            "['friends', 'romans', 'countrymen', 'lend', 'me', 'your', 'ears']\n"
          ],
          "name": "stdout"
        }
      ]
    },
    {
      "cell_type": "code",
      "metadata": {
        "colab": {
          "base_uri": "https://localhost:8080/"
        },
        "id": "xllfUcBlG5sd",
        "outputId": "8c98a0b1-ea67-47bd-e9f2-8ec246eebba3"
      },
      "source": [
        "#ssalgado\n",
        "print (mi_lista[:])"
      ],
      "execution_count": 63,
      "outputs": [
        {
          "output_type": "stream",
          "text": [
            "['Chelsea', 'Manchester City', 'Manchester United', 'Arsenal', 'Liverpool', 'Tottenham', 'Everton']\n"
          ],
          "name": "stdout"
        }
      ]
    },
    {
      "cell_type": "markdown",
      "metadata": {
        "id": "sJUv7WwpiFgM"
      },
      "source": [
        "With a negative step size we can even reverse the list!"
      ]
    },
    {
      "cell_type": "code",
      "metadata": {
        "colab": {
          "base_uri": "https://localhost:8080/"
        },
        "id": "MJfW52JViFgN",
        "outputId": "9192422a-42c7-46ce-d2df-bb1d8763403e"
      },
      "source": [
        "print (my_list[::-1])"
      ],
      "execution_count": 64,
      "outputs": [
        {
          "output_type": "stream",
          "text": [
            "['ears', 'your', 'me', 'lend', 'countrymen', 'romans', 'friends']\n"
          ],
          "name": "stdout"
        }
      ]
    },
    {
      "cell_type": "code",
      "metadata": {
        "colab": {
          "base_uri": "https://localhost:8080/"
        },
        "id": "n9HTeKZFHSs0",
        "outputId": "90a8bbfa-bd2e-4d91-f5b1-af6f89a8a356"
      },
      "source": [
        "#ssalgado\n",
        "print (mi_lista[::-1])"
      ],
      "execution_count": 65,
      "outputs": [
        {
          "output_type": "stream",
          "text": [
            "['Everton', 'Tottenham', 'Liverpool', 'Arsenal', 'Manchester United', 'Manchester City', 'Chelsea']\n"
          ],
          "name": "stdout"
        }
      ]
    },
    {
      "cell_type": "markdown",
      "metadata": {
        "id": "cWeml5IPiFgN"
      },
      "source": [
        "Python does not have native matrices, but with lists we can produce a working fascimile. Other packages, such as `numpy`, add matrices as a separate data type, but in base Python the best way to create a matrix is to use a list of lists."
      ]
    },
    {
      "cell_type": "markdown",
      "metadata": {
        "id": "uzzKioECiFgO"
      },
      "source": [
        "We can also use built-in functions to generate lists. In particular we will look at `range()` (because we will be using it later!). Range can take several different inputs and will return a list."
      ]
    },
    {
      "cell_type": "code",
      "metadata": {
        "colab": {
          "base_uri": "https://localhost:8080/"
        },
        "id": "pc_qT24EiFgP",
        "outputId": "b4c4431c-8415-4739-dc65-612fcb711e3a"
      },
      "source": [
        "b = 10\n",
        "my_list = range(b)\n",
        "print (my_list)"
      ],
      "execution_count": 66,
      "outputs": [
        {
          "output_type": "stream",
          "text": [
            "range(0, 10)\n"
          ],
          "name": "stdout"
        }
      ]
    },
    {
      "cell_type": "code",
      "metadata": {
        "colab": {
          "base_uri": "https://localhost:8080/"
        },
        "id": "FhOi76qzHsfP",
        "outputId": "4f1ce982-a331-45ef-8c2d-07f425b200ec"
      },
      "source": [
        "#ssalgado\n",
        "c = 9\n",
        "mi_lista = range(c)\n",
        "print (mi_lista)"
      ],
      "execution_count": 67,
      "outputs": [
        {
          "output_type": "stream",
          "text": [
            "range(0, 9)\n"
          ],
          "name": "stdout"
        }
      ]
    },
    {
      "cell_type": "markdown",
      "metadata": {
        "id": "SMLJ0dVriFgP"
      },
      "source": [
        "Similar to our list-slicing methods from before, we can define both a start and an end for our range. This will return a list that is includes the start and excludes the end, just like a slice."
      ]
    },
    {
      "cell_type": "code",
      "metadata": {
        "id": "1gezEwzIiFgP",
        "colab": {
          "base_uri": "https://localhost:8080/"
        },
        "outputId": "833c8406-379f-4ac3-c761-880bbbe7ffb0"
      },
      "source": [
        "a = 0\n",
        "b = 10\n",
        "my_list = range(a, b)\n",
        "print (my_list)"
      ],
      "execution_count": 69,
      "outputs": [
        {
          "output_type": "stream",
          "text": [
            "range(0, 10)\n"
          ],
          "name": "stdout"
        }
      ]
    },
    {
      "cell_type": "markdown",
      "metadata": {
        "id": "_U_jrsJHiFgQ"
      },
      "source": [
        "We can also specify a step size. This again has the same behavior as a slice."
      ]
    },
    {
      "cell_type": "code",
      "metadata": {
        "scrolled": true,
        "colab": {
          "base_uri": "https://localhost:8080/"
        },
        "id": "Nc63qrNWiFgQ",
        "outputId": "8c0be5a6-fc25-4f4d-9246-1b60be196a96"
      },
      "source": [
        "a = 0\n",
        "b = 10\n",
        "step = 2\n",
        "my_list = range(a, b, step)\n",
        "print (my_list)"
      ],
      "execution_count": 70,
      "outputs": [
        {
          "output_type": "stream",
          "text": [
            "range(0, 10, 2)\n"
          ],
          "name": "stdout"
        }
      ]
    },
    {
      "cell_type": "code",
      "metadata": {
        "colab": {
          "base_uri": "https://localhost:8080/"
        },
        "id": "zpStk4hMIB1W",
        "outputId": "1607a7f8-e5c8-498d-93f3-1d218dbfa788"
      },
      "source": [
        "#ssalgado\n",
        "s=0\n",
        "t=9\n",
        "step=2\n",
        "mi_lista= range(s,t,step)\n",
        "print (mi_lista)"
      ],
      "execution_count": 71,
      "outputs": [
        {
          "output_type": "stream",
          "text": [
            "range(0, 9, 2)\n"
          ],
          "name": "stdout"
        }
      ]
    },
    {
      "cell_type": "markdown",
      "metadata": {
        "id": "yJm7YIX9iFgQ"
      },
      "source": [
        "### Tuples\n",
        "\n",
        "A `tuple` is a data type similar to a list in that it can hold different kinds of data types. The key difference here is that a `tuple` is immutable. We define a `tuple` by separating the elements we want to include by commas. It is conventional to surround a `tuple` with parentheses."
      ]
    },
    {
      "cell_type": "code",
      "metadata": {
        "colab": {
          "base_uri": "https://localhost:8080/"
        },
        "id": "30x5hxiliFgR",
        "outputId": "692be33b-3f78-4e16-d29e-0b015e45d0e7"
      },
      "source": [
        "my_tuple = 'I', 'have', 30, 'cats'\n",
        "print (my_tuple)"
      ],
      "execution_count": 72,
      "outputs": [
        {
          "output_type": "stream",
          "text": [
            "('I', 'have', 30, 'cats')\n"
          ],
          "name": "stdout"
        }
      ]
    },
    {
      "cell_type": "code",
      "metadata": {
        "colab": {
          "base_uri": "https://localhost:8080/"
        },
        "id": "W8fOK-pciFgR",
        "outputId": "bb3f122d-0cc5-43b2-974a-31725b57e5c7"
      },
      "source": [
        "my_tuple = ('I', 'have', 30, 'cats')\n",
        "print (my_tuple)"
      ],
      "execution_count": 73,
      "outputs": [
        {
          "output_type": "stream",
          "text": [
            "('I', 'have', 30, 'cats')\n"
          ],
          "name": "stdout"
        }
      ]
    },
    {
      "cell_type": "code",
      "metadata": {
        "colab": {
          "base_uri": "https://localhost:8080/"
        },
        "id": "aUJpN5DnIwxA",
        "outputId": "2c126e2e-6d59-431d-8ca8-9b763b3b56e7"
      },
      "source": [
        "#ssalgado\n",
        "mi_tupla = ('I', 'have', 20, 'dollars')\n",
        "print (mi_tupla)"
      ],
      "execution_count": 74,
      "outputs": [
        {
          "output_type": "stream",
          "text": [
            "('I', 'have', 20, 'dollars')\n"
          ],
          "name": "stdout"
        }
      ]
    },
    {
      "cell_type": "markdown",
      "metadata": {
        "id": "RyAjWp3QiFgR"
      },
      "source": [
        "As mentioned before, tuples are immutable. You can't change any part of them without defining a new tuple."
      ]
    },
    {
      "cell_type": "code",
      "metadata": {
        "colab": {
          "base_uri": "https://localhost:8080/",
          "height": 163
        },
        "id": "CAR_FBoZiFgS",
        "outputId": "87b013a5-9f22-4d7c-a114-69e60635e510"
      },
      "source": [
        "my_tuple[3] = 'dogs' # Attempts to change the 'cats' value stored in the the tuple to 'dogs' "
      ],
      "execution_count": 75,
      "outputs": [
        {
          "output_type": "error",
          "ename": "TypeError",
          "evalue": "ignored",
          "traceback": [
            "\u001b[0;31m---------------------------------------------------------------------------\u001b[0m",
            "\u001b[0;31mTypeError\u001b[0m                                 Traceback (most recent call last)",
            "\u001b[0;32m<ipython-input-75-e5ec2471e762>\u001b[0m in \u001b[0;36m<module>\u001b[0;34m()\u001b[0m\n\u001b[0;32m----> 1\u001b[0;31m \u001b[0mmy_tuple\u001b[0m\u001b[0;34m[\u001b[0m\u001b[0;36m3\u001b[0m\u001b[0;34m]\u001b[0m \u001b[0;34m=\u001b[0m \u001b[0;34m'dogs'\u001b[0m \u001b[0;31m# Attempts to change the 'cats' value stored in the the tuple to 'dogs'\u001b[0m\u001b[0;34m\u001b[0m\u001b[0;34m\u001b[0m\u001b[0m\n\u001b[0m",
            "\u001b[0;31mTypeError\u001b[0m: 'tuple' object does not support item assignment"
          ]
        }
      ]
    },
    {
      "cell_type": "markdown",
      "metadata": {
        "id": "dnBSoG2jiFgT"
      },
      "source": [
        "You can slice tuples the same way that you slice lists!"
      ]
    },
    {
      "cell_type": "code",
      "metadata": {
        "colab": {
          "base_uri": "https://localhost:8080/"
        },
        "id": "kdyxcMUWiFgT",
        "outputId": "766f7c5c-0d86-4451-c739-a57432c8d67a"
      },
      "source": [
        "print (my_tuple[1:3])"
      ],
      "execution_count": 76,
      "outputs": [
        {
          "output_type": "stream",
          "text": [
            "('have', 30)\n"
          ],
          "name": "stdout"
        }
      ]
    },
    {
      "cell_type": "code",
      "metadata": {
        "colab": {
          "base_uri": "https://localhost:8080/"
        },
        "id": "C4-VSvwYKb_e",
        "outputId": "de8c94d3-57e2-4534-d73c-c5ea5e36ee2a"
      },
      "source": [
        "#ssalgado\n",
        "print (mi_tupla[0:3])"
      ],
      "execution_count": 77,
      "outputs": [
        {
          "output_type": "stream",
          "text": [
            "('I', 'have', 20)\n"
          ],
          "name": "stdout"
        }
      ]
    },
    {
      "cell_type": "markdown",
      "metadata": {
        "id": "UCEFzbz4iFgT"
      },
      "source": [
        "And concatenate them the way that you would with strings!"
      ]
    },
    {
      "cell_type": "code",
      "metadata": {
        "colab": {
          "base_uri": "https://localhost:8080/"
        },
        "id": "kno9T5_LiFgU",
        "outputId": "a38743f8-f58f-42cb-d1dd-a02beadcbd06"
      },
      "source": [
        "my_other_tuple = ('make', 'that', 50)\n",
        "print (my_tuple + my_other_tuple)"
      ],
      "execution_count": 78,
      "outputs": [
        {
          "output_type": "stream",
          "text": [
            "('I', 'have', 30, 'cats', 'make', 'that', 50)\n"
          ],
          "name": "stdout"
        }
      ]
    },
    {
      "cell_type": "code",
      "metadata": {
        "colab": {
          "base_uri": "https://localhost:8080/"
        },
        "id": "7DNv4eFVMoSG",
        "outputId": "e5dd5e67-1ad8-4a15-f130-0c4a99b51e17"
      },
      "source": [
        "#ssalgado\n",
        "mi_tupla2 = ('in', 'my', 'pocket')\n",
        "print (mi_tupla+ mi_tupla2)"
      ],
      "execution_count": 79,
      "outputs": [
        {
          "output_type": "stream",
          "text": [
            "('I', 'have', 20, 'dollars', 'in', 'my', 'pocket')\n"
          ],
          "name": "stdout"
        }
      ]
    },
    {
      "cell_type": "markdown",
      "metadata": {
        "id": "jrrvr_XPiFgU"
      },
      "source": [
        "We can 'pack' values together, creating a tuple (as above), or we can 'unpack' values from a tuple, taking them out."
      ]
    },
    {
      "cell_type": "code",
      "metadata": {
        "colab": {
          "base_uri": "https://localhost:8080/"
        },
        "id": "qrh3Vf8tiFgU",
        "outputId": "d02bc4c6-2212-4b74-b009-2668db263121"
      },
      "source": [
        "str_1, str_2, int_1 = my_other_tuple\n",
        "print (str_1, str_2, int_1)"
      ],
      "execution_count": 80,
      "outputs": [
        {
          "output_type": "stream",
          "text": [
            "make that 50\n"
          ],
          "name": "stdout"
        }
      ]
    },
    {
      "cell_type": "code",
      "metadata": {
        "colab": {
          "base_uri": "https://localhost:8080/"
        },
        "id": "fsuPqFQdNRfU",
        "outputId": "bdb58f65-13d8-49f3-cec4-af50a6589ee5"
      },
      "source": [
        "#ssalgado\n",
        "str_1, str_2, str_3 =mi_tupla2\n",
        "print (str_1, str_2, str_3)"
      ],
      "execution_count": 81,
      "outputs": [
        {
          "output_type": "stream",
          "text": [
            "in my pocket\n"
          ],
          "name": "stdout"
        }
      ]
    },
    {
      "cell_type": "markdown",
      "metadata": {
        "id": "y0idkc7MiFgV"
      },
      "source": [
        "Unpacking assigns each value of the tuple in order to each variable on the left hand side of the equals sign. Some functions, including user-defined functions, may return tuples, so we can use this to directly unpack them and access the values that we want."
      ]
    },
    {
      "cell_type": "markdown",
      "metadata": {
        "id": "KVltKx6AiFgV"
      },
      "source": [
        "### Sets\n",
        "\n",
        "A `set` is a collection of unordered, unique elements. It works almost exactly as you would expect a normal set of things in mathematics to work and is defined using braces (`{}`)."
      ]
    },
    {
      "cell_type": "code",
      "metadata": {
        "colab": {
          "base_uri": "https://localhost:8080/"
        },
        "id": "2q580xGtiFgV",
        "outputId": "7c38c36d-333c-4163-ef00-c6cdba92513f"
      },
      "source": [
        "things_i_like = {'dogs', 7, 'the number 4', 4, 4, 4, 42, 'lizards', 'man I just LOVE the number 4'}\n",
        "print (things_i_like, type(things_i_like))"
      ],
      "execution_count": 82,
      "outputs": [
        {
          "output_type": "stream",
          "text": [
            "{'dogs', 4, 7, 'lizards', 42, 'man I just LOVE the number 4', 'the number 4'} <class 'set'>\n"
          ],
          "name": "stdout"
        }
      ]
    },
    {
      "cell_type": "code",
      "metadata": {
        "colab": {
          "base_uri": "https://localhost:8080/"
        },
        "id": "sQsbcqaAOQDW",
        "outputId": "2aa18be4-7897-473f-ae92-54cb8a730dc1"
      },
      "source": [
        "#ssalgado\n",
        "things_i_like2 = {'futbol', 3, 'the number 3', 3, 3, 3, 21, 'Chelsea', 'man I just LOVE the number 3'}\n",
        "print (things_i_like2, type(things_i_like2))"
      ],
      "execution_count": 83,
      "outputs": [
        {
          "output_type": "stream",
          "text": [
            "{3, 'the number 3', 'Chelsea', 21, 'man I just LOVE the number 3', 'futbol'} <class 'set'>\n"
          ],
          "name": "stdout"
        }
      ]
    },
    {
      "cell_type": "markdown",
      "metadata": {
        "id": "QeF19zWPiFgW"
      },
      "source": [
        "Note how any extra instances of the same item are removed in the final set. We can also create a `set` from a list, using the `set()` function."
      ]
    },
    {
      "cell_type": "code",
      "metadata": {
        "colab": {
          "base_uri": "https://localhost:8080/"
        },
        "id": "vLsiwKmriFgW",
        "outputId": "fd789697-2154-4c45-ca01-28c156c763d2"
      },
      "source": [
        "animal_list = ['cats', 'dogs', 'dogs', 'dogs', 'lizards', 'sponges', 'cows', 'bats', 'sponges']\n",
        "animal_set = set(animal_list)\n",
        "print (animal_set) # Removes all extra instances from the list"
      ],
      "execution_count": 84,
      "outputs": [
        {
          "output_type": "stream",
          "text": [
            "{'sponges', 'bats', 'dogs', 'cats', 'lizards', 'cows'}\n"
          ],
          "name": "stdout"
        }
      ]
    },
    {
      "cell_type": "code",
      "metadata": {
        "colab": {
          "base_uri": "https://localhost:8080/"
        },
        "id": "A0CT6aC6QFpE",
        "outputId": "6f733bff-3665-43de-e96b-90dfdd0f9544"
      },
      "source": [
        "#ssalgado\n",
        "team_list = ['Inter', 'Chelsea', 'PSG', 'Chelsea', 'Barcelona', 'Barcelona', 'Barcelona', 'PSG']\n",
        "team_set = set(team_list)\n",
        "print (team_set)"
      ],
      "execution_count": 85,
      "outputs": [
        {
          "output_type": "stream",
          "text": [
            "{'Chelsea', 'Inter', 'Barcelona', 'PSG'}\n"
          ],
          "name": "stdout"
        }
      ]
    },
    {
      "cell_type": "markdown",
      "metadata": {
        "id": "SuVRrq1ciFgW"
      },
      "source": [
        "Calling `len()` on a set will tell you how many elements are in it."
      ]
    },
    {
      "cell_type": "code",
      "metadata": {
        "colab": {
          "base_uri": "https://localhost:8080/"
        },
        "id": "c1x4VT_yiFgX",
        "outputId": "b9470834-d7bb-4cc5-b2a0-6dcaed08625b"
      },
      "source": [
        "print (len(animal_set))"
      ],
      "execution_count": 86,
      "outputs": [
        {
          "output_type": "stream",
          "text": [
            "6\n"
          ],
          "name": "stdout"
        }
      ]
    },
    {
      "cell_type": "code",
      "metadata": {
        "colab": {
          "base_uri": "https://localhost:8080/"
        },
        "id": "Fs9wd3pRSOgj",
        "outputId": "270d7671-4514-4339-84ed-eee7fbd29b84"
      },
      "source": [
        "#ssalgado\n",
        "print(len(team_set))"
      ],
      "execution_count": 87,
      "outputs": [
        {
          "output_type": "stream",
          "text": [
            "4\n"
          ],
          "name": "stdout"
        }
      ]
    },
    {
      "cell_type": "markdown",
      "metadata": {
        "id": "91Fpz8XviFgX"
      },
      "source": [
        "Because a `set` is unordered, we can't access individual elements using an index. We can, however, easily check for membership (to see if something is contained in a set) and take the unions and intersections of sets by using the built-in set functions."
      ]
    },
    {
      "cell_type": "code",
      "metadata": {
        "colab": {
          "base_uri": "https://localhost:8080/"
        },
        "id": "UbdMkh7fiFgY",
        "outputId": "a49b3b56-329e-4fb1-da85-5f859f23284f"
      },
      "source": [
        "'cats' in animal_set # Here we check for membership using the `in` keyword."
      ],
      "execution_count": 88,
      "outputs": [
        {
          "output_type": "execute_result",
          "data": {
            "text/plain": [
              "True"
            ]
          },
          "metadata": {
            "tags": []
          },
          "execution_count": 88
        }
      ]
    },
    {
      "cell_type": "code",
      "metadata": {
        "colab": {
          "base_uri": "https://localhost:8080/"
        },
        "id": "rS_aa_DESog3",
        "outputId": "bbbe0192-1b78-4353-b8fb-5d02e2be10d8"
      },
      "source": [
        "#ssalgado\n",
        "'Inter' in team_set"
      ],
      "execution_count": 89,
      "outputs": [
        {
          "output_type": "execute_result",
          "data": {
            "text/plain": [
              "True"
            ]
          },
          "metadata": {
            "tags": []
          },
          "execution_count": 89
        }
      ]
    },
    {
      "cell_type": "markdown",
      "metadata": {
        "id": "m71pOrVxiFgY"
      },
      "source": [
        "Here we checked to see whether the string 'cats' was contained within our `animal_set` and it returned `True`, telling us that it is indeed in our set.\n",
        "\n",
        "We can connect sets by using typical mathematical set operators, namely `|`, for union, and `&`, for intersection. Using `|` or `&` will return exactly what you would expect if you are familiar with sets in mathematics."
      ]
    },
    {
      "cell_type": "code",
      "metadata": {
        "colab": {
          "base_uri": "https://localhost:8080/"
        },
        "id": "t-sOKWheiFgY",
        "outputId": "99332827-1a6a-4f44-d0e8-d08ca6c82760"
      },
      "source": [
        "print (animal_set | things_i_like) # You can also write things_i_like | animal_set with no difference"
      ],
      "execution_count": 90,
      "outputs": [
        {
          "output_type": "stream",
          "text": [
            "{'sponges', 'bats', 'dogs', 'cats', 4, 7, 'lizards', 'cows', 42, 'man I just LOVE the number 4', 'the number 4'}\n"
          ],
          "name": "stdout"
        }
      ]
    },
    {
      "cell_type": "code",
      "metadata": {
        "colab": {
          "base_uri": "https://localhost:8080/"
        },
        "id": "o9ZpQjLLTLeT",
        "outputId": "532433c8-fe57-45c3-fc3a-c1873f3f8ebe"
      },
      "source": [
        "#ssalgado\n",
        "print(team_set | things_i_like2)"
      ],
      "execution_count": 91,
      "outputs": [
        {
          "output_type": "stream",
          "text": [
            "{'Barcelona', 'PSG', 3, 'the number 3', 'Inter', 'Chelsea', 21, 'man I just LOVE the number 3', 'futbol'}\n"
          ],
          "name": "stdout"
        }
      ]
    },
    {
      "cell_type": "markdown",
      "metadata": {
        "id": "pLZLUOa-iFgZ"
      },
      "source": [
        "Pairing two sets together with `|` combines the sets, removing any repetitions to make every set element unique."
      ]
    },
    {
      "cell_type": "code",
      "metadata": {
        "colab": {
          "base_uri": "https://localhost:8080/"
        },
        "id": "_4vpqezuiFgZ",
        "outputId": "c65394fc-87ad-415d-a0b3-276caa19a2df"
      },
      "source": [
        "print (animal_set & things_i_like) # You can also write things_i_like & animal_set with no difference\n"
      ],
      "execution_count": 92,
      "outputs": [
        {
          "output_type": "stream",
          "text": [
            "{'lizards', 'dogs'}\n"
          ],
          "name": "stdout"
        }
      ]
    },
    {
      "cell_type": "code",
      "metadata": {
        "colab": {
          "base_uri": "https://localhost:8080/"
        },
        "id": "EhLb5RvVTxS7",
        "outputId": "a7ce49b5-95ec-4412-b9fa-16037379ce95"
      },
      "source": [
        "#ssalgado\n",
        "print(team_set & things_i_like2)"
      ],
      "execution_count": 93,
      "outputs": [
        {
          "output_type": "stream",
          "text": [
            "{'Chelsea'}\n"
          ],
          "name": "stdout"
        }
      ]
    },
    {
      "cell_type": "markdown",
      "metadata": {
        "id": "2WQSD9O4iFgb"
      },
      "source": [
        "Pairing two sets together with `&` will calculate the intersection of both sets, returning a set that only contains what they have in common.\n",
        "\n",
        "If you are interested in learning more about the built-in functions for sets, feel free to check out the [documentation](https://docs.python.org/2/library/sets.html)."
      ]
    },
    {
      "cell_type": "markdown",
      "metadata": {
        "id": "w33VKx2jiFgb"
      },
      "source": [
        "### Dictionaries\n",
        "\n",
        "Another essential data structure in Python is the dictionary. Dictionaries are defined with a combination of curly braces (`{}`) and colons (`:`). The braces define the beginning and end of a dictionary and the colons indicate key-value pairs. A dictionary is essentially a set of key-value pairs. The key of any entry must be an immutable data type. This makes both strings and tuples candidates. Keys can be both added and deleted.\n",
        "\n",
        "In the following example, we have a dictionary composed of key-value pairs where the key is a genre of fiction (`string`) and the value is a list of books (`list`) within that genre. Since a collection is still considered a single entity, we can use one to collect multiple variables or values into one key-value pair."
      ]
    },
    {
      "cell_type": "code",
      "metadata": {
        "id": "ns9ptY2xiFgc"
      },
      "source": [
        "my_dict = {\"High Fantasy\": [\"Wheel of Time\", \"Lord of the Rings\"], \n",
        "           \"Sci-fi\": [\"Book of the New Sun\", \"Neuromancer\", \"Snow Crash\"],\n",
        "           \"Weird Fiction\": [\"At the Mountains of Madness\", \"The House on the Borderland\"]}"
      ],
      "execution_count": 94,
      "outputs": []
    },
    {
      "cell_type": "code",
      "metadata": {
        "id": "7AHuSBR4jkXO"
      },
      "source": [
        "#ssalgado\n",
        "mi_dict = {\"Eredivisie\": [\"Ajax\", \"PSV\"], \n",
        "           \"Premier League\": [\"Arsenal\", \"Chelsea\", \"Tottenham\"],\n",
        "           \"Serie A\": [\"Inter\", \"Juventus\"]}"
      ],
      "execution_count": 95,
      "outputs": []
    },
    {
      "cell_type": "markdown",
      "metadata": {
        "id": "uCxy1IfCiFgc"
      },
      "source": [
        "After defining a dictionary, we can access any individual value by indicating its key in brackets."
      ]
    },
    {
      "cell_type": "code",
      "metadata": {
        "colab": {
          "base_uri": "https://localhost:8080/"
        },
        "id": "M4rgKQKziFgd",
        "outputId": "a78d9d94-8004-4d78-8b93-88fb4e606f76"
      },
      "source": [
        "print (my_dict[\"Sci-fi\"])"
      ],
      "execution_count": 96,
      "outputs": [
        {
          "output_type": "stream",
          "text": [
            "['Book of the New Sun', 'Neuromancer', 'Snow Crash']\n"
          ],
          "name": "stdout"
        }
      ]
    },
    {
      "cell_type": "code",
      "metadata": {
        "colab": {
          "base_uri": "https://localhost:8080/"
        },
        "id": "LWGeNkOTkdu-",
        "outputId": "f847263f-2b43-4df3-e34f-957a4fc32cc2"
      },
      "source": [
        "#ssalgado\n",
        "print(mi_dict[\"Eredivisie\"])"
      ],
      "execution_count": 97,
      "outputs": [
        {
          "output_type": "stream",
          "text": [
            "['Ajax', 'PSV']\n"
          ],
          "name": "stdout"
        }
      ]
    },
    {
      "cell_type": "markdown",
      "metadata": {
        "id": "tNyeczp8iFgd"
      },
      "source": [
        "We can also change the value associated with a given key"
      ]
    },
    {
      "cell_type": "code",
      "metadata": {
        "colab": {
          "base_uri": "https://localhost:8080/"
        },
        "id": "GQZ-jrwTiFge",
        "outputId": "32306b28-da80-459c-882e-f024522d5080"
      },
      "source": [
        "my_dict[\"Sci-fi\"] = \"I can't read\"\n",
        "print (my_dict[\"Sci-fi\"])"
      ],
      "execution_count": 98,
      "outputs": [
        {
          "output_type": "stream",
          "text": [
            "I can't read\n"
          ],
          "name": "stdout"
        }
      ]
    },
    {
      "cell_type": "code",
      "metadata": {
        "colab": {
          "base_uri": "https://localhost:8080/"
        },
        "id": "MjIzqCfmkvRm",
        "outputId": "643f2fb1-2bc5-43ec-8f2b-e58f8c46f207"
      },
      "source": [
        "#ssalgado\n",
        "mi_dict[\"Eredivisie\"] = \"No teams\"\n",
        "print(mi_dict[\"Eredivisie\"])"
      ],
      "execution_count": 99,
      "outputs": [
        {
          "output_type": "stream",
          "text": [
            "No teams\n"
          ],
          "name": "stdout"
        }
      ]
    },
    {
      "cell_type": "markdown",
      "metadata": {
        "id": "_24nGJTPiFge"
      },
      "source": [
        "Adding a new key-value pair is as simple as defining it."
      ]
    },
    {
      "cell_type": "code",
      "metadata": {
        "colab": {
          "base_uri": "https://localhost:8080/"
        },
        "id": "9VPeotNqiFge",
        "outputId": "7513599e-2840-4abf-9157-dbb0f3b7bb71"
      },
      "source": [
        "my_dict[\"Historical Fiction\"] = [\"Pillars of the Earth\"]\n",
        "print (my_dict[\"Historical Fiction\"])"
      ],
      "execution_count": 100,
      "outputs": [
        {
          "output_type": "stream",
          "text": [
            "['Pillars of the Earth']\n"
          ],
          "name": "stdout"
        }
      ]
    },
    {
      "cell_type": "code",
      "metadata": {
        "colab": {
          "base_uri": "https://localhost:8080/"
        },
        "id": "B2ZA0hvBiFgf",
        "outputId": "7453e82b-e9a3-45fe-bf59-f076cfecc57e"
      },
      "source": [
        "print (my_dict)"
      ],
      "execution_count": 101,
      "outputs": [
        {
          "output_type": "stream",
          "text": [
            "{'High Fantasy': ['Wheel of Time', 'Lord of the Rings'], 'Sci-fi': \"I can't read\", 'Weird Fiction': ['At the Mountains of Madness', 'The House on the Borderland'], 'Historical Fiction': ['Pillars of the Earth']}\n"
          ],
          "name": "stdout"
        }
      ]
    },
    {
      "cell_type": "code",
      "metadata": {
        "colab": {
          "base_uri": "https://localhost:8080/"
        },
        "id": "iDQtWrXbpeTo",
        "outputId": "43f97911-a7cc-4518-9424-c9ed43ee1686"
      },
      "source": [
        "#ssalgado\n",
        "mi_dict[\"Bundesliga\"] = [\"Bayern Munich\"]\n",
        "print(mi_dict[\"Bundesliga\"])"
      ],
      "execution_count": 102,
      "outputs": [
        {
          "output_type": "stream",
          "text": [
            "['Bayern Munich']\n"
          ],
          "name": "stdout"
        }
      ]
    },
    {
      "cell_type": "code",
      "metadata": {
        "colab": {
          "base_uri": "https://localhost:8080/"
        },
        "id": "YYTtOyi0pynI",
        "outputId": "d5ee4af2-34ea-4baf-a954-0ada91c202c2"
      },
      "source": [
        "#ssalgado\n",
        "print (mi_dict)"
      ],
      "execution_count": 103,
      "outputs": [
        {
          "output_type": "stream",
          "text": [
            "{'Eredivisie': 'No teams', 'Premier League': ['Arsenal', 'Chelsea', 'Tottenham'], 'Serie A': ['Inter', 'Juventus'], 'Bundesliga': ['Bayern Munich']}\n"
          ],
          "name": "stdout"
        }
      ]
    },
    {
      "cell_type": "markdown",
      "metadata": {
        "id": "hAHzH-KFiFgf"
      },
      "source": [
        "## String Shenanigans\n",
        "\n",
        "We already know that strings are generally used for text. We can used built-in operations to combine, split, and format strings easily, depending on our needs.\n",
        "\n",
        "The `+` symbol indicates concatenation in string language. It will combine two strings into a longer string."
      ]
    },
    {
      "cell_type": "code",
      "metadata": {
        "colab": {
          "base_uri": "https://localhost:8080/"
        },
        "id": "y0shR4gbiFgg",
        "outputId": "97dd6de1-7b23-47eb-f6d0-9dea6241da2a"
      },
      "source": [
        "first_string = '\"Beware the Jabberwock, my son! /The jaws that bite, the claws that catch! /'\n",
        "second_string = 'Beware the Jubjub bird, and shun /The frumious Bandersnatch!\"/'\n",
        "third_string = first_string + second_string\n",
        "print (third_string)"
      ],
      "execution_count": 104,
      "outputs": [
        {
          "output_type": "stream",
          "text": [
            "\"Beware the Jabberwock, my son! /The jaws that bite, the claws that catch! /Beware the Jubjub bird, and shun /The frumious Bandersnatch!\"/\n"
          ],
          "name": "stdout"
        }
      ]
    },
    {
      "cell_type": "code",
      "metadata": {
        "colab": {
          "base_uri": "https://localhost:8080/"
        },
        "id": "1skpnPOiqESJ",
        "outputId": "32e7a3bf-0809-4756-bb4f-930bfb582c58"
      },
      "source": [
        "#ssalgado\n",
        "f_string = '\"I walk a lonely road'\n",
        "s_string = ' the only one I have ever known\" - Green Day'\n",
        "t_string = f_string + s_string\n",
        "print (t_string)"
      ],
      "execution_count": 105,
      "outputs": [
        {
          "output_type": "stream",
          "text": [
            "\"I walk a lonely road the only one I have ever known\" - Green Day\n"
          ],
          "name": "stdout"
        }
      ]
    },
    {
      "cell_type": "markdown",
      "metadata": {
        "id": "r6ArVYh7iFgg"
      },
      "source": [
        "Strings are also indexed much in the same way that lists are."
      ]
    },
    {
      "cell_type": "code",
      "metadata": {
        "colab": {
          "base_uri": "https://localhost:8080/"
        },
        "id": "JZkxqIgciFgg",
        "outputId": "1e169249-30f3-40ea-fe2e-ab4e043f8994"
      },
      "source": [
        "my_string = 'Supercalifragilisticexpialidocious'\n",
        "print ('The first letter is: ', my_string[0]) # Uppercase S\n",
        "print ('The last letter is: ', my_string[-1]) # lowercase s\n",
        "print ('The second to last letter is: ', my_string[-2]) # lowercase u\n",
        "print ('The first five characters are: ', my_string[0:5]) # Remember: slicing doesn't include the final element!\n",
        "print ('Reverse it!: ', my_string[::-1])"
      ],
      "execution_count": 106,
      "outputs": [
        {
          "output_type": "stream",
          "text": [
            "The first letter is:  S\n",
            "The last letter is:  s\n",
            "The second to last letter is:  u\n",
            "The first five characters are:  Super\n",
            "Reverse it!:  suoicodilaipxecitsiligarfilacrepuS\n"
          ],
          "name": "stdout"
        }
      ]
    },
    {
      "cell_type": "code",
      "metadata": {
        "colab": {
          "base_uri": "https://localhost:8080/"
        },
        "id": "uH-KikJurYwE",
        "outputId": "eab9eaec-3117-4e53-d282-fc8980493b21"
      },
      "source": [
        "#ssalgado\n",
        "mi_string = 'Millonarios'\n",
        "print ('The first letter is: ', mi_string[0]) # Uppercase M\n",
        "print ('The last letter is: ', mi_string[-1]) # lowercase s\n",
        "print ('The third to last letter is: ', mi_string[-3]) # lowercase i\n",
        "print ('The first five characters are: ', mi_string[0:5]) # Remember: slicing doesn't include the final element!\n",
        "print ('Reverse it!: ', mi_string[::-1])"
      ],
      "execution_count": 107,
      "outputs": [
        {
          "output_type": "stream",
          "text": [
            "The first letter is:  M\n",
            "The last letter is:  s\n",
            "The third to last letter is:  i\n",
            "The first five characters are:  Millo\n",
            "Reverse it!:  soiranolliM\n"
          ],
          "name": "stdout"
        }
      ]
    },
    {
      "cell_type": "markdown",
      "metadata": {
        "id": "C0e1T96SiFgh"
      },
      "source": [
        "Built-in objects and classes often have special functions associated with them that are called methods. We access these methods by using a period ('.'). We will cover objects and their associated methods more in another lecture!\n",
        "\n",
        "Using string methods we can count instances of a character or group of characters."
      ]
    },
    {
      "cell_type": "code",
      "metadata": {
        "scrolled": true,
        "colab": {
          "base_uri": "https://localhost:8080/"
        },
        "id": "AmErolHxiFgh",
        "outputId": "aa0dfc09-7593-4320-85c1-2a55e11843c3"
      },
      "source": [
        "print ('Count of the letter i in Supercalifragilisticexpialidocious: ', my_string.count('i'))\n",
        "print ('Count of \"li\" in the same word: ', my_string.count('li'))"
      ],
      "execution_count": 108,
      "outputs": [
        {
          "output_type": "stream",
          "text": [
            "Count of the letter i in Supercalifragilisticexpialidocious:  7\n",
            "Count of \"li\" in the same word:  3\n"
          ],
          "name": "stdout"
        }
      ]
    },
    {
      "cell_type": "code",
      "metadata": {
        "colab": {
          "base_uri": "https://localhost:8080/"
        },
        "id": "E9kWGF9DsTgG",
        "outputId": "ec5c3b97-a9ae-4acc-df7f-7027b1549c68"
      },
      "source": [
        "##ssalgado\n",
        "print ('Count the letter o i Millonarios: ', mi_string.count('o'))\n",
        "print ('Count of \"ri\" in Millonarios: ', mi_string.count('ri'))"
      ],
      "execution_count": 109,
      "outputs": [
        {
          "output_type": "stream",
          "text": [
            "Count the letter o i Millonarios:  2\n",
            "Count of \"ri\" in Millonarios:  1\n"
          ],
          "name": "stdout"
        }
      ]
    },
    {
      "cell_type": "markdown",
      "metadata": {
        "id": "oryA8zEaiFgi"
      },
      "source": [
        "We can also find the first instance of a character or group of characters in a string."
      ]
    },
    {
      "cell_type": "code",
      "metadata": {
        "colab": {
          "base_uri": "https://localhost:8080/"
        },
        "id": "svf2ivm4iFgi",
        "outputId": "1bc7a3c7-71af-4588-f7b9-325a5d6ced51"
      },
      "source": [
        "print ('The first time i appears is at index: ', my_string.find('i'))"
      ],
      "execution_count": 110,
      "outputs": [
        {
          "output_type": "stream",
          "text": [
            "The first time i appears is at index:  8\n"
          ],
          "name": "stdout"
        }
      ]
    },
    {
      "cell_type": "code",
      "metadata": {
        "colab": {
          "base_uri": "https://localhost:8080/"
        },
        "id": "7iIAfHuws9Sj",
        "outputId": "c1e27ddc-2960-4d5f-a513-0d215385a3a1"
      },
      "source": [
        "#ssalgado\n",
        "print ('The first time i appears is at index: ', mi_string.find('i'))"
      ],
      "execution_count": 111,
      "outputs": [
        {
          "output_type": "stream",
          "text": [
            "The first time i appears is at index:  1\n"
          ],
          "name": "stdout"
        }
      ]
    },
    {
      "cell_type": "markdown",
      "metadata": {
        "id": "-yeekyoSiFgj"
      },
      "source": [
        "As well as replace characters in a string."
      ]
    },
    {
      "cell_type": "code",
      "metadata": {
        "colab": {
          "base_uri": "https://localhost:8080/"
        },
        "id": "xqbFlMmeiFgj",
        "outputId": "8d1a1000-8bf9-4484-dbe4-57c4afe5cc89"
      },
      "source": [
        "print (\"All i's are now a's: \", my_string.replace('i', 'a'))"
      ],
      "execution_count": 112,
      "outputs": [
        {
          "output_type": "stream",
          "text": [
            "All i's are now a's:  Supercalafragalastacexpaaladocaous\n"
          ],
          "name": "stdout"
        }
      ]
    },
    {
      "cell_type": "code",
      "metadata": {
        "colab": {
          "base_uri": "https://localhost:8080/"
        },
        "id": "N5staTTqtVQ7",
        "outputId": "eca3ebbc-bc53-4bcd-e906-408eaada29eb"
      },
      "source": [
        "#ssalgado\n",
        "print (\"All o's are now a's: \", mi_string.replace('o', 'a'))"
      ],
      "execution_count": 113,
      "outputs": [
        {
          "output_type": "stream",
          "text": [
            "All o's are now a's:  Millanarias\n"
          ],
          "name": "stdout"
        }
      ]
    },
    {
      "cell_type": "code",
      "metadata": {
        "colab": {
          "base_uri": "https://localhost:8080/"
        },
        "id": "oBmNaO5JiFgj",
        "outputId": "55a6721f-26ac-4f46-f9b2-4129d27cf6b7"
      },
      "source": [
        "print (\"It's raining cats and dogs\".replace('dogs', 'more cats'))"
      ],
      "execution_count": 114,
      "outputs": [
        {
          "output_type": "stream",
          "text": [
            "It's raining cats and more cats\n"
          ],
          "name": "stdout"
        }
      ]
    },
    {
      "cell_type": "code",
      "metadata": {
        "colab": {
          "base_uri": "https://localhost:8080/"
        },
        "id": "klqjpWM6tlRF",
        "outputId": "c2b9835e-131d-48f8-94b6-127fd9663eb9"
      },
      "source": [
        "#ssalgado\n",
        "print (\"I want to buy a car\". replace('car', 'plane'))"
      ],
      "execution_count": 115,
      "outputs": [
        {
          "output_type": "stream",
          "text": [
            "I want to buy a plane\n"
          ],
          "name": "stdout"
        }
      ]
    },
    {
      "cell_type": "markdown",
      "metadata": {
        "id": "mteGukCLiFgk"
      },
      "source": [
        "There are also some methods that are unique to strings. The function `upper()` will convert all characters in a string to uppercase, while `lower()` will convert all characters in a string to lowercase!"
      ]
    },
    {
      "cell_type": "code",
      "metadata": {
        "colab": {
          "base_uri": "https://localhost:8080/"
        },
        "id": "or9olcsMiFgk",
        "outputId": "44d4f369-5b17-486d-a4a1-7a5fa4e3bb80"
      },
      "source": [
        "my_string = \"I can't hear you\"\n",
        "print (my_string.upper())\n",
        "my_string = \"I said HELLO\"\n",
        "print (my_string.lower())"
      ],
      "execution_count": 116,
      "outputs": [
        {
          "output_type": "stream",
          "text": [
            "I CAN'T HEAR YOU\n",
            "i said hello\n"
          ],
          "name": "stdout"
        }
      ]
    },
    {
      "cell_type": "code",
      "metadata": {
        "colab": {
          "base_uri": "https://localhost:8080/"
        },
        "id": "-TAK0zNVuJET",
        "outputId": "f33f8b79-8922-414a-ad94-a56957f43b5d"
      },
      "source": [
        "#ssalgado\n",
        "my_string2 = \"I will be watching TV\"\n",
        "print (my_string2.upper())\n",
        "my_string2 = \"I shouted  COME ON\"\n",
        "print (my_string2.lower())"
      ],
      "execution_count": 117,
      "outputs": [
        {
          "output_type": "stream",
          "text": [
            "I WILL BE WATCHING TV\n",
            "i shouted  come on\n"
          ],
          "name": "stdout"
        }
      ]
    },
    {
      "cell_type": "markdown",
      "metadata": {
        "id": "Rxv562RuiFg3"
      },
      "source": [
        "### String Formatting\n",
        "\n",
        "Using the `format()` method we can add in variable values and generally format our strings."
      ]
    },
    {
      "cell_type": "code",
      "metadata": {
        "colab": {
          "base_uri": "https://localhost:8080/"
        },
        "id": "fTlJb9NriFg4",
        "outputId": "ef65b223-ff30-41da-ac38-baa991c309ba"
      },
      "source": [
        "my_string = \"{0} {1}\".format('Marco', 'Polo')\n",
        "print (my_string)"
      ],
      "execution_count": 118,
      "outputs": [
        {
          "output_type": "stream",
          "text": [
            "Marco Polo\n"
          ],
          "name": "stdout"
        }
      ]
    },
    {
      "cell_type": "code",
      "metadata": {
        "colab": {
          "base_uri": "https://localhost:8080/"
        },
        "id": "tNY2L6iziFg4",
        "outputId": "53d4dfad-1b74-4e8d-cdf6-aa9704a53321"
      },
      "source": [
        "my_string = \"{1} {0}\".format('Marco', 'Polo')\n",
        "print (my_string)"
      ],
      "execution_count": 119,
      "outputs": [
        {
          "output_type": "stream",
          "text": [
            "Polo Marco\n"
          ],
          "name": "stdout"
        }
      ]
    },
    {
      "cell_type": "code",
      "metadata": {
        "colab": {
          "base_uri": "https://localhost:8080/"
        },
        "id": "VatDM8p3utPs",
        "outputId": "3067d0bc-21a3-445b-e2c1-bec949782212"
      },
      "source": [
        "#ssalgado\n",
        "nombre = \"{0} {1}\".format('Samuel', 'Salgado')\n",
        "print (nombre)"
      ],
      "execution_count": 120,
      "outputs": [
        {
          "output_type": "stream",
          "text": [
            "Samuel Salgado\n"
          ],
          "name": "stdout"
        }
      ]
    },
    {
      "cell_type": "code",
      "metadata": {
        "colab": {
          "base_uri": "https://localhost:8080/"
        },
        "id": "GMVS5uxHvFtR",
        "outputId": "72639f7f-b29b-4b66-a84f-ee3ade6cd421"
      },
      "source": [
        "#ssalgado\n",
        "nombre = \"{1} {0}\".format('Samuel', 'Salgado')\n",
        "print (nombre)"
      ],
      "execution_count": 121,
      "outputs": [
        {
          "output_type": "stream",
          "text": [
            "Salgado Samuel\n"
          ],
          "name": "stdout"
        }
      ]
    },
    {
      "cell_type": "markdown",
      "metadata": {
        "id": "J6F376vkiFhC"
      },
      "source": [
        "We use braces (`{}`) to indicate parts of the string that will be filled in later and we use the arguments of the `format()` function to provide the values to substitute. The numbers within the braces indicate the index of the value in the `format()` arguments."
      ]
    },
    {
      "cell_type": "markdown",
      "metadata": {
        "id": "ZJGja675iFhD"
      },
      "source": [
        "See the `format()` [documentation](https://docs.python.org/2/library/string.html#format-examples) for additional examples."
      ]
    },
    {
      "cell_type": "markdown",
      "metadata": {
        "id": "82AjZmJCiFhD"
      },
      "source": [
        "If you need some quick and dirty formatting, you can instead use the `%` symbol, called the string formatting operator. "
      ]
    },
    {
      "cell_type": "code",
      "metadata": {
        "colab": {
          "base_uri": "https://localhost:8080/"
        },
        "id": "PQ0ESxYwiFhc",
        "outputId": "37d73199-0289-4071-c137-f6dfe78e8557"
      },
      "source": [
        "print ('insert %s here' % 'value')"
      ],
      "execution_count": 122,
      "outputs": [
        {
          "output_type": "stream",
          "text": [
            "insert value here\n"
          ],
          "name": "stdout"
        }
      ]
    },
    {
      "cell_type": "code",
      "metadata": {
        "colab": {
          "base_uri": "https://localhost:8080/"
        },
        "id": "LpahYkYmvfCo",
        "outputId": "9fe4a819-dec4-4d2b-fc68-5809ee6cd01c"
      },
      "source": [
        "#ssalgado\n",
        "print ('insert %s here' % 'data')"
      ],
      "execution_count": 123,
      "outputs": [
        {
          "output_type": "stream",
          "text": [
            "insert data here\n"
          ],
          "name": "stdout"
        }
      ]
    },
    {
      "cell_type": "markdown",
      "metadata": {
        "id": "qAp5iwaTiFhd"
      },
      "source": [
        "The `%` symbol basically cues Python to create a placeholder. Whatever character follows the `%` (in the string) indicates what sort of type the value put into the placeholder will have. This character is called a *conversion type*. Once the string has been closed, we need another `%` that will be followed by the values to insert. In the case of one value, you can just put it there. If you are inserting more than one value, they must be enclosed in a tuple."
      ]
    },
    {
      "cell_type": "code",
      "metadata": {
        "colab": {
          "base_uri": "https://localhost:8080/"
        },
        "id": "j3VL072KiFhe",
        "outputId": "9d5fa99a-b0a9-45eb-d461-e727ba79f07a"
      },
      "source": [
        "print ('There are %s cats in my %s' % (13, 'apartment'))"
      ],
      "execution_count": 124,
      "outputs": [
        {
          "output_type": "stream",
          "text": [
            "There are 13 cats in my apartment\n"
          ],
          "name": "stdout"
        }
      ]
    },
    {
      "cell_type": "code",
      "metadata": {
        "colab": {
          "base_uri": "https://localhost:8080/"
        },
        "id": "xmVOJiD4wajG",
        "outputId": "bbba3a85-7d6f-4008-efcd-f265959f8863"
      },
      "source": [
        "#ssalgado\n",
        "print(\"We must score %s goals to win the %s\" % (5, 'tournament'))"
      ],
      "execution_count": 125,
      "outputs": [
        {
          "output_type": "stream",
          "text": [
            "We must score 5 goals to win the tournament\n"
          ],
          "name": "stdout"
        }
      ]
    },
    {
      "cell_type": "markdown",
      "metadata": {
        "id": "sJHkNxmBiFhf"
      },
      "source": [
        "In these examples, the `%s` indicates that Python should convert the values into strings. There are multiple conversion types that you can use to get more specific with the the formatting. See the string formatting [documentation](https://docs.python.org/2/library/stdtypes.html#string-formatting) for additional examples and more complete details on use."
      ]
    },
    {
      "cell_type": "markdown",
      "metadata": {
        "id": "C0TN9TvXiFhg"
      },
      "source": [
        "## Logical Operators\n",
        "### Basic Logic\n",
        "\n",
        "Logical operators deal with `boolean` values, as we briefly covered before. If you recall, a `bool` takes on one of two values, `True` or `False` (or $1$ or $0$). The basic logical statements that we can make are defined using the built-in comparators. These are `==` (equal), `!=` (not equal), `<` (less than), `>` (greater than), `<=` (less than or equal to), and `>=` (greater than or equal to)."
      ]
    },
    {
      "cell_type": "markdown",
      "metadata": {
        "id": "DA7EMwk_cWfZ"
      },
      "source": [
        "The logical operators we can use are\n",
        "\n",
        "$=, !=, <, >, \\leq and \\geq$"
      ]
    },
    {
      "cell_type": "code",
      "metadata": {
        "colab": {
          "base_uri": "https://localhost:8080/"
        },
        "id": "KHK4F3pSiFhg",
        "outputId": "81cd809d-dd20-47b5-fb38-fe290abab6b4"
      },
      "source": [
        "print (5 == 5)"
      ],
      "execution_count": 126,
      "outputs": [
        {
          "output_type": "stream",
          "text": [
            "True\n"
          ],
          "name": "stdout"
        }
      ]
    },
    {
      "cell_type": "code",
      "metadata": {
        "colab": {
          "base_uri": "https://localhost:8080/"
        },
        "id": "yDNB2Qrgw4f1",
        "outputId": "91432467-3136-49e8-fa3e-ca1474ef993a"
      },
      "source": [
        "#ssalgado\n",
        "print (199 == 199)"
      ],
      "execution_count": 127,
      "outputs": [
        {
          "output_type": "stream",
          "text": [
            "True\n"
          ],
          "name": "stdout"
        }
      ]
    },
    {
      "cell_type": "code",
      "metadata": {
        "colab": {
          "base_uri": "https://localhost:8080/"
        },
        "id": "8p9NG_VXiFhj",
        "outputId": "e9152c06-27aa-4652-d1b1-5472453c149f"
      },
      "source": [
        "print (5 > 5)"
      ],
      "execution_count": 128,
      "outputs": [
        {
          "output_type": "stream",
          "text": [
            "False\n"
          ],
          "name": "stdout"
        }
      ]
    },
    {
      "cell_type": "code",
      "metadata": {
        "colab": {
          "base_uri": "https://localhost:8080/"
        },
        "id": "NFkyoFemxASR",
        "outputId": "20c3923b-04b0-4ccc-e3c5-e8bfe1364303"
      },
      "source": [
        "#ssalgado\n",
        "print (199 > 199)"
      ],
      "execution_count": 129,
      "outputs": [
        {
          "output_type": "stream",
          "text": [
            "False\n"
          ],
          "name": "stdout"
        }
      ]
    },
    {
      "cell_type": "markdown",
      "metadata": {
        "id": "PpL-9AeXiFhk"
      },
      "source": [
        "These comparators also work in conjunction with variables."
      ]
    },
    {
      "cell_type": "code",
      "metadata": {
        "colab": {
          "base_uri": "https://localhost:8080/"
        },
        "id": "aBQpV8uNiFhk",
        "outputId": "e9942b38-7793-4edf-bf57-99e1894e5455"
      },
      "source": [
        "m = 2\n",
        "n = 23\n",
        "print (m < n)"
      ],
      "execution_count": 130,
      "outputs": [
        {
          "output_type": "stream",
          "text": [
            "True\n"
          ],
          "name": "stdout"
        }
      ]
    },
    {
      "cell_type": "code",
      "metadata": {
        "colab": {
          "base_uri": "https://localhost:8080/"
        },
        "id": "XaPwu0LrxJle",
        "outputId": "06ed7f6e-8c14-43af-e4aa-f4a10543ac94"
      },
      "source": [
        "#ssalgado\n",
        "x = 46\n",
        "y = 13\n",
        "print (x < y)"
      ],
      "execution_count": 131,
      "outputs": [
        {
          "output_type": "stream",
          "text": [
            "False\n"
          ],
          "name": "stdout"
        }
      ]
    },
    {
      "cell_type": "markdown",
      "metadata": {
        "id": "cs7FIlAMiFhl"
      },
      "source": [
        "We can string these comparators together to make more complex logical statements using the logical operators `or`, `and`, and `not`. "
      ]
    },
    {
      "cell_type": "code",
      "metadata": {
        "colab": {
          "base_uri": "https://localhost:8080/"
        },
        "id": "EuRHs3sqiFhm",
        "outputId": "f079fea6-4f05-481f-ceb3-6b273da745bd"
      },
      "source": [
        "statement_1 = 10 > 2\n",
        "statement_2 = 4 <= 6\n",
        "print (\"Statement 1 truth value: {0}\".format(statement_1))\n",
        "print (\"Statement 2 truth value: {0}\".format(statement_2))\n",
        "print (\"Statement 1 and Statement 2: {0}\".format(statement_1 and statement_2))"
      ],
      "execution_count": 132,
      "outputs": [
        {
          "output_type": "stream",
          "text": [
            "Statement 1 truth value: True\n",
            "Statement 2 truth value: True\n",
            "Statement 1 and Statement 2: True\n"
          ],
          "name": "stdout"
        }
      ]
    },
    {
      "cell_type": "code",
      "metadata": {
        "colab": {
          "base_uri": "https://localhost:8080/"
        },
        "id": "BVyr_axPx1UV",
        "outputId": "542138cd-06bd-4cc8-ca8a-4d1ba75475ab"
      },
      "source": [
        "#ssalgado\n",
        "statement_1 = 16 > 59\n",
        "statement_2 = 4 <= 6\n",
        "print (\"Statement 1 truth value: {0}\".format(statement_1))\n",
        "print (\"Statement 2 truth value: {0}\".format(statement_2))\n",
        "print (\"Statement 1 or Statement 2: {0}\".format(statement_1 or statement_2))"
      ],
      "execution_count": 133,
      "outputs": [
        {
          "output_type": "stream",
          "text": [
            "Statement 1 truth value: False\n",
            "Statement 2 truth value: True\n",
            "Statement 1 or Statement 2: True\n"
          ],
          "name": "stdout"
        }
      ]
    },
    {
      "cell_type": "markdown",
      "metadata": {
        "id": "7keZuvvWiFhn"
      },
      "source": [
        "The `or` operator performs a logical `or` calculation. This is an inclusive `or`, so if either component paired together by `or` is `True`, the whole statement will be `True`. The `and` statement only outputs `True` if all components that are `and`ed together are True. Otherwise it will output `False`. The `not` statement simply inverts the truth value of whichever statement follows it. So a `True` statement will be evaluated as `False` when a `not` is placed in front of it. Similarly, a `False` statement will become `True` when a `not` is in front of it.\n",
        "\n",
        "Say that we have two logical statements, or assertions, $P$ and $Q$. The truth table for the basic logical operators is as follows:\n",
        "\n",
        "|  P  |  Q  | `not` P| P `and` Q | P `or` Q|\n",
        "|:-----:|:-----:|:---:|:---:|:---:|\n",
        "| `True` | `True` | `False` | `True` | `True` |\n",
        "| `False` | `True` | `True` | `False` | `True` |\n",
        "| `True` | `False` | `False` | `False` | `True` |\n",
        "| `False` | `False` | `True` | `False` | `False` |\n",
        "\n",
        "We can string multiple logical statements together using the logical operators."
      ]
    },
    {
      "cell_type": "code",
      "metadata": {
        "colab": {
          "base_uri": "https://localhost:8080/"
        },
        "id": "DllvQZkpiFho",
        "outputId": "d49279f9-1e07-4c08-9f7c-a55d43905588"
      },
      "source": [
        "print (((2 < 3) and (3 > 0)) or ((5 > 6) and not (4 < 2)))"
      ],
      "execution_count": 134,
      "outputs": [
        {
          "output_type": "stream",
          "text": [
            "True\n"
          ],
          "name": "stdout"
        }
      ]
    },
    {
      "cell_type": "code",
      "metadata": {
        "colab": {
          "base_uri": "https://localhost:8080/"
        },
        "id": "mfy_qvBSypn1",
        "outputId": "0a704378-4dbc-41e4-8983-fe2a74bcae4a"
      },
      "source": [
        "#ssalgado\n",
        "print (((8 <= 8) and (14 < 0)) and ((7 > 6) or not (4 < 2)))"
      ],
      "execution_count": 135,
      "outputs": [
        {
          "output_type": "stream",
          "text": [
            "False\n"
          ],
          "name": "stdout"
        }
      ]
    },
    {
      "cell_type": "markdown",
      "metadata": {
        "id": "DQtQ2RFRiFh0"
      },
      "source": [
        "Logical statements can be as simple or complex as we like, depending on what we need to express. Evaluating the above logical statement step by step we see that we are evaluating (`True and True`) `or` (`False and not False`). This becomes `True or (False and True`), subsequently becoming `True or False`, ultimately being evaluated as `True`."
      ]
    },
    {
      "cell_type": "markdown",
      "metadata": {
        "id": "e4eVh667iFh0"
      },
      "source": [
        "#### Truthiness\n",
        "\n",
        "Data types in Python have a fun characteristic called truthiness. What this means is that most built-in types will evaluate as either `True` or `False` when a boolean value is needed (such as with an if-statement). As a general rule, containers like strings, tuples, dictionaries, lists, and sets, will return `True` if they contain anything at all and `False` if they contain nothing."
      ]
    },
    {
      "cell_type": "code",
      "metadata": {
        "colab": {
          "base_uri": "https://localhost:8080/"
        },
        "id": "TCbWKQdWiFh1",
        "outputId": "85b94268-7767-4932-aacb-4ee48e9ef459"
      },
      "source": [
        "# Similar to how float() and int() work, bool() forces a value to be considered a boolean!\n",
        "print (bool(''))"
      ],
      "execution_count": 136,
      "outputs": [
        {
          "output_type": "stream",
          "text": [
            "False\n"
          ],
          "name": "stdout"
        }
      ]
    },
    {
      "cell_type": "code",
      "metadata": {
        "colab": {
          "base_uri": "https://localhost:8080/"
        },
        "id": "lgISNJ1RzUOZ",
        "outputId": "afcafb27-58bd-4a05-951b-e3f24c075c98"
      },
      "source": [
        "#ssalgado\n",
        "print (bool())"
      ],
      "execution_count": 137,
      "outputs": [
        {
          "output_type": "stream",
          "text": [
            "False\n"
          ],
          "name": "stdout"
        }
      ]
    },
    {
      "cell_type": "code",
      "metadata": {
        "colab": {
          "base_uri": "https://localhost:8080/"
        },
        "id": "INclhxdpiFh1",
        "outputId": "9b885a66-1eb6-4eef-968d-167cecaaa6ab"
      },
      "source": [
        "print (bool('I have character!'))"
      ],
      "execution_count": 138,
      "outputs": [
        {
          "output_type": "stream",
          "text": [
            "True\n"
          ],
          "name": "stdout"
        }
      ]
    },
    {
      "cell_type": "code",
      "metadata": {
        "colab": {
          "base_uri": "https://localhost:8080/"
        },
        "id": "X2C_XHbizaLa",
        "outputId": "f6fb0ef7-7bcc-4016-bda4-4353c9a1ee35"
      },
      "source": [
        "#ssalgado\n",
        "print (bool('Hello'))"
      ],
      "execution_count": 139,
      "outputs": [
        {
          "output_type": "stream",
          "text": [
            "True\n"
          ],
          "name": "stdout"
        }
      ]
    },
    {
      "cell_type": "code",
      "metadata": {
        "colab": {
          "base_uri": "https://localhost:8080/"
        },
        "id": "ACUEzF1liFh1",
        "outputId": "5ae31897-ea3f-4ecb-d9b3-8ba4872a8d8b"
      },
      "source": [
        "print (bool([]))"
      ],
      "execution_count": 140,
      "outputs": [
        {
          "output_type": "stream",
          "text": [
            "False\n"
          ],
          "name": "stdout"
        }
      ]
    },
    {
      "cell_type": "code",
      "metadata": {
        "colab": {
          "base_uri": "https://localhost:8080/"
        },
        "id": "zvPHfaPYzt0s",
        "outputId": "c9f372a7-58bb-4102-ff1c-c5b200ef4425"
      },
      "source": [
        "#ssalgado\n",
        "print (bool([\"\"]))"
      ],
      "execution_count": 141,
      "outputs": [
        {
          "output_type": "stream",
          "text": [
            "True\n"
          ],
          "name": "stdout"
        }
      ]
    },
    {
      "cell_type": "code",
      "metadata": {
        "colab": {
          "base_uri": "https://localhost:8080/"
        },
        "id": "r2MTkOwNiFh2",
        "outputId": "7dd10469-2a47-4ae4-a993-d86624c7d6c9"
      },
      "source": [
        "print (bool([1, 2, 3]))"
      ],
      "execution_count": 142,
      "outputs": [
        {
          "output_type": "stream",
          "text": [
            "True\n"
          ],
          "name": "stdout"
        }
      ]
    },
    {
      "cell_type": "markdown",
      "metadata": {
        "id": "XEaQyTEFiFh2"
      },
      "source": [
        "And so on, for the other collections and containers. `None` also evaluates as `False`. The number `1` is equivalent to `True` and the number `0` is equivalent to `False` as well, in a boolean context."
      ]
    },
    {
      "cell_type": "markdown",
      "metadata": {
        "id": "O8jUjDwGiFh3"
      },
      "source": [
        "### If-statements\n",
        "\n",
        "We can create segments of code that only execute if a set of conditions is met. We use if-statements in conjunction with logical statements in order to create branches in our code. \n",
        "\n",
        "An `if` block gets entered when the condition is considered to be `True`. If condition is evaluated as `False`, the `if` block will simply be skipped unless there is an `else` block to accompany it. Conditions are made using either logical operators or by using the truthiness of values in Python. An if-statement is defined with a colon and a block of indented text."
      ]
    },
    {
      "cell_type": "code",
      "metadata": {
        "colab": {
          "base_uri": "https://localhost:8080/"
        },
        "id": "eU0fw5yNiFh3",
        "outputId": "8167119e-08aa-4197-d8a7-c7072fb97114"
      },
      "source": [
        "# This is the basic format of an if statement. This is a vacuous example. \n",
        "# The string \"Condition\" will always evaluated as True because it is a\n",
        "# non-empty string. he purpose of this code is to show the formatting of\n",
        "# an if-statement.\n",
        "if \"Condition\": \n",
        "    # This block of code will execute because the string is non-empty\n",
        "    # Everything on these indented lines\n",
        "    print (True)\n",
        "else:\n",
        "    # So if the condition that we examined with if is in fact False\n",
        "    # This block of code will execute INSTEAD of the first block of code\n",
        "    # Everything on these indented lines\n",
        "    print (False)\n",
        "# The else block here will never execute because \"Condition\" is a non-empty string."
      ],
      "execution_count": 143,
      "outputs": [
        {
          "output_type": "stream",
          "text": [
            "True\n"
          ],
          "name": "stdout"
        }
      ]
    },
    {
      "cell_type": "code",
      "metadata": {
        "id": "51oFLpYJiFh3"
      },
      "source": [
        "i = 4\n",
        "if i == 5:\n",
        "    print ('The variable i has a value of 5')"
      ],
      "execution_count": 144,
      "outputs": []
    },
    {
      "cell_type": "markdown",
      "metadata": {
        "id": "BcDUAqPTiFh4"
      },
      "source": [
        "Because in this example `i = 4` and the if-statement is only looking for whether `i` is equal to `5`, the print statement will never be executed. We can add in an `else` statement to create a contingency block of code in case the condition in the if-statement is not evaluated as `True`."
      ]
    },
    {
      "cell_type": "code",
      "metadata": {
        "colab": {
          "base_uri": "https://localhost:8080/"
        },
        "id": "9Y9mYBRHiFh4",
        "outputId": "bd79440e-de92-4cdb-aaa7-58454b3cc111"
      },
      "source": [
        "i = 4\n",
        "if i == 5:\n",
        "    print (\"All lines in this indented block are part of this block\")\n",
        "    print ('The variable i has a value of 5')\n",
        "else:\n",
        "    print (\"All lines in this indented block are part of this block\")\n",
        "    print ('The variable i is not equal to 5')"
      ],
      "execution_count": 145,
      "outputs": [
        {
          "output_type": "stream",
          "text": [
            "All lines in this indented block are part of this block\n",
            "The variable i is not equal to 5\n"
          ],
          "name": "stdout"
        }
      ]
    },
    {
      "cell_type": "code",
      "metadata": {
        "colab": {
          "base_uri": "https://localhost:8080/"
        },
        "id": "JoqwnDAM05fY",
        "outputId": "c851a7ad-e814-4458-9a5d-35afad767f7d"
      },
      "source": [
        "#ssalgado\n",
        "i=18\n",
        "if i == 18:\n",
        "  print(\"El número es igual\")\n",
        "else:\n",
        "  print(\"El número es diferente\")"
      ],
      "execution_count": 146,
      "outputs": [
        {
          "output_type": "stream",
          "text": [
            "El número es igual\n"
          ],
          "name": "stdout"
        }
      ]
    },
    {
      "cell_type": "markdown",
      "metadata": {
        "id": "48pJ8JariFh7"
      },
      "source": [
        "We can implement other branches off of the same if-statement by using `elif`, an abbreviation of \"else if\". We can include as many `elifs` as we like until we have exhausted all the logical branches of a condition."
      ]
    },
    {
      "cell_type": "code",
      "metadata": {
        "colab": {
          "base_uri": "https://localhost:8080/"
        },
        "id": "tOUz3D-RiFh8",
        "outputId": "711161c7-561b-44dd-f1df-b4d2a9e85285"
      },
      "source": [
        "i = 1\n",
        "if i == 1:\n",
        "    print ('The variable i has a value of 1')\n",
        "elif i == 2:\n",
        "    print ('The variable i has a value of 2')\n",
        "elif i == 3:\n",
        "    print ('The variable i has a value of 3')\n",
        "else:\n",
        "    print (\"I don't care what i is\")"
      ],
      "execution_count": 147,
      "outputs": [
        {
          "output_type": "stream",
          "text": [
            "The variable i has a value of 1\n"
          ],
          "name": "stdout"
        }
      ]
    },
    {
      "cell_type": "code",
      "metadata": {
        "colab": {
          "base_uri": "https://localhost:8080/"
        },
        "id": "kVhViIRT1Naq",
        "outputId": "579b4b2b-ccce-4a6d-c471-10d4a1224f23"
      },
      "source": [
        "#ssalgado\n",
        "i=19\n",
        "if i == 18:\n",
        "  print (\"El número es igual\")\n",
        "elif i == 19:\n",
        "  print (\"El número es diferente (19)\")\n",
        "elif i == 20:\n",
        "  print (\"El número es diferente (20)\")\n",
        "else: \n",
        "  print (\"El número es diferente\")"
      ],
      "execution_count": 148,
      "outputs": [
        {
          "output_type": "stream",
          "text": [
            "El número es diferente (19)\n"
          ],
          "name": "stdout"
        }
      ]
    },
    {
      "cell_type": "markdown",
      "metadata": {
        "id": "IGYFi2oWiFh9"
      },
      "source": [
        "You can also nest if-statements within if-statements to check for further conditions."
      ]
    },
    {
      "cell_type": "code",
      "metadata": {
        "colab": {
          "base_uri": "https://localhost:8080/"
        },
        "id": "k9kf-Va9iFh_",
        "outputId": "2135ca3d-95ca-4d3b-f4cd-4617a0d3fada"
      },
      "source": [
        "i = 10\n",
        "if i % 2 == 0:\n",
        "    if i % 3 == 0:\n",
        "        print ('i is divisible by both 2 and 3! Wow!')\n",
        "    elif i % 5 == 0:\n",
        "        print ('i is divisible by both 2 and 5! Wow!')\n",
        "    else:\n",
        "        print ('i is divisible by 2, but not 3 or 5. Meh.')\n",
        "else:\n",
        "    print ('I guess that i is an odd number. Boring.')"
      ],
      "execution_count": 149,
      "outputs": [
        {
          "output_type": "stream",
          "text": [
            "i is divisible by both 2 and 5! Wow!\n"
          ],
          "name": "stdout"
        }
      ]
    },
    {
      "cell_type": "code",
      "metadata": {
        "colab": {
          "base_uri": "https://localhost:8080/"
        },
        "id": "gud8ToSK2Ixq",
        "outputId": "4e63f12a-ea86-4626-bf01-15bdccf561d5"
      },
      "source": [
        "#ssalgado\n",
        "j = 49\n",
        "if j % 2 == 0:\n",
        "  if j % 3 == 0:\n",
        "    print ('j is divisible by both 2 and 3.')\n",
        "  elif i % 5 == 0:\n",
        "    print ('j is divisible by both 2 and 5.')\n",
        "  else:\n",
        "    print ('j is divisible by 2, but not 3 or 5')\n",
        "else:\n",
        "  print (\"j is an odd number\")"
      ],
      "execution_count": 150,
      "outputs": [
        {
          "output_type": "stream",
          "text": [
            "j is an odd number\n"
          ],
          "name": "stdout"
        }
      ]
    },
    {
      "cell_type": "markdown",
      "metadata": {
        "id": "Pp09mgjUiFh_"
      },
      "source": [
        "Remember that we can group multiple conditions together by using the logical operators!"
      ]
    },
    {
      "cell_type": "code",
      "metadata": {
        "colab": {
          "base_uri": "https://localhost:8080/"
        },
        "id": "DRNlz1T3iFiA",
        "outputId": "a6666108-baaf-4fc2-e64d-6e1225664415"
      },
      "source": [
        "i = 5\n",
        "j = 12\n",
        "if i < 10 and j > 11:\n",
        "    print ('{0} is less than 10 and {1} is greater than 11! How novel and interesting!'.format(i, j))"
      ],
      "execution_count": 151,
      "outputs": [
        {
          "output_type": "stream",
          "text": [
            "5 is less than 10 and 12 is greater than 11! How novel and interesting!\n"
          ],
          "name": "stdout"
        }
      ]
    },
    {
      "cell_type": "code",
      "metadata": {
        "colab": {
          "base_uri": "https://localhost:8080/"
        },
        "id": "fhHFp08Y5H_g",
        "outputId": "68b1cc89-2f46-4b16-8e13-df38ed38edd3"
      },
      "source": [
        "#ssalgado\n",
        "i = 4\n",
        "j = 2\n",
        "if j< 3 or j >i :\n",
        "    print ('{0} is less than 10 or {1} is greater than 11!'.format(j, i))"
      ],
      "execution_count": 152,
      "outputs": [
        {
          "output_type": "stream",
          "text": [
            "2 is less than 10 or 4 is greater than 11!\n"
          ],
          "name": "stdout"
        }
      ]
    },
    {
      "cell_type": "markdown",
      "metadata": {
        "id": "BydT3_B2iFiA"
      },
      "source": [
        "You can use the logical comparators to compare strings!"
      ]
    },
    {
      "cell_type": "code",
      "metadata": {
        "colab": {
          "base_uri": "https://localhost:8080/"
        },
        "id": "H_7BjQGKiFiA",
        "outputId": "54b566d2-2d92-48e4-9067-2d871f1cd779"
      },
      "source": [
        "my_string = \"Carthago delenda est\"\n",
        "if my_string == \"Carthago delenda est\":\n",
        "    print ('And so it was! For the glory of Rome!')\n",
        "else:\n",
        "    print ('War elephants are TERRIFYING. I am staying home.')"
      ],
      "execution_count": 153,
      "outputs": [
        {
          "output_type": "stream",
          "text": [
            "And so it was! For the glory of Rome!\n"
          ],
          "name": "stdout"
        }
      ]
    },
    {
      "cell_type": "code",
      "metadata": {
        "colab": {
          "base_uri": "https://localhost:8080/"
        },
        "id": "QSBp4Crz6Oqz",
        "outputId": "8a638628-328d-43f2-fb7f-396017ea8997"
      },
      "source": [
        "#ssalgado\n",
        "f= \"Accept\"\n",
        "if f== \"Accept\":\n",
        "  print (\"You are registered!\")\n",
        "else:\n",
        "  print (\"You are not registered :(\")\n"
      ],
      "execution_count": 154,
      "outputs": [
        {
          "output_type": "stream",
          "text": [
            "You are registered!\n"
          ],
          "name": "stdout"
        }
      ]
    },
    {
      "cell_type": "markdown",
      "metadata": {
        "id": "m6bBlqcAiFiB"
      },
      "source": [
        "As with other data types, `==` will check for whether the two things on either side of it have the same value. In this case, we compare whether the value of the strings are the same. Using `>` or `<` or any of the other comparators is not quite so intuitive, however, so we will stay from using comparators with strings in this lecture. Comparators will examine the [lexicographical order](https://en.wikipedia.org/wiki/Lexicographical_order) of the strings, which might be a bit more in-depth than you might like."
      ]
    },
    {
      "cell_type": "markdown",
      "metadata": {
        "id": "WsPFM53aiFiC"
      },
      "source": [
        "Some built-in functions return a boolean value, so they can be used as conditions in an if-statement. User-defined functions can also be constructed so that they return a boolean value. This will be covered later with function definition!\n",
        "\n",
        "The `in` keyword is generally used to check membership of a value within another value. We can check memebership in the context of an if-statement and use it to output a truth value."
      ]
    },
    {
      "cell_type": "code",
      "metadata": {
        "colab": {
          "base_uri": "https://localhost:8080/"
        },
        "id": "UpwJFhyoiFiC",
        "outputId": "560bc5d5-ed22-49e7-8784-47b7d4eda124"
      },
      "source": [
        "if 'a' in my_string or 'e' in my_string:\n",
        "    print ('Those are my favorite vowels!')"
      ],
      "execution_count": 155,
      "outputs": [
        {
          "output_type": "stream",
          "text": [
            "Those are my favorite vowels!\n"
          ],
          "name": "stdout"
        }
      ]
    },
    {
      "cell_type": "code",
      "metadata": {
        "colab": {
          "base_uri": "https://localhost:8080/"
        },
        "id": "6uw0bAsB7ZzO",
        "outputId": "c2df438b-16dd-4a02-bca2-c686ee9db241"
      },
      "source": [
        "#ssalgado\n",
        "if 'c' in f and 't' in f:\n",
        "  print (\"Great letters\")"
      ],
      "execution_count": 156,
      "outputs": [
        {
          "output_type": "stream",
          "text": [
            "Great letters\n"
          ],
          "name": "stdout"
        }
      ]
    },
    {
      "cell_type": "markdown",
      "metadata": {
        "id": "4ePnnxW5iFiD"
      },
      "source": [
        "Here we use `in` to check whether the variable `my_string` contains any particular letters. We will later use `in` to iterate through lists!"
      ]
    },
    {
      "cell_type": "markdown",
      "metadata": {
        "id": "8VTxOcV8iFiD"
      },
      "source": [
        "## Loop Structures\n",
        "\n",
        "Loop structures are one of the most important parts of programming. The `for` loop and the `while` loop provide a way to repeatedly run a block of code repeatedly. A `while` loop will iterate until a certain condition has been met. If at any point after an iteration that condition is no longer satisfied, the loop terminates. A `for` loop will iterate over a sequence of values and terminate when the sequence has ended. You can instead include conditions within the `for` loop to decide whether it should terminate early or you could simply let it run its course."
      ]
    },
    {
      "cell_type": "code",
      "metadata": {
        "colab": {
          "base_uri": "https://localhost:8080/"
        },
        "id": "3NpR4YQYiFiD",
        "outputId": "239d46eb-0f3c-4c6f-b621-6f379595f71d"
      },
      "source": [
        "i = 5\n",
        "while i > 0: # We can write this as 'while i:' because 0 is False!\n",
        "    i -= 1\n",
        "    print ('I am looping! {0} more to go!'.format(i))"
      ],
      "execution_count": 157,
      "outputs": [
        {
          "output_type": "stream",
          "text": [
            "I am looping! 4 more to go!\n",
            "I am looping! 3 more to go!\n",
            "I am looping! 2 more to go!\n",
            "I am looping! 1 more to go!\n",
            "I am looping! 0 more to go!\n"
          ],
          "name": "stdout"
        }
      ]
    },
    {
      "cell_type": "code",
      "metadata": {
        "colab": {
          "base_uri": "https://localhost:8080/"
        },
        "id": "6irxClmy74Pm",
        "outputId": "eafede54-df78-452d-f91b-6c36ab0e3346"
      },
      "source": [
        "#ssalgado\n",
        "j = 0\n",
        "while j < 5:\n",
        "  j += 1\n",
        "  print (\"Count {0}\".format(j))\n"
      ],
      "execution_count": 158,
      "outputs": [
        {
          "output_type": "stream",
          "text": [
            "Count 1\n",
            "Count 2\n",
            "Count 3\n",
            "Count 4\n",
            "Count 5\n"
          ],
          "name": "stdout"
        }
      ]
    },
    {
      "cell_type": "markdown",
      "metadata": {
        "id": "dZCynAbFiFiE"
      },
      "source": [
        "\n",
        "With `while` loops we need to make sure that something actually changes from iteration to iteration so that that the loop actually terminates. In this case, we use the shorthand `i -= 1` (short for `i = i - 1`) so that the value of `i` gets smaller with each iteration. Eventually `i` will be reduced to `0`, rendering the condition `False` and exiting the loop."
      ]
    },
    {
      "cell_type": "markdown",
      "metadata": {
        "id": "fEzxYbF6iFiE"
      },
      "source": [
        "A `for` loop iterates a set number of times, determined when you state the entry into the loop. In this case we are iterating over the list returned from `range()`. The `for` loop selects a value from the list, in order, and temporarily assigns the value of `i` to it so that operations can be performed with the value."
      ]
    },
    {
      "cell_type": "code",
      "metadata": {
        "colab": {
          "base_uri": "https://localhost:8080/"
        },
        "id": "0JTfk7ZJiFiE",
        "outputId": "893734a5-b659-4b1a-c725-5b1860a54e9d"
      },
      "source": [
        "for i in range(5):\n",
        "    print ('I am looping! I have looped {0} times!'.format(i + 1))"
      ],
      "execution_count": 159,
      "outputs": [
        {
          "output_type": "stream",
          "text": [
            "I am looping! I have looped 1 times!\n",
            "I am looping! I have looped 2 times!\n",
            "I am looping! I have looped 3 times!\n",
            "I am looping! I have looped 4 times!\n",
            "I am looping! I have looped 5 times!\n"
          ],
          "name": "stdout"
        }
      ]
    },
    {
      "cell_type": "code",
      "metadata": {
        "colab": {
          "base_uri": "https://localhost:8080/"
        },
        "id": "zNLBj2vx83L0",
        "outputId": "f879fc0a-ba4b-4873-c507-899385be8e5a"
      },
      "source": [
        "#ssalgado\n",
        "for j in range(12):\n",
        "  print (\"Hour {0}\".format(j+1))"
      ],
      "execution_count": 160,
      "outputs": [
        {
          "output_type": "stream",
          "text": [
            "Hour 1\n",
            "Hour 2\n",
            "Hour 3\n",
            "Hour 4\n",
            "Hour 5\n",
            "Hour 6\n",
            "Hour 7\n",
            "Hour 8\n",
            "Hour 9\n",
            "Hour 10\n",
            "Hour 11\n",
            "Hour 12\n"
          ],
          "name": "stdout"
        }
      ]
    },
    {
      "cell_type": "markdown",
      "metadata": {
        "id": "WRKuX6vhiFiF"
      },
      "source": [
        "Note that in this `for` loop we use the `in` keyword. Use of the `in` keyword is not limited to checking for membership as in the if-statement example. You can iterate over any collection with a `for` loop by using the `in` keyword.\n",
        "\n",
        "In this next example, we will iterate over a `set` because we want to check for containment and add to a new set."
      ]
    },
    {
      "cell_type": "code",
      "metadata": {
        "colab": {
          "base_uri": "https://localhost:8080/"
        },
        "id": "YN7XezIRiFiF",
        "outputId": "93247f79-26b6-411a-f358-803d7f03f972"
      },
      "source": [
        "my_list = {'cats', 'dogs', 'lizards', 'cows', 'bats', 'sponges', 'humans'} # Lists all the animals in the world\n",
        "mammal_list = {'cats', 'dogs', 'cows', 'bats', 'humans'} # Lists all the mammals in the world\n",
        "my_new_list = set()\n",
        "for animal in my_list:\n",
        "    if animal in mammal_list:\n",
        "        # This adds any animal that is both in my_list and mammal_list to my_new_list\n",
        "        my_new_list.add(animal)\n",
        "        \n",
        "print (my_new_list)"
      ],
      "execution_count": 161,
      "outputs": [
        {
          "output_type": "stream",
          "text": [
            "{'bats', 'humans', 'dogs', 'cats', 'cows'}\n"
          ],
          "name": "stdout"
        }
      ]
    },
    {
      "cell_type": "code",
      "metadata": {
        "colab": {
          "base_uri": "https://localhost:8080/"
        },
        "id": "oFB1j21B9U48",
        "outputId": "937a8b7e-3bf5-47b9-b9e0-cfa8e6ddfaea"
      },
      "source": [
        "#ssalgado\n",
        "mi_lista = {\"Millonarios\", \"Sao Pablo\", \"Boca Juniors\", \"River Plate\", \"Tolima\", \"Independiente\", \"Gremio\"}\n",
        "arg_team_list = {\"Boca Juniors\", \"River Plate\", \"Independiente\"}\n",
        "new_list = set()\n",
        "for team in mi_lista:\n",
        "  if team in arg_team_list:\n",
        "    new_list.add(team)\n",
        "print (new_list)"
      ],
      "execution_count": 162,
      "outputs": [
        {
          "output_type": "stream",
          "text": [
            "{'River Plate', 'Boca Juniors', 'Independiente'}\n"
          ],
          "name": "stdout"
        }
      ]
    },
    {
      "cell_type": "markdown",
      "metadata": {
        "id": "HvI5ISiViFiF"
      },
      "source": [
        "There are two statements that are very helpful in dealing with both `for` and `while` loops. These are `break` and `continue`. If `break` is encountered at any point while a loop is executing, the loop will immediately end."
      ]
    },
    {
      "cell_type": "code",
      "metadata": {
        "colab": {
          "base_uri": "https://localhost:8080/"
        },
        "id": "8pcV8F_JiFiG",
        "outputId": "c695d774-39ba-48ae-97b3-32bf55d9fa72"
      },
      "source": [
        "i = 10\n",
        "while True:\n",
        "    if i == 14:\n",
        "        break\n",
        "    i += 1 # This is shorthand for i = i + 1. It increments i with each iteration.\n",
        "    print (i)"
      ],
      "execution_count": 163,
      "outputs": [
        {
          "output_type": "stream",
          "text": [
            "11\n",
            "12\n",
            "13\n",
            "14\n"
          ],
          "name": "stdout"
        }
      ]
    },
    {
      "cell_type": "code",
      "metadata": {
        "colab": {
          "base_uri": "https://localhost:8080/"
        },
        "id": "edEeh3TS_Y5q",
        "outputId": "0559e0c3-2373-45d9-9d6e-3ca6a204090b"
      },
      "source": [
        "#ssalgado\n",
        "i = 5\n",
        "while True:\n",
        "    if i == 18:\n",
        "        break\n",
        "    i += 1 \n",
        "    print (i)"
      ],
      "execution_count": 164,
      "outputs": [
        {
          "output_type": "stream",
          "text": [
            "6\n",
            "7\n",
            "8\n",
            "9\n",
            "10\n",
            "11\n",
            "12\n",
            "13\n",
            "14\n",
            "15\n",
            "16\n",
            "17\n",
            "18\n"
          ],
          "name": "stdout"
        }
      ]
    },
    {
      "cell_type": "code",
      "metadata": {
        "colab": {
          "base_uri": "https://localhost:8080/"
        },
        "id": "JztlLKOliFiG",
        "outputId": "956b4c68-3b0e-4f2a-f530-bee61763f471"
      },
      "source": [
        "for i in range(5):\n",
        "    if i == 2:\n",
        "        break\n",
        "    print (i)"
      ],
      "execution_count": 165,
      "outputs": [
        {
          "output_type": "stream",
          "text": [
            "0\n",
            "1\n"
          ],
          "name": "stdout"
        }
      ]
    },
    {
      "cell_type": "code",
      "metadata": {
        "colab": {
          "base_uri": "https://localhost:8080/"
        },
        "id": "oLIgNDBO_-dY",
        "outputId": "7d93f347-62d6-46c9-cc83-b3b8cb6a5906"
      },
      "source": [
        "#ssalgado\n",
        "for i in range(7):\n",
        "    if i == 5:\n",
        "        break\n",
        "    print (i)"
      ],
      "execution_count": 166,
      "outputs": [
        {
          "output_type": "stream",
          "text": [
            "0\n",
            "1\n",
            "2\n",
            "3\n",
            "4\n"
          ],
          "name": "stdout"
        }
      ]
    },
    {
      "cell_type": "markdown",
      "metadata": {
        "id": "7CwG34G7iFiH"
      },
      "source": [
        "The `continue` statement will tell the loop to immediately end this iteration and continue onto the next iteration of the loop."
      ]
    },
    {
      "cell_type": "code",
      "metadata": {
        "colab": {
          "base_uri": "https://localhost:8080/"
        },
        "id": "19PM-12GiFiH",
        "outputId": "0b67163b-d12b-4a29-e507-ba60893243d7"
      },
      "source": [
        "i = 0\n",
        "while i < 5:\n",
        "    i += 1\n",
        "    if i == 3:\n",
        "        continue\n",
        "    print (i)"
      ],
      "execution_count": 167,
      "outputs": [
        {
          "output_type": "stream",
          "text": [
            "1\n",
            "2\n",
            "4\n",
            "5\n"
          ],
          "name": "stdout"
        }
      ]
    },
    {
      "cell_type": "code",
      "metadata": {
        "colab": {
          "base_uri": "https://localhost:8080/"
        },
        "id": "ms48HQ1RAJLD",
        "outputId": "426298fa-22fc-4285-fe00-56990f23388b"
      },
      "source": [
        "#ssalgado\n",
        "i = 0\n",
        "while i < 8:\n",
        "    i += 2\n",
        "    if i == 6:\n",
        "        continue\n",
        "    print (i)"
      ],
      "execution_count": 168,
      "outputs": [
        {
          "output_type": "stream",
          "text": [
            "2\n",
            "4\n",
            "8\n"
          ],
          "name": "stdout"
        }
      ]
    },
    {
      "cell_type": "markdown",
      "metadata": {
        "id": "72ezpVsqiFiJ"
      },
      "source": [
        "This loop skips printing the number $3$ because of the `continue` statement that executes when we enter the if-statement. The code never sees the command to print the number $3$ because it has already moved to the next iteration. The `break` and `continue` statements are further tools to help you control the flow of your loops and, as a result, your code."
      ]
    },
    {
      "cell_type": "markdown",
      "metadata": {
        "id": "tez0uuEXiFiK"
      },
      "source": [
        "The variable that we use to iterate over a loop will retain its value when the loop exits. Similarly, any variables defined within the context of the loop will continue to exist outside of it."
      ]
    },
    {
      "cell_type": "code",
      "metadata": {
        "colab": {
          "base_uri": "https://localhost:8080/"
        },
        "id": "C5pW5xuoiFiM",
        "outputId": "353b63d2-ecc2-4adb-ab60-3f569456d06e"
      },
      "source": [
        "for i in range(5):\n",
        "    loop_string = 'I transcend the loop!'\n",
        "    print ('I am eternal! I am {0} and I exist everywhere!'.format(i))\n",
        "\n",
        "print ('I persist! My value is {0}'.format(i))\n",
        "print (loop_string)"
      ],
      "execution_count": 169,
      "outputs": [
        {
          "output_type": "stream",
          "text": [
            "I am eternal! I am 0 and I exist everywhere!\n",
            "I am eternal! I am 1 and I exist everywhere!\n",
            "I am eternal! I am 2 and I exist everywhere!\n",
            "I am eternal! I am 3 and I exist everywhere!\n",
            "I am eternal! I am 4 and I exist everywhere!\n",
            "I persist! My value is 4\n",
            "I transcend the loop!\n"
          ],
          "name": "stdout"
        }
      ]
    },
    {
      "cell_type": "code",
      "metadata": {
        "colab": {
          "base_uri": "https://localhost:8080/"
        },
        "id": "pIL_l578BI-O",
        "outputId": "ca698a88-4a35-4d9d-905c-45887277f085"
      },
      "source": [
        "#ssalgado\n",
        "for i in range(10):\n",
        "    loop_string = 'Im over!'\n",
        "    print ('I am eternal! I am {0} and I exist everywhere!'.format(i))\n",
        "\n",
        "print ('I persist! My value is {0}'.format(i))\n",
        "print (loop_string)"
      ],
      "execution_count": 170,
      "outputs": [
        {
          "output_type": "stream",
          "text": [
            "I am eternal! I am 0 and I exist everywhere!\n",
            "I am eternal! I am 1 and I exist everywhere!\n",
            "I am eternal! I am 2 and I exist everywhere!\n",
            "I am eternal! I am 3 and I exist everywhere!\n",
            "I am eternal! I am 4 and I exist everywhere!\n",
            "I am eternal! I am 5 and I exist everywhere!\n",
            "I am eternal! I am 6 and I exist everywhere!\n",
            "I am eternal! I am 7 and I exist everywhere!\n",
            "I am eternal! I am 8 and I exist everywhere!\n",
            "I am eternal! I am 9 and I exist everywhere!\n",
            "I persist! My value is 9\n",
            "Im over!\n"
          ],
          "name": "stdout"
        }
      ]
    },
    {
      "cell_type": "markdown",
      "metadata": {
        "id": "258Q6kLKiFiM"
      },
      "source": [
        "We can also iterate over a dictionary!"
      ]
    },
    {
      "cell_type": "code",
      "metadata": {
        "id": "q6toixlTiFiN"
      },
      "source": [
        "my_dict = {'firstname' : 'Inigo', 'lastname' : 'Montoya', 'nemesis' : 'Rugen'}"
      ],
      "execution_count": 171,
      "outputs": []
    },
    {
      "cell_type": "code",
      "metadata": {
        "colab": {
          "base_uri": "https://localhost:8080/"
        },
        "id": "zdDftKhmiFiP",
        "outputId": "c2fd0f91-6fa7-4bc6-c093-fa03d8ea5070"
      },
      "source": [
        "for key in my_dict:\n",
        "    print (key)"
      ],
      "execution_count": 172,
      "outputs": [
        {
          "output_type": "stream",
          "text": [
            "firstname\n",
            "lastname\n",
            "nemesis\n"
          ],
          "name": "stdout"
        }
      ]
    },
    {
      "cell_type": "code",
      "metadata": {
        "colab": {
          "base_uri": "https://localhost:8080/"
        },
        "id": "nbixrppMBrPq",
        "outputId": "286a183f-ef29-4167-95d2-fc1a939dede8"
      },
      "source": [
        "#ssalgado\n",
        "for key in mi_dict:\n",
        "  print (key)"
      ],
      "execution_count": 173,
      "outputs": [
        {
          "output_type": "stream",
          "text": [
            "Eredivisie\n",
            "Premier League\n",
            "Serie A\n",
            "Bundesliga\n"
          ],
          "name": "stdout"
        }
      ]
    },
    {
      "cell_type": "markdown",
      "metadata": {
        "id": "rnrY6AxQiFiQ"
      },
      "source": [
        "If we just iterate over a dictionary without doing anything else, we will only get the keys. We can either use the keys to get the values, like so:"
      ]
    },
    {
      "cell_type": "code",
      "metadata": {
        "colab": {
          "base_uri": "https://localhost:8080/"
        },
        "id": "0SS3UbpHiFiQ",
        "outputId": "ffa2e333-2f57-4da2-9ddf-d3fb6c63d453"
      },
      "source": [
        "for key in my_dict:\n",
        "    print (my_dict[key])"
      ],
      "execution_count": 174,
      "outputs": [
        {
          "output_type": "stream",
          "text": [
            "Inigo\n",
            "Montoya\n",
            "Rugen\n"
          ],
          "name": "stdout"
        }
      ]
    },
    {
      "cell_type": "code",
      "metadata": {
        "colab": {
          "base_uri": "https://localhost:8080/"
        },
        "id": "q37HKf1AB8qK",
        "outputId": "779256e0-2cb9-4212-ca91-4357d509baee"
      },
      "source": [
        "#ssalgado\n",
        "for key in mi_dict:\n",
        "  print (mi_dict[key])"
      ],
      "execution_count": 175,
      "outputs": [
        {
          "output_type": "stream",
          "text": [
            "No teams\n",
            "['Arsenal', 'Chelsea', 'Tottenham']\n",
            "['Inter', 'Juventus']\n",
            "['Bayern Munich']\n"
          ],
          "name": "stdout"
        }
      ]
    },
    {
      "cell_type": "markdown",
      "metadata": {
        "id": "F9oYBiWSiFiR"
      },
      "source": [
        "Or we can use the `items()` function to get both key and value at the same time."
      ]
    },
    {
      "cell_type": "code",
      "metadata": {
        "colab": {
          "base_uri": "https://localhost:8080/"
        },
        "id": "rlLRz_4BiFiv",
        "outputId": "9944a6bc-101d-48ad-9b43-6d4ddd5cdd94"
      },
      "source": [
        "for key, value in my_dict.items():\n",
        "    print (key, ':', value)"
      ],
      "execution_count": 176,
      "outputs": [
        {
          "output_type": "stream",
          "text": [
            "firstname : Inigo\n",
            "lastname : Montoya\n",
            "nemesis : Rugen\n"
          ],
          "name": "stdout"
        }
      ]
    },
    {
      "cell_type": "code",
      "metadata": {
        "colab": {
          "base_uri": "https://localhost:8080/"
        },
        "id": "5LqSYfCeCIli",
        "outputId": "2f5627e3-fb27-406c-f7be-c1bbf2ad9166"
      },
      "source": [
        "#ssalgado\n",
        "for key, value in mi_dict.items():\n",
        "  print (key, ':', value)"
      ],
      "execution_count": 177,
      "outputs": [
        {
          "output_type": "stream",
          "text": [
            "Eredivisie : No teams\n",
            "Premier League : ['Arsenal', 'Chelsea', 'Tottenham']\n",
            "Serie A : ['Inter', 'Juventus']\n",
            "Bundesliga : ['Bayern Munich']\n"
          ],
          "name": "stdout"
        }
      ]
    },
    {
      "cell_type": "markdown",
      "metadata": {
        "id": "8S6-YYUXiFiy"
      },
      "source": [
        "The `items()` function creates a tuple of each key-value pair and the for loop unpacks that tuple into `key, value` on each separate execution of the loop!"
      ]
    },
    {
      "cell_type": "markdown",
      "metadata": {
        "id": "lkWfmkATiFiz"
      },
      "source": [
        "## Functions\n",
        "\n",
        "A function is a reusable block of code that you can call repeatedly to make calculations, output data, or really do anything that you want. This is one of the key aspects of using a programming language. To add to the built-in functions in Python, you can define your own!"
      ]
    },
    {
      "cell_type": "code",
      "metadata": {
        "colab": {
          "base_uri": "https://localhost:8080/"
        },
        "id": "GPvpdKF7iFjL",
        "outputId": "7e66a2a7-2dd8-444f-b520-daf7bb048068"
      },
      "source": [
        "def hello_world():\n",
        "    \"\"\" Prints Hello, world! \"\"\"\n",
        "    print ('Hello, world!')\n",
        "\n",
        "hello_world()"
      ],
      "execution_count": 178,
      "outputs": [
        {
          "output_type": "stream",
          "text": [
            "Hello, world!\n"
          ],
          "name": "stdout"
        }
      ]
    },
    {
      "cell_type": "code",
      "metadata": {
        "colab": {
          "base_uri": "https://localhost:8080/"
        },
        "id": "MkZJFyWBDCDK",
        "outputId": "187c853f-025a-44a5-9c22-fc0061b31ffc"
      },
      "source": [
        "#ssalgado\n",
        "def hola_mundo():\n",
        "  \"\"\"Prints hola mundo\"\"\"\n",
        "  print ('hola mundo')\n",
        "\n",
        "hola_mundo()"
      ],
      "execution_count": 179,
      "outputs": [
        {
          "output_type": "stream",
          "text": [
            "hola mundo\n"
          ],
          "name": "stdout"
        }
      ]
    },
    {
      "cell_type": "code",
      "metadata": {
        "colab": {
          "base_uri": "https://localhost:8080/"
        },
        "id": "9W6tQPrMiFjM",
        "outputId": "2bf0c375-60ec-476b-f66c-645439234b37"
      },
      "source": [
        "for i in range(5):\n",
        "    hello_world()"
      ],
      "execution_count": 180,
      "outputs": [
        {
          "output_type": "stream",
          "text": [
            "Hello, world!\n",
            "Hello, world!\n",
            "Hello, world!\n",
            "Hello, world!\n",
            "Hello, world!\n"
          ],
          "name": "stdout"
        }
      ]
    },
    {
      "cell_type": "code",
      "metadata": {
        "colab": {
          "base_uri": "https://localhost:8080/"
        },
        "id": "qDvyUQBGDZyc",
        "outputId": "d967ccdc-b2f6-4b54-e342-d2aba82a9262"
      },
      "source": [
        "for i in range (4):\n",
        "  hola_mundo()"
      ],
      "execution_count": 181,
      "outputs": [
        {
          "output_type": "stream",
          "text": [
            "hola mundo\n",
            "hola mundo\n",
            "hola mundo\n",
            "hola mundo\n"
          ],
          "name": "stdout"
        }
      ]
    },
    {
      "cell_type": "markdown",
      "metadata": {
        "id": "T42f_ipriFjO"
      },
      "source": [
        "Functions are defined with `def`, a function name, a list of parameters, and a colon. Everything indented below the colon will be included in the definition of the function.\n",
        "\n",
        "We can have our functions do anything that you can do with a normal block of code. For example, our `hello_world()` function prints a string every time it is called. If we want to keep a value that a function calculates, we can define the function so that it will `return` the value we want. This is a very important feature of functions, as any variable defined purely within a function will not exist outside of it."
      ]
    },
    {
      "cell_type": "code",
      "metadata": {
        "id": "rNKqbcl3iFjP"
      },
      "source": [
        "def see_the_scope():\n",
        "    in_function_string = \"I'm stuck in here!\"\n",
        "\n",
        "see_the_scope()\n",
        "#print (in_function_string) ##Error, variable is not defined outside the function"
      ],
      "execution_count": 182,
      "outputs": []
    },
    {
      "cell_type": "markdown",
      "metadata": {
        "id": "h8AGZ-iUiFjP"
      },
      "source": [
        " The **scope** of a variable is the part of a block of code where that variable is tied to a particular value. Functions in Python have an enclosed scope, making it so that variables defined within them can only be accessed directly within them. If we pass those values to a return statement we can get them out of the function. This makes it so that the function call returns values so that you can store them in variables that have a greater scope.\n",
        " \n",
        "In this case specifically, including a return statement allows us to keep the string value that we define in the function."
      ]
    },
    {
      "cell_type": "code",
      "metadata": {
        "colab": {
          "base_uri": "https://localhost:8080/"
        },
        "id": "jFCv1PuViFjQ",
        "outputId": "c4364309-1a55-4bb6-c4ce-ae32a711fd6e"
      },
      "source": [
        "def free_the_scope():\n",
        "    in_function_string = \"Anything you can do I can do better!\"\n",
        "    return in_function_string\n",
        "my_string = free_the_scope()\n",
        "print (my_string)"
      ],
      "execution_count": 183,
      "outputs": [
        {
          "output_type": "stream",
          "text": [
            "Anything you can do I can do better!\n"
          ],
          "name": "stdout"
        }
      ]
    },
    {
      "cell_type": "code",
      "metadata": {
        "colab": {
          "base_uri": "https://localhost:8080/"
        },
        "id": "JoU3iG1kFHLO",
        "outputId": "173ef2b7-c979-4c4f-e57c-4b15630fac49"
      },
      "source": [
        "#ssalgado\n",
        "def nombre():\n",
        "  string_1= \"Samuel Salgado\"\n",
        "  return string_1\n",
        "mi_string = nombre()\n",
        "print (mi_string)"
      ],
      "execution_count": 184,
      "outputs": [
        {
          "output_type": "stream",
          "text": [
            "Samuel Salgado\n"
          ],
          "name": "stdout"
        }
      ]
    },
    {
      "cell_type": "markdown",
      "metadata": {
        "id": "l7MA-aKniFjW"
      },
      "source": [
        "Just as we can get values out of a function, we can also put values into a function. We do this by defining our function with parameters."
      ]
    },
    {
      "cell_type": "code",
      "metadata": {
        "colab": {
          "base_uri": "https://localhost:8080/"
        },
        "id": "oqfhTP7-iFjX",
        "outputId": "7f5e3b1d-f36e-4f6b-f3c9-1455786cb9f2"
      },
      "source": [
        "def multiply_by_five(x):\n",
        "    \"\"\" Multiplies an input number by 5 \"\"\"\n",
        "    return x * 5\n",
        "\n",
        "n = 4\n",
        "print (n)\n",
        "print (multiply_by_five(n))"
      ],
      "execution_count": 185,
      "outputs": [
        {
          "output_type": "stream",
          "text": [
            "4\n",
            "20\n"
          ],
          "name": "stdout"
        }
      ]
    },
    {
      "cell_type": "code",
      "metadata": {
        "colab": {
          "base_uri": "https://localhost:8080/"
        },
        "id": "ACA8pQ5gGPmE",
        "outputId": "337f0fac-7351-4047-b7fc-440a6c311046"
      },
      "source": [
        "#ssalgado\n",
        "def divide_by_five(x):\n",
        "    \"\"\" Multiplies an input number by 5 \"\"\"\n",
        "    return x / 5\n",
        "\n",
        "n = 280\n",
        "print (n)\n",
        "print (divide_by_five(n))"
      ],
      "execution_count": 186,
      "outputs": [
        {
          "output_type": "stream",
          "text": [
            "280\n",
            "56.0\n"
          ],
          "name": "stdout"
        }
      ]
    },
    {
      "cell_type": "markdown",
      "metadata": {
        "id": "nYx9-4ZOiFjY"
      },
      "source": [
        "In this example we only had one parameter for our function, `x`. We can easily add more parameters, separating everything with a comma."
      ]
    },
    {
      "cell_type": "markdown",
      "metadata": {
        "id": "859OsZn6c_1y"
      },
      "source": [
        "Calculate the area of a rectangle:"
      ]
    },
    {
      "cell_type": "markdown",
      "metadata": {
        "id": "-weD9fzDdEtX"
      },
      "source": [
        "$A_r = length * width$"
      ]
    },
    {
      "cell_type": "code",
      "metadata": {
        "id": "saAXBKDriFjY"
      },
      "source": [
        "def calculate_area(length, width):\n",
        "    \"\"\" Calculates the area of a rectangle \"\"\"\n",
        "    return length * width"
      ],
      "execution_count": 187,
      "outputs": []
    },
    {
      "cell_type": "code",
      "metadata": {
        "colab": {
          "base_uri": "https://localhost:8080/"
        },
        "id": "4cAJ8G3WiFjZ",
        "outputId": "06f5c489-25eb-499b-a155-1d1fbd96a27e"
      },
      "source": [
        "l = 5\n",
        "w = 10\n",
        "print ('Area: ', calculate_area(l, w))\n",
        "print ('Length: ', l)\n",
        "print ('Width: ', w)"
      ],
      "execution_count": 188,
      "outputs": [
        {
          "output_type": "stream",
          "text": [
            "Area:  50\n",
            "Length:  5\n",
            "Width:  10\n"
          ],
          "name": "stdout"
        }
      ]
    },
    {
      "cell_type": "markdown",
      "metadata": {
        "id": "YaUQIt8hdO05"
      },
      "source": [
        "Calculate the area of a triangle:"
      ]
    },
    {
      "cell_type": "markdown",
      "metadata": {
        "id": "cKEa-VJVdSLj"
      },
      "source": [
        "$A_t = (height * base)/2 $"
      ]
    },
    {
      "cell_type": "code",
      "metadata": {
        "id": "OA7A2aD2GxC4"
      },
      "source": [
        "#ssalgado\n",
        "def calculate_area_triangle(height, base):\n",
        "  \"\"\"Calculates the area of a triangle\"\"\"\n",
        "  return (height * base)/2"
      ],
      "execution_count": 189,
      "outputs": []
    },
    {
      "cell_type": "code",
      "metadata": {
        "colab": {
          "base_uri": "https://localhost:8080/"
        },
        "id": "oACdJXvpH4hh",
        "outputId": "098a56a3-025b-43e1-9575-a4bc1980d801"
      },
      "source": [
        "#ssalgado\n",
        "b=5\n",
        "h=12\n",
        "print (\"Area: \", calculate_area_triangle(h, b))\n",
        "print (\"Base: \", b)\n",
        "print (\"Height: \", h)"
      ],
      "execution_count": 190,
      "outputs": [
        {
          "output_type": "stream",
          "text": [
            "Area:  30.0\n",
            "Base:  5\n",
            "Height:  12\n"
          ],
          "name": "stdout"
        }
      ]
    },
    {
      "cell_type": "code",
      "metadata": {
        "id": "DxW54GvNiFjc"
      },
      "source": [
        "def calculate_volume(length, width, depth):\n",
        "    \"\"\" Calculates the volume of a rectangular prism \"\"\"\n",
        "    return length * width * depth"
      ],
      "execution_count": 191,
      "outputs": []
    },
    {
      "cell_type": "markdown",
      "metadata": {
        "id": "qqUpepQBiFje"
      },
      "source": [
        "If we want to, we can define a function so that it takes an arbitrary number of parameters. We tell Python that we want this by using an asterisk (`*`)."
      ]
    },
    {
      "cell_type": "code",
      "metadata": {
        "id": "z4RoSU4RiFje"
      },
      "source": [
        "def sum_values(*args):\n",
        "    sum_val = 0\n",
        "    for i in args:\n",
        "        sum_val += i\n",
        "    return sum_val"
      ],
      "execution_count": 192,
      "outputs": []
    },
    {
      "cell_type": "code",
      "metadata": {
        "colab": {
          "base_uri": "https://localhost:8080/"
        },
        "id": "on_BYJyGiFjf",
        "outputId": "cd633732-1992-4f6b-81ba-8e61b84cd5c7"
      },
      "source": [
        "print (sum_values(1, 2, 3))\n",
        "print (sum_values(10, 20, 30, 40, 50))\n",
        "print (sum_values(4, 2, 5, 1, 10, 249, 25, 24, 13, 6, 4))"
      ],
      "execution_count": 193,
      "outputs": [
        {
          "output_type": "stream",
          "text": [
            "6\n",
            "150\n",
            "343\n"
          ],
          "name": "stdout"
        }
      ]
    },
    {
      "cell_type": "code",
      "metadata": {
        "id": "8QrxwX6wI26q"
      },
      "source": [
        "#ssalgado\n",
        "def mult_values(*args):\n",
        "  mult_val = 1\n",
        "  for i in args:\n",
        "    mult_val *= i\n",
        "  return mult_val"
      ],
      "execution_count": 194,
      "outputs": []
    },
    {
      "cell_type": "code",
      "metadata": {
        "colab": {
          "base_uri": "https://localhost:8080/"
        },
        "id": "CpGtbINNJRvd",
        "outputId": "457446ee-3c88-41b3-8ac7-e9c71a2f9e2d"
      },
      "source": [
        "#ssalgado\n",
        "print (mult_values(1, 2, 3))\n",
        "print (mult_values(6, 8, 10, 12))"
      ],
      "execution_count": 195,
      "outputs": [
        {
          "output_type": "stream",
          "text": [
            "6\n",
            "5760\n"
          ],
          "name": "stdout"
        }
      ]
    },
    {
      "cell_type": "markdown",
      "metadata": {
        "id": "GnO6FpWwiFji"
      },
      "source": [
        "The time to use `*args` as a parameter for your function is when you do not know how many values may be passed to it, as in the case of our sum function. The asterisk in this case is the syntax that tells Python that you are going to pass an arbitrary number of parameters into your function. These parameters are stored in the form of a tuple."
      ]
    },
    {
      "cell_type": "code",
      "metadata": {
        "colab": {
          "base_uri": "https://localhost:8080/"
        },
        "id": "_2tiuomZiFjk",
        "outputId": "2dc2af29-8966-4c34-cc6e-aaf7bc9b44a0"
      },
      "source": [
        "def test_args(*args):\n",
        "    print (type(args))\n",
        "\n",
        "test_args(1, 2, 3, 4, 5, 6)"
      ],
      "execution_count": 196,
      "outputs": [
        {
          "output_type": "stream",
          "text": [
            "<class 'tuple'>\n"
          ],
          "name": "stdout"
        }
      ]
    },
    {
      "cell_type": "markdown",
      "metadata": {
        "id": "sPjKiXXtiFjk"
      },
      "source": [
        "We can put as many elements into the `args` tuple as we want to when we call the function. However, because `args` is a tuple, we cannot modify it after it has been created.\n",
        "\n",
        "The `args` name of the variable is purely by convention. You could just as easily name your parameter `*vars` or `*things`. You can treat the `args` tuple like you would any other tuple, easily accessing `arg`'s values and iterating over it, as in the above `sum_values(*args)` function."
      ]
    },
    {
      "cell_type": "markdown",
      "metadata": {
        "id": "480w5fePiFjl"
      },
      "source": [
        "Our functions can return any data type. This makes it easy for us to create functions that check for conditions that we might want to monitor.\n",
        "\n",
        "Here we define a function that returns a boolean value. We can easily use this in conjunction with if-statements and  other situations that require a boolean."
      ]
    },
    {
      "cell_type": "code",
      "metadata": {
        "id": "aKuPp8lSiFjl"
      },
      "source": [
        "def has_a_vowel(word):\n",
        "    \"\"\" \n",
        "    Checks to see whether a word contains a vowel \n",
        "    If it doesn't contain a conventional vowel, it\n",
        "    will check for the presence of 'y' or 'w'. Does\n",
        "    not check to see whether those are in the word\n",
        "    in a vowel context.\n",
        "    \"\"\"\n",
        "    vowel_list = ['a', 'e', 'i', 'o', 'u']\n",
        "    \n",
        "    for vowel in vowel_list:\n",
        "        if vowel in word:\n",
        "            return True\n",
        "    # If there is a vowel in the word, the function returns, preventing anything after this loop from running\n",
        "    return False"
      ],
      "execution_count": 197,
      "outputs": []
    },
    {
      "cell_type": "code",
      "metadata": {
        "colab": {
          "base_uri": "https://localhost:8080/"
        },
        "id": "XAhD2pC0iFjm",
        "outputId": "d00a03be-4c5a-4e0c-c8fa-cf53a300dfef"
      },
      "source": [
        "my_word = 'catnapping'\n",
        "if has_a_vowel(my_word):\n",
        "    print ('How surprising, an english word contains a vowel.')\n",
        "else:\n",
        "    print ('This is actually surprising.')"
      ],
      "execution_count": 198,
      "outputs": [
        {
          "output_type": "stream",
          "text": [
            "How surprising, an english word contains a vowel.\n"
          ],
          "name": "stdout"
        }
      ]
    },
    {
      "cell_type": "code",
      "metadata": {
        "id": "KWgQzdX_iFjo"
      },
      "source": [
        "def point_maker(x, y):\n",
        "    \"\"\" Groups x and y values into a point, technically a tuple \"\"\"\n",
        "    return x, y"
      ],
      "execution_count": 199,
      "outputs": []
    },
    {
      "cell_type": "markdown",
      "metadata": {
        "id": "kILVC8ChiFjo"
      },
      "source": [
        "This above function returns an ordered pair of the input parameters, stored as a tuple."
      ]
    },
    {
      "cell_type": "code",
      "metadata": {
        "scrolled": true,
        "colab": {
          "base_uri": "https://localhost:8080/"
        },
        "id": "ezkwrxKkiFjo",
        "outputId": "2f3a11bf-bc72-479b-ad25-c2c45c835ea7"
      },
      "source": [
        "a = point_maker(0, 10)\n",
        "b = point_maker(5, 3)\n",
        "def calculate_slope(point_a, point_b):\n",
        "    \"\"\" Calculates the linear slope between two points \"\"\"\n",
        "    return (point_b[1] - point_a[1])/(point_b[0] - point_a[0])\n",
        "print (\"The slope between a and b is {0}\".format(calculate_slope(a, b)))"
      ],
      "execution_count": 200,
      "outputs": [
        {
          "output_type": "stream",
          "text": [
            "The slope between a and b is -1.4\n"
          ],
          "name": "stdout"
        }
      ]
    },
    {
      "cell_type": "markdown",
      "metadata": {
        "id": "SOcuNcpbiFjp"
      },
      "source": [
        "And that one calculates the slope between two points!"
      ]
    },
    {
      "cell_type": "code",
      "metadata": {
        "colab": {
          "base_uri": "https://localhost:8080/"
        },
        "id": "U5iESub6iFjq",
        "outputId": "9c907d62-ab7e-4ead-bef2-772fedce4035"
      },
      "source": [
        "print (\"The slope-intercept form of the line between a and b, using point a, is: y - {0} = {2}(x - {1})\".format(a[1], a[0], calculate_slope(a, b)))"
      ],
      "execution_count": 201,
      "outputs": [
        {
          "output_type": "stream",
          "text": [
            "The slope-intercept form of the line between a and b, using point a, is: y - 10 = -1.4(x - 0)\n"
          ],
          "name": "stdout"
        }
      ]
    },
    {
      "cell_type": "markdown",
      "metadata": {
        "id": "hmgr_cH9iFjr"
      },
      "source": [
        "With the proper syntax, you can define functions to do whatever calculations you want. This makes them an indispensible part of programming in any language."
      ]
    },
    {
      "cell_type": "markdown",
      "metadata": {
        "id": "cGmRIuR7iFjs"
      },
      "source": [
        "## Next Steps\n",
        "\n",
        "This was a lot of material and there is still even more to cover! Make sure you play around with the cells in each notebook to accustom yourself to the syntax featured here and to figure out any limitations. If you want to delve even deeper into the material, the [documentation for Python](https://docs.python.org/2/) is all available online. We are in the process of developing a second part to this Python tutorial, designed to provide you with even more programming knowledge, so keep an eye on the [Quantopian Lectures Page](quantopian.com/lectures) and the [forums](quantopian.com/posts) for any new lectures."
      ]
    },
    {
      "cell_type": "markdown",
      "metadata": {
        "id": "zXhgytlziFjt"
      },
      "source": [
        "*This presentation is for informational purposes only and does not constitute an offer to sell, a solicitation to buy, or a recommendation for any security; nor does it constitute an offer to provide investment advisory or other services by Quantopian, Inc. (\"Quantopian\"). Nothing contained herein constitutes investment advice or offers any opinion with respect to the suitability of any security, and any views expressed herein should not be taken as advice to buy, sell, or hold any security or as an endorsement of any security or company.  In preparing the information contained herein, Quantopian, Inc. has not taken into account the investment needs, objectives, and financial circumstances of any particular investor. Any views expressed and data illustrated herein were prepared based upon information, believed to be reliable, available to Quantopian, Inc. at the time of publication. Quantopian makes no guarantees as to their accuracy or completeness. All information is subject to change and may quickly become unreliable for various reasons, including changes in market conditions or economic circumstances.*"
      ]
    }
  ]
}