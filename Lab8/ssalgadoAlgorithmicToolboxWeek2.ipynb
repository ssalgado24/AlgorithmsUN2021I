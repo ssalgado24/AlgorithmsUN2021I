{
  "nbformat": 4,
  "nbformat_minor": 0,
  "metadata": {
    "colab": {
      "name": "ssalgadoAlgorithmicToolboxWeek2.ipynb",
      "provenance": []
    },
    "kernelspec": {
      "name": "python3",
      "display_name": "Python 3"
    },
    "language_info": {
      "name": "python"
    }
  },
  "cells": [
    {
      "cell_type": "markdown",
      "metadata": {
        "id": "T2UByF3_Dev0"
      },
      "source": [
        "#**1. Fibonacci Number**#"
      ]
    },
    {
      "cell_type": "markdown",
      "metadata": {
        "id": "tJIzZxTCFb_r"
      },
      "source": [
        "Given a number n, find the $n^{th}$ fibonacci number"
      ]
    },
    {
      "cell_type": "code",
      "metadata": {
        "colab": {
          "base_uri": "https://localhost:8080/"
        },
        "id": "Urk8czD6BHLj",
        "outputId": "bf6dbe25-975b-41cd-9bef-bfe90761477c"
      },
      "source": [
        "def fibonacci(n):\n",
        "    if n <= 1:\n",
        "        return n\n",
        "\n",
        "    return fibonacci(n-1) + fibonacci(n-2)\n",
        "\n",
        "\n",
        "n = int(input())\n",
        "print(fibonacci(n))"
      ],
      "execution_count": 3,
      "outputs": [
        {
          "output_type": "stream",
          "text": [
            "1\n",
            "1\n"
          ],
          "name": "stdout"
        }
      ]
    },
    {
      "cell_type": "markdown",
      "metadata": {
        "id": "EhWC6LsBI-8_"
      },
      "source": [
        "#**2. Last Digit of a Fibonacci Number**#"
      ]
    },
    {
      "cell_type": "markdown",
      "metadata": {
        "id": "G3oihYmfOb-M"
      },
      "source": [
        "Given a number n, find the last digit of the $n^{th}$ fibonacci number"
      ]
    },
    {
      "cell_type": "code",
      "metadata": {
        "colab": {
          "base_uri": "https://localhost:8080/"
        },
        "id": "QsHLIaxUPif5",
        "outputId": "c3a2bc8f-31f5-4bf8-dd14-8de1fa71978e"
      },
      "source": [
        "%%writefile ld_fibonacci.cpp\n",
        "#include <iostream>\n",
        "int ld_fibonacci(int n){\n",
        "    int f[n];\n",
        "    f[0]=0;\n",
        "    f[1]=1;\n",
        "\n",
        "    for (int i = 2; i <= n; ++i)\n",
        "    {\n",
        "        f[i] = (f[i-1]+f[i-2]) % 10;\n",
        "    }\n",
        "\n",
        "    return f[n];\n",
        "}\n",
        "\n",
        "int main() {\n",
        "    int n;\n",
        "    std::cin >> n;\n",
        "    int c = ld_fibonacci(n);\n",
        "    std::cout << c ;\n",
        "    }"
      ],
      "execution_count": 32,
      "outputs": [
        {
          "output_type": "stream",
          "text": [
            "Overwriting ld_fibonacci.cpp\n"
          ],
          "name": "stdout"
        }
      ]
    },
    {
      "cell_type": "code",
      "metadata": {
        "colab": {
          "base_uri": "https://localhost:8080/"
        },
        "id": "m5hcFzTETEA5",
        "outputId": "334583a8-7c72-49f3-db36-953a58c0a7f3"
      },
      "source": [
        "!g++ ld_fibonacci.cpp -o ld_fibonacci\n",
        "!./ld_fibonacci"
      ],
      "execution_count": 33,
      "outputs": [
        {
          "output_type": "stream",
          "text": [
            "6\n",
            "8"
          ],
          "name": "stdout"
        }
      ]
    },
    {
      "cell_type": "markdown",
      "metadata": {
        "id": "8pxIt_J1Ur5I"
      },
      "source": [
        "#**3. Greatest Common Divisor**#"
      ]
    },
    {
      "cell_type": "markdown",
      "metadata": {
        "id": "XZABtPQ3VK-g"
      },
      "source": [
        "Given two numbers $x$ and $y$, find their Greatest Commmon Divisor"
      ]
    },
    {
      "cell_type": "code",
      "metadata": {
        "colab": {
          "base_uri": "https://localhost:8080/"
        },
        "id": "-KSeFOZITtgi",
        "outputId": "fa5ac40c-47d0-4d7c-a668-0cb3e6cd3098"
      },
      "source": [
        "%%writefile gcd.cpp\n",
        "#include <iostream>\n",
        "int mcd(int x, int y){\n",
        "  if(y==0)\n",
        "    return x;\n",
        "  return mcd(y, x%y);\n",
        "}\n",
        "\n",
        "int main() {\n",
        "   int x, y;\n",
        "  std::cin >> x >> y;\n",
        "   std::cout << mcd(x, y) << std::endl;\n",
        "  return 0;\n",
        "}"
      ],
      "execution_count": 28,
      "outputs": [
        {
          "output_type": "stream",
          "text": [
            "Writing gcd.cpp\n"
          ],
          "name": "stdout"
        }
      ]
    },
    {
      "cell_type": "code",
      "metadata": {
        "colab": {
          "base_uri": "https://localhost:8080/"
        },
        "id": "sg0mcGBNU3yl",
        "outputId": "4dac03b5-9e0f-430c-e985-02f87fff2cc2"
      },
      "source": [
        "!g++ gcd.cpp -o gcd\n",
        "!./gcd"
      ],
      "execution_count": 29,
      "outputs": [
        {
          "output_type": "stream",
          "text": [
            "35 40\n",
            "5\n"
          ],
          "name": "stdout"
        }
      ]
    },
    {
      "cell_type": "markdown",
      "metadata": {
        "id": "5GC2xUtRW1Ec"
      },
      "source": [
        "#**4. Least Common Multiple**#"
      ]
    },
    {
      "cell_type": "markdown",
      "metadata": {
        "id": "mF5Dmd27XDyW"
      },
      "source": [
        "Given two numbers $x$ and $y$, find their Least Commmon Multiple"
      ]
    },
    {
      "cell_type": "code",
      "metadata": {
        "colab": {
          "base_uri": "https://localhost:8080/"
        },
        "id": "j8JUizkYV2xs",
        "outputId": "767bd168-2475-44a5-e38b-e0a734d86fa1"
      },
      "source": [
        "%%writefile lcm.cpp\n",
        "#include <iostream>\n",
        "using ll = long long ;\n",
        "#include<bits/stdc++.h>\n",
        "\n",
        "int mcd(int x, int y){\n",
        "  if(y==0)\n",
        "    return x;\n",
        "  return mcd(y, x%y);\n",
        "}\n",
        "\n",
        "ll mcm(int x, int y){\n",
        "\n",
        "\treturn ((ll)x * y) / (mcd(x,y)) ;\n",
        "\n",
        "}\n",
        "\n",
        "int main() {\n",
        "\tint x, y;\n",
        "\tstd::cin >> x >> y;;\n",
        "\tstd::cout << mcm(x, y) << std::endl;\n",
        "\treturn 0;\n",
        "}"
      ],
      "execution_count": 37,
      "outputs": [
        {
          "output_type": "stream",
          "text": [
            "Overwriting lcm.cpp\n"
          ],
          "name": "stdout"
        }
      ]
    },
    {
      "cell_type": "code",
      "metadata": {
        "colab": {
          "base_uri": "https://localhost:8080/"
        },
        "id": "UFxuTwVYYT4i",
        "outputId": "d7efa148-87e9-4769-d6b3-d10d81e701d5"
      },
      "source": [
        "!g++ lcm.cpp -o lcm\n",
        "!./lcm"
      ],
      "execution_count": 38,
      "outputs": [
        {
          "output_type": "stream",
          "text": [
            "35 67\n",
            "2345\n"
          ],
          "name": "stdout"
        }
      ]
    }
  ]
}