{
  "nbformat": 4,
  "nbformat_minor": 0,
  "metadata": {
    "colab": {
      "name": "ssalgadoAlgorithmicToolboxWeek1.ipynb",
      "provenance": [],
      "collapsed_sections": []
    },
    "kernelspec": {
      "name": "python3",
      "display_name": "Python 3"
    },
    "language_info": {
      "name": "python"
    }
  },
  "cells": [
    {
      "cell_type": "markdown",
      "metadata": {
        "id": "N1ok_-56OjB1"
      },
      "source": [
        "# I Solving the Sum of Two Digits Programming Challenge"
      ]
    },
    {
      "cell_type": "markdown",
      "metadata": {
        "id": "MMY7kmDSO0KM"
      },
      "source": [
        "## C++"
      ]
    },
    {
      "cell_type": "code",
      "metadata": {
        "colab": {
          "base_uri": "https://localhost:8080/"
        },
        "id": "2pGGf9BkPNIk",
        "outputId": "9ea92f9c-74b7-473f-d98a-76476a3b009b"
      },
      "source": [
        "%%writefile sum.cpp\n",
        "#include <iostream>\n",
        "\n",
        "int sum_of_two_digits(int first_digit, int second_digit) {\n",
        "    return first_digit + second_digit;\n",
        "}\n",
        "\n",
        "int main() {\n",
        "    int a = 0;\n",
        "    int b = 0;\n",
        "    std::cin >> a;\n",
        "    std::cin >> b;\n",
        "    std::cout << sum_of_two_digits(a, b);\n",
        "    return 0;\n",
        "}"
      ],
      "execution_count": 9,
      "outputs": [
        {
          "output_type": "stream",
          "text": [
            "Overwriting sum.cpp\n"
          ],
          "name": "stdout"
        }
      ]
    },
    {
      "cell_type": "code",
      "metadata": {
        "colab": {
          "base_uri": "https://localhost:8080/"
        },
        "id": "0G3ZKOYAPXSU",
        "outputId": "57fdd803-f3bb-438a-b4d7-c4779896c02c"
      },
      "source": [
        "!g++ sum.cpp -o sum\n",
        "!./sum"
      ],
      "execution_count": 2,
      "outputs": [
        {
          "output_type": "stream",
          "text": [
            "5  11\n",
            "16"
          ],
          "name": "stdout"
        }
      ]
    },
    {
      "cell_type": "markdown",
      "metadata": {
        "id": "iNkG2HqfTl9c"
      },
      "source": [
        "### Test input output files"
      ]
    },
    {
      "cell_type": "code",
      "metadata": {
        "colab": {
          "base_uri": "https://localhost:8080/"
        },
        "id": "aTzU2efzMxly",
        "outputId": "bee45044-c5bf-47ef-f97b-54b9d6aaab3b"
      },
      "source": [
        "%%writefile input1.txt\n",
        "4 8"
      ],
      "execution_count": 3,
      "outputs": [
        {
          "output_type": "stream",
          "text": [
            "Writing input1.txt\n"
          ],
          "name": "stdout"
        }
      ]
    },
    {
      "cell_type": "markdown",
      "metadata": {
        "id": "pdkfsvs-T0Wr"
      },
      "source": [
        ""
      ]
    },
    {
      "cell_type": "code",
      "metadata": {
        "colab": {
          "base_uri": "https://localhost:8080/"
        },
        "id": "zBJ0Gc0NQRet",
        "outputId": "3c89339e-80ab-4d4a-eb91-d1624d5937df"
      },
      "source": [
        "%%writefile output1.txt\n",
        "12"
      ],
      "execution_count": 4,
      "outputs": [
        {
          "output_type": "stream",
          "text": [
            "Writing output1.txt\n"
          ],
          "name": "stdout"
        }
      ]
    },
    {
      "cell_type": "code",
      "metadata": {
        "colab": {
          "base_uri": "https://localhost:8080/"
        },
        "id": "IjEcIx63PJAN",
        "outputId": "ec719543-9811-4654-c0bf-16e0d4b81d5e"
      },
      "source": [
        "%%writefile input2.txt\n",
        "-5 9"
      ],
      "execution_count": 5,
      "outputs": [
        {
          "output_type": "stream",
          "text": [
            "Writing input2.txt\n"
          ],
          "name": "stdout"
        }
      ]
    },
    {
      "cell_type": "code",
      "metadata": {
        "colab": {
          "base_uri": "https://localhost:8080/"
        },
        "id": "Up9gOrxURTmd",
        "outputId": "66e25903-be50-4483-e82c-86fcd0ca6dd2"
      },
      "source": [
        "%%writefile output2.txt\n",
        "4"
      ],
      "execution_count": 6,
      "outputs": [
        {
          "output_type": "stream",
          "text": [
            "Writing output2.txt\n"
          ],
          "name": "stdout"
        }
      ]
    },
    {
      "cell_type": "code",
      "metadata": {
        "colab": {
          "base_uri": "https://localhost:8080/"
        },
        "id": "PST6G-s-Pwgc",
        "outputId": "3bfeb349-4e01-40d4-ee50-2df4c8538063"
      },
      "source": [
        "!./sum < input1.txt"
      ],
      "execution_count": 8,
      "outputs": [
        {
          "output_type": "stream",
          "text": [
            "12"
          ],
          "name": "stdout"
        }
      ]
    },
    {
      "cell_type": "code",
      "metadata": {
        "colab": {
          "base_uri": "https://localhost:8080/"
        },
        "id": "cKxZOjSlRfIN",
        "outputId": "a297098a-57c3-4234-8448-2104199551a5"
      },
      "source": [
        "!./sum < input2.txt"
      ],
      "execution_count": 10,
      "outputs": [
        {
          "output_type": "stream",
          "text": [
            "4"
          ],
          "name": "stdout"
        }
      ]
    },
    {
      "cell_type": "code",
      "metadata": {
        "id": "gMz7YLssPk4k"
      },
      "source": [
        "\n"
      ],
      "execution_count": null,
      "outputs": []
    },
    {
      "cell_type": "markdown",
      "metadata": {
        "id": "Qw2TQWCCUwqk"
      },
      "source": [
        "### Comparing files with grep\n",
        "\n",
        "https://askubuntu.com/questions/546796/comparing-two-text-files"
      ]
    },
    {
      "cell_type": "code",
      "metadata": {
        "id": "WVIaAmMKU4QM"
      },
      "source": [
        "!grep -xvFf output1.txt output1.txt "
      ],
      "execution_count": 11,
      "outputs": []
    },
    {
      "cell_type": "code",
      "metadata": {
        "colab": {
          "base_uri": "https://localhost:8080/"
        },
        "id": "MQU8gPPjQuYO",
        "outputId": "183f2773-b35f-4680-ec35-5aa4eb2c5409"
      },
      "source": [
        "!grep -xvFf output1.txt output2.txt "
      ],
      "execution_count": 12,
      "outputs": [
        {
          "output_type": "stream",
          "text": [
            "4\n"
          ],
          "name": "stdout"
        }
      ]
    },
    {
      "cell_type": "code",
      "metadata": {
        "colab": {
          "base_uri": "https://localhost:8080/"
        },
        "id": "jYL9OuYBTD_l",
        "outputId": "67df927e-0c23-430f-9f2b-24f6c2de4ea3"
      },
      "source": [
        "!grep -xvFf output2.txt output1.txt "
      ],
      "execution_count": 13,
      "outputs": [
        {
          "output_type": "stream",
          "text": [
            "12\n"
          ],
          "name": "stdout"
        }
      ]
    },
    {
      "cell_type": "code",
      "metadata": {
        "id": "Jlja0Xm4TX9M"
      },
      "source": [
        "!./sum < input1.txt> ctest1.txt\n",
        "!grep -xvFf output1.txt ctest1.txt"
      ],
      "execution_count": 14,
      "outputs": []
    },
    {
      "cell_type": "code",
      "metadata": {
        "id": "g9OIUZA_QLCQ"
      },
      "source": [
        "!./sum < input2.txt > ctest2.txt\n",
        "!grep -xvFf output2.txt ctest2.txt"
      ],
      "execution_count": 17,
      "outputs": []
    },
    {
      "cell_type": "markdown",
      "metadata": {
        "id": "3BgOaDjUVJk6"
      },
      "source": [
        "## Python"
      ]
    },
    {
      "cell_type": "code",
      "metadata": {
        "colab": {
          "base_uri": "https://localhost:8080/"
        },
        "id": "DBvl-T0CTN_8",
        "outputId": "748574f9-7e83-477b-d45c-6aabef990ab6"
      },
      "source": [
        "%%writefile sum.py\n",
        "# python3\n",
        "\n",
        "\n",
        "def sum_of_two_digits(first_digit, second_digit):\n",
        "    return first_digit + second_digit\n",
        "\n",
        "if __name__ == '__main__':\n",
        "    a, b = map(int, input().split())\n",
        "    print(sum_of_two_digits(a, b))"
      ],
      "execution_count": 18,
      "outputs": [
        {
          "output_type": "stream",
          "text": [
            "Writing sum.py\n"
          ],
          "name": "stdout"
        }
      ]
    },
    {
      "cell_type": "code",
      "metadata": {
        "colab": {
          "base_uri": "https://localhost:8080/"
        },
        "id": "QKoKM11_WGyF",
        "outputId": "bd02d2c8-8a31-48c8-bb9b-4d2363155f0e"
      },
      "source": [
        "!python sum.py"
      ],
      "execution_count": 19,
      "outputs": [
        {
          "output_type": "stream",
          "text": [
            "56  16\n",
            "72\n"
          ],
          "name": "stdout"
        }
      ]
    },
    {
      "cell_type": "code",
      "metadata": {
        "id": "cocFbPRTWrqt"
      },
      "source": [
        "!python sum.py  < input1.txt> ptest1.txt\n",
        "!grep -xvFf output1.txt ptest1.txt"
      ],
      "execution_count": 20,
      "outputs": []
    },
    {
      "cell_type": "code",
      "metadata": {
        "id": "MorKTa-XXASN"
      },
      "source": [
        "!python sum.py  < input2.txt> ptest2.txt\n",
        "!grep -xvFf output2.txt ptest2.txt"
      ],
      "execution_count": 22,
      "outputs": []
    },
    {
      "cell_type": "markdown",
      "metadata": {
        "id": "uvP-mOubW_5F"
      },
      "source": [
        "# II Solving The Maximum Pairwise Product Programming Challenge in C++"
      ]
    },
    {
      "cell_type": "markdown",
      "metadata": {
        "id": "C12yoFR6Xonl"
      },
      "source": [
        "## C++"
      ]
    },
    {
      "cell_type": "code",
      "metadata": {
        "colab": {
          "base_uri": "https://localhost:8080/"
        },
        "id": "YL4qJX3tXxdd",
        "outputId": "df01e92e-ea28-41db-ee11-8f640a7fd377"
      },
      "source": [
        "%%writefile max_pairwise_product1.cpp\n",
        "#include <iostream>\n",
        "#include <vector>\n",
        "#include <algorithm>\n",
        "#include <ctime>\n",
        "\n",
        "int MaxPairwiseProduct(const std::vector<int>& numbers) {\n",
        "    int max_product = 0;\n",
        "    int n = numbers.size();\n",
        "\n",
        "    for (int first = 0; first < n; ++first) {\n",
        "        for (int second = first + 1; second < n; ++second) {\n",
        "            max_product = std::max(max_product,\n",
        "                numbers[first] * numbers[second]);\n",
        "        }\n",
        "    }\n",
        "\n",
        "    return max_product;\n",
        "}\n",
        "\n",
        "int main() {\n",
        "    unsigned t0, t1;\n",
        "    int n;\n",
        "    std::cin >> n;\n",
        "    std::vector<int> numbers(n);\n",
        "    for (int i = 0; i < n; ++i) {\n",
        "        std::cin >> numbers[i];\n",
        "    }\n",
        "    t0=clock();\n",
        "    std::cout << MaxPairwiseProduct(numbers) << \"\\n\";\n",
        "    t1=clock();\n",
        "    double time = (double(t1-t0)/CLOCKS_PER_SEC);\n",
        "\t  std::cout << \"Execution Time: \" << time << std::endl;\n",
        "    return 0;\n",
        "}\n"
      ],
      "execution_count": 23,
      "outputs": [
        {
          "output_type": "stream",
          "text": [
            "Writing max_pairwise_product1.cpp\n"
          ],
          "name": "stdout"
        }
      ]
    },
    {
      "cell_type": "code",
      "metadata": {
        "colab": {
          "base_uri": "https://localhost:8080/"
        },
        "id": "KGxaEjvWX__O",
        "outputId": "d9aa6c39-f5fb-4bae-aee8-2dd76d8edef2"
      },
      "source": [
        "!g++ max_pairwise_product1.cpp -o max_pairwise_product1\n",
        "!./max_pairwise_product1"
      ],
      "execution_count": 24,
      "outputs": [
        {
          "output_type": "stream",
          "text": [
            "3\n",
            "1 2 4\n",
            "8\n",
            "Execution Time: 4.3e-05\n"
          ],
          "name": "stdout"
        }
      ]
    },
    {
      "cell_type": "markdown",
      "metadata": {
        "id": "IeZ3kTjpYmR9"
      },
      "source": [
        "### Test 1: lagest input numbers 200000 200000 in the input"
      ]
    },
    {
      "cell_type": "code",
      "metadata": {
        "colab": {
          "base_uri": "https://localhost:8080/"
        },
        "id": "LQNlZqaqYt7U",
        "outputId": "bfc66c44-a704-4ec3-b0f2-cf8e42eaa3b5"
      },
      "source": [
        "%%writefile input1.txt\n",
        "5\n",
        "1 3 200000 9 200000 23"
      ],
      "execution_count": 25,
      "outputs": [
        {
          "output_type": "stream",
          "text": [
            "Overwriting input1.txt\n"
          ],
          "name": "stdout"
        }
      ]
    },
    {
      "cell_type": "code",
      "metadata": {
        "colab": {
          "base_uri": "https://localhost:8080/"
        },
        "id": "2Wad2VZUZDxR",
        "outputId": "4ea9792f-03c3-4add-c0cd-1809472db774"
      },
      "source": [
        "!./max_pairwise_product1 < input1.txt"
      ],
      "execution_count": 26,
      "outputs": [
        {
          "output_type": "stream",
          "text": [
            "1345294336\n",
            "Execution Time: 4e-05\n"
          ],
          "name": "stdout"
        }
      ]
    },
    {
      "cell_type": "code",
      "metadata": {
        "colab": {
          "base_uri": "https://localhost:8080/"
        },
        "id": "MPcmsxiQZSfE",
        "outputId": "fed86f2d-1a40-4de0-e41a-f93b73f59132"
      },
      "source": [
        "%%writefile max_pairwise_product2.cpp\n",
        "#include <iostream>\n",
        "#include <vector>\n",
        "#include <algorithm>\n",
        "\n",
        "long long MaxPairwiseProduct(const std::vector<int>& numbers) {\n",
        "    long long max_product = 0LL;\n",
        "\t  long long aux_product = 0LL;\n",
        "    int n = numbers.size();\n",
        "\n",
        "    for (int first = 0; first < n; ++first) {\n",
        "        for (int second = first + 1; second < n; ++second) {\n",
        "\t\t\t       aux_product =  (long long) numbers[first] * numbers[second];\n",
        "            if ( max_product < aux_product)  {\n",
        "\t\t\t\t        max_product = aux_product;\n",
        "             }\n",
        "        }\n",
        "    }\n",
        "\n",
        "    return max_product;\n",
        "}\n",
        "\n",
        "int main() {\n",
        "    int n;\n",
        "    std::cin >> n;\n",
        "    std::vector<int> numbers(n);\n",
        "    for (int i = 0; i < n; ++i) {\n",
        "        std::cin >> numbers[i];\n",
        "    }\n",
        "\n",
        "    std::cout << MaxPairwiseProduct(numbers) << \"\\n\";\n",
        "    return 0;\n",
        "}\n"
      ],
      "execution_count": 27,
      "outputs": [
        {
          "output_type": "stream",
          "text": [
            "Writing max_pairwise_product2.cpp\n"
          ],
          "name": "stdout"
        }
      ]
    },
    {
      "cell_type": "code",
      "metadata": {
        "colab": {
          "base_uri": "https://localhost:8080/"
        },
        "id": "I5pCeOG1Zm7s",
        "outputId": "ccf566b2-5663-4bb9-ebef-2b019bcebfa5"
      },
      "source": [
        "!g++ max_pairwise_product2.cpp -o max_pairwise_product2\n",
        "!./max_pairwise_product2 < input1.txt"
      ],
      "execution_count": 28,
      "outputs": [
        {
          "output_type": "stream",
          "text": [
            "40000000000\n"
          ],
          "name": "stdout"
        }
      ]
    },
    {
      "cell_type": "markdown",
      "metadata": {
        "id": "9z9yr5QkeyJF"
      },
      "source": [
        "### Test 2  generate a tests file with the maximun n 200000 numbres and measure time"
      ]
    },
    {
      "cell_type": "code",
      "metadata": {
        "id": "oLiMjbAIfPlX",
        "colab": {
          "base_uri": "https://localhost:8080/"
        },
        "outputId": "43e0d58d-6759-4a9d-80c1-2b10bad9cba7"
      },
      "source": [
        "%%writefile input2.txt\n",
        "5\n",
        "1 3 200000 9 200000 23\n"
      ],
      "execution_count": 29,
      "outputs": [
        {
          "output_type": "stream",
          "text": [
            "Overwriting input2.txt\n"
          ],
          "name": "stdout"
        }
      ]
    },
    {
      "cell_type": "code",
      "metadata": {
        "colab": {
          "base_uri": "https://localhost:8080/"
        },
        "id": "f7xESocMb6sU",
        "outputId": "84f3d37d-8c1b-48ab-c0f3-318e8c7fc3e8"
      },
      "source": [
        "%%writefile generadorArchivo.cpp\n",
        "#include <iostream>\n",
        "#include <fstream>\n",
        "#include <ctime> \n",
        "using namespace std;\n",
        "int main(){\n",
        "\t//unsigned t0, t1;\n",
        "\t//t0=clock();\n",
        "\t// Code to execute\n",
        "\tint a=200000;\n",
        "\tint b=200000;\n",
        "\tofstream archivo;\n",
        "\tstring nomdelArch;\n",
        "\t\n",
        "\t//getline(cin,nomdelArch);\n",
        "\t//cin>>nomdelArch;\n",
        "\tnomdelArch=\"misDatos\";\n",
        "\tnomdelArch=nomdelArch+\".txt\";\n",
        "\tarchivo.open(nomdelArch.c_str(),ios::out);//abre o crea el archivo, si ya existe lo reemplaza  \tnombredelarchivo.open(\"ruta//nobre.txt\",ios::out);\n",
        "\tif(archivo.fail()){\n",
        "\t\tcout<<\"*No se puede abrir el archivo*\";\n",
        "\t\texit(1);\n",
        "\t}else{\n",
        "\t\tarchivo<<b<<\"\\n\";\n",
        "\t\tfor(int x=0;x<a;x++){\n",
        "\t\tarchivo<<x<<\" \";\t\n",
        "\t\t}\n",
        "\t//archivo<<\"asd\\nasd\";\n",
        "\tcout<<\"*El archivo se creo exitosamente*\";\t\n",
        "\t\n",
        "\t}\n",
        "\tarchivo.close();\n",
        "\t//t1 = clock();\n",
        "\t//double time = (double(t1-t0)/CLOCKS_PER_SEC);\n",
        "\t//cout << \"Execution Time: \" << time << endl;\n",
        "\t\n",
        "}"
      ],
      "execution_count": 30,
      "outputs": [
        {
          "output_type": "stream",
          "text": [
            "Writing generadorArchivo.cpp\n"
          ],
          "name": "stdout"
        }
      ]
    },
    {
      "cell_type": "code",
      "metadata": {
        "colab": {
          "base_uri": "https://localhost:8080/"
        },
        "id": "L7jGeIvNcwd4",
        "outputId": "74fd5bf6-f3e1-4be4-a1ba-5c887d961015"
      },
      "source": [
        "!g++ generadorArchivo.cpp -o generadorArchivo\n",
        "!./generadorArchivo"
      ],
      "execution_count": 32,
      "outputs": [
        {
          "output_type": "stream",
          "text": [
            "*El archivo se creo exitosamente*"
          ],
          "name": "stdout"
        }
      ]
    },
    {
      "cell_type": "markdown",
      "metadata": {
        "id": "sc9nOLQrfTm0"
      },
      "source": [
        "### Efficient solution "
      ]
    },
    {
      "cell_type": "code",
      "metadata": {
        "colab": {
          "base_uri": "https://localhost:8080/"
        },
        "id": "tFvi7qkHmxWe",
        "outputId": "9ba49f5e-07cb-4cca-879f-28b3cce327bd"
      },
      "source": [
        "%%writefile geetsCode.cpp\n",
        "// A O(n) C++ program to find maximum product pair in an array\n",
        "#include<bits/stdc++.h>\n",
        "#include<ctime>\n",
        "using namespace std;\n",
        " \n",
        "// Function to find maximum product pair in arr[0..n-1]\n",
        "void maxProduct(int arr[], int n)\n",
        "{\n",
        "    if (n < 2)\n",
        "    {\n",
        "        cout << \"No pairs exists\\n\";\n",
        "        return;\n",
        "    }\n",
        " \n",
        "    if (n == 2)\n",
        "    {\n",
        "        cout << arr[0] << \" \" << arr[1] << endl;\n",
        "        return;\n",
        "    }\n",
        " \n",
        "    // Iniitialize maximum and second maximum\n",
        "    int posa = INT_MIN, posb = INT_MIN;\n",
        " \n",
        "    // Iniitialize minimum and second minimum\n",
        "    int nega = INT_MIN, negb = INT_MIN;\n",
        " \n",
        "    // Traverse given array\n",
        "    for (int i = 0; i < n; i++)\n",
        "    {\n",
        "        // Update maximum and second maximum if needed\n",
        "        if (arr[i] > posa)\n",
        "        {\n",
        "            posb = posa;\n",
        "            posa = arr[i];\n",
        "        }\n",
        "        else if (arr[i] > posb)\n",
        "            posb = arr[i];\n",
        " \n",
        "        // Update minimum and second minimum if needed\n",
        "        if (arr[i] < 0 && abs(arr[i]) > abs(nega))\n",
        "        {\n",
        "            negb = nega;\n",
        "            nega = arr[i];\n",
        "        }\n",
        "        else if(arr[i] < 0 && abs(arr[i]) > abs(negb))\n",
        "            negb = arr[i];\n",
        "    }\n",
        " \n",
        "    if (nega*negb > posa*posb)\n",
        "        cout << \"Max product pair is {\" << nega << \", \"\n",
        "             << negb << \"}\"<<\"\\nEl producto es:\"<<nega*negb;\n",
        "    else\n",
        "        cout << \"Max product pair is {\" << posa << \", \"\n",
        "             << posb << \"}\"<<\"\\nEl producto es:\"<<posa*posb;\n",
        "}\n",
        " \n",
        "// Driver program to test above function\n",
        "int main()\n",
        "{\n",
        "    unsigned t0, t1;\n",
        "\t\n",
        "    int tam=0;\n",
        "    cin>>tam;\n",
        "    int arr[tam];\n",
        "    for(int a=0;a<tam;a++){\n",
        "    cin>>arr[a];\t\n",
        "\t}\n",
        "    t0=clock();\n",
        "    maxProduct(arr, tam);\n",
        "    t1=clock();\n",
        "    double time = (double(t1-t0)/CLOCKS_PER_SEC);\n",
        "\t  cout << \"Execution Time: \" << time << endl;\n",
        "    return 0;\n",
        "}"
      ],
      "execution_count": 33,
      "outputs": [
        {
          "output_type": "stream",
          "text": [
            "Writing geetsCode.cpp\n"
          ],
          "name": "stdout"
        }
      ]
    },
    {
      "cell_type": "code",
      "metadata": {
        "id": "JnW7_rm8nZkp"
      },
      "source": [
        "!g++ geetsCode.cpp -o geetsCode"
      ],
      "execution_count": 34,
      "outputs": []
    },
    {
      "cell_type": "markdown",
      "metadata": {
        "id": "bhqiKQG6fjKM"
      },
      "source": [
        "Stress tests "
      ]
    },
    {
      "cell_type": "code",
      "metadata": {
        "id": "7HoFbB6jc_tm",
        "colab": {
          "base_uri": "https://localhost:8080/"
        },
        "outputId": "e75dc48d-f24b-4719-8f04-7785ee1279f2"
      },
      "source": [
        "!./max_pairwise_product1 < /content/misDatos.txt"
      ],
      "execution_count": 45,
      "outputs": [
        {
          "output_type": "stream",
          "text": [
            "^C\n"
          ],
          "name": "stdout"
        }
      ]
    },
    {
      "cell_type": "code",
      "metadata": {
        "colab": {
          "base_uri": "https://localhost:8080/"
        },
        "id": "HDyU9PfgejsJ",
        "outputId": "bb0a6d1a-d991-4db4-cd00-157fc6b078af"
      },
      "source": [
        "!./geetsCode < /content/misDatos.txt"
      ],
      "execution_count": 40,
      "outputs": [
        {
          "output_type": "stream",
          "text": [
            "Max product pair is {199999, 199998}\n",
            "El producto es:1344694338Execution Time: 0.000909\n"
          ],
          "name": "stdout"
        }
      ]
    },
    {
      "cell_type": "markdown",
      "metadata": {
        "id": "yBYnp6KjpxU0"
      },
      "source": [
        "Measure with test file of the maximun n 200000 numbres "
      ]
    },
    {
      "cell_type": "markdown",
      "metadata": {
        "id": "rydCU4bFfrhG"
      },
      "source": [
        "## Python"
      ]
    },
    {
      "cell_type": "code",
      "metadata": {
        "colab": {
          "base_uri": "https://localhost:8080/"
        },
        "id": "lmdko51mzuLQ",
        "outputId": "e3178cc7-e5a0-482f-eaab-d703cbbe293c"
      },
      "source": [
        "# A O(n) Python 3 program to find\n",
        "# maximum product pair in an array\n",
        "\n",
        "# Function to find maximum product\n",
        "# pair in arr[0..n-1]\n",
        "def maxProduct(arr, n):\n",
        "\n",
        "\tif (n < 2):\n",
        "\t\tprint(\"No pairs exists\")\n",
        "\t\treturn\n",
        "\n",
        "\tif (n == 2):\n",
        "\t\tprint(arr[0] ,\" \" , arr[1])\n",
        "\t\treturn\n",
        "\n",
        "\t# Iniitialize maximum and\n",
        "\t# second maximum\n",
        "\tposa = 0\n",
        "\tposb = 0\n",
        "\n",
        "\t# Iniitialize minimum and\n",
        "\t# second minimum\n",
        "\tnega = 0\n",
        "\tnegb = 0\n",
        "\n",
        "\t# Traverse given array\n",
        "\tfor i in range(n):\n",
        "\t\n",
        "\t\t# Update maximum and second\n",
        "\t\t# maximum if needed\n",
        "\t\tif (arr[i] > posa):\n",
        "\t\t\tposb = posa\n",
        "\t\t\tposa = arr[i]\n",
        "\t\t\n",
        "\t\telif (arr[i] > posb):\n",
        "\t\t\tposb = arr[i]\n",
        "\n",
        "\t\t# Update minimum and second\n",
        "\t\t# minimum if needed\n",
        "\t\tif (arr[i] < 0 and abs(arr[i]) > abs(nega)):\n",
        "\t\t\tnegb = nega\n",
        "\t\t\tnega = arr[i]\n",
        "\t\t\n",
        "\t\telif(arr[i] < 0 and abs(arr[i]) > abs(negb)):\n",
        "\t\t\tnegb = arr[i]\n",
        "\n",
        "\tif (nega * negb > posa * posb):\n",
        "\t\tprint(\"Max product pair is {\" ,\n",
        "\t\t\t\tnega ,\", \", negb , \"}\",\"\\nel producto es\",nega*negb)\n",
        "\telse:\n",
        "\t\tprint( \"Max product pair is {\" ,\n",
        "\t\t\t\tposa ,\", \" ,posb , \"}\",\"\\nel producto es\",posb*posa)\n",
        "\n",
        "\n",
        "# Driver Code\n",
        "if __name__ ==\"__main__\":\n",
        "\tarr = [1, 4, 3, 6, 7, 0]\n",
        "\tn = len(arr)\n",
        "\tmaxProduct(arr, n)\n",
        "\n",
        "# This code is contributed\n",
        "# by ChitraNayal\n"
      ],
      "execution_count": 41,
      "outputs": [
        {
          "output_type": "stream",
          "text": [
            "Max product pair is { 7 ,  6 } \n",
            "el producto es 42\n"
          ],
          "name": "stdout"
        }
      ]
    },
    {
      "cell_type": "code",
      "metadata": {
        "colab": {
          "base_uri": "https://localhost:8080/"
        },
        "id": "EwPghmLO0rr4",
        "outputId": "7ebad670-44b6-434a-8941-c6cfd4893bd9"
      },
      "source": [
        "import time\n",
        "lista=[]\n",
        "f = open ('misDatos.txt','r')\n",
        "a=f.readline()\n",
        "B=f.readline()\n",
        "for x in B.split():\n",
        "  lista.append(int(x))\n",
        "inicio = time.time()\n",
        "maxProduct(lista,len(lista))\n",
        "fin = time.time()\n",
        "print(\"el tiempo de ejecucion es de:\",fin-inicio)"
      ],
      "execution_count": 46,
      "outputs": [
        {
          "output_type": "stream",
          "text": [
            "Max product pair is { 199999 ,  199998 } \n",
            "el producto es 39999400002\n",
            "el tiempo de ejecucion es de: 0.04921889305114746\n"
          ],
          "name": "stdout"
        }
      ]
    },
    {
      "cell_type": "markdown",
      "metadata": {
        "id": "4c1OatZxHvS9"
      },
      "source": [
        "**RESULT**\n",
        "\n",
        "![semana1.PNG](data:image/png;base64,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)"
      ]
    }
  ]
}