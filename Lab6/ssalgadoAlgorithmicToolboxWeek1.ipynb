{
  "nbformat": 4,
  "nbformat_minor": 0,
  "metadata": {
    "colab": {
      "name": "ssalgadoAlgorithmicToolboxWeek1.ipynb",
      "provenance": [],
      "collapsed_sections": [],
      "toc_visible": true
    },
    "kernelspec": {
      "name": "python3",
      "display_name": "Python 3"
    },
    "language_info": {
      "name": "python"
    }
  },
  "cells": [
    {
      "cell_type": "markdown",
      "metadata": {
        "id": "N1ok_-56OjB1"
      },
      "source": [
        "# I Solving the Sum of Two Digits Programming Challenge"
      ]
    },
    {
      "cell_type": "markdown",
      "metadata": {
        "id": "MMY7kmDSO0KM"
      },
      "source": [
        "## C++"
      ]
    },
    {
      "cell_type": "code",
      "metadata": {
        "colab": {
          "base_uri": "https://localhost:8080/"
        },
        "id": "2pGGf9BkPNIk",
        "outputId": "59553194-9e82-43f2-a0b0-de054be5713b"
      },
      "source": [
        "%%writefile APlusB.cpp\n",
        "#include <iostream>\n",
        "\n",
        "int sum_of_two_digits(int first_digit, int second_digit) {\n",
        "    return first_digit + second_digit;\n",
        "}\n",
        "\n",
        "int main() {\n",
        "    int a = 0;\n",
        "    int b = 0;\n",
        "    std::cin >> a;\n",
        "    std::cin >> b;\n",
        "    std::cout << sum_of_two_digits(a, b);\n",
        "    return 0;\n",
        "}"
      ],
      "execution_count": 2,
      "outputs": [
        {
          "output_type": "stream",
          "text": [
            "Writing APlusB.cpp\n"
          ],
          "name": "stdout"
        }
      ]
    },
    {
      "cell_type": "code",
      "metadata": {
        "colab": {
          "base_uri": "https://localhost:8080/"
        },
        "id": "0G3ZKOYAPXSU",
        "outputId": "619c910d-69d4-4a42-c959-3d772c457381"
      },
      "source": [
        "!g++ APlusB.cpp -o APlusB\n",
        "!./APlusB"
      ],
      "execution_count": 3,
      "outputs": [
        {
          "output_type": "stream",
          "text": [
            "4  11\n",
            "15"
          ],
          "name": "stdout"
        }
      ]
    },
    {
      "cell_type": "markdown",
      "metadata": {
        "id": "iNkG2HqfTl9c"
      },
      "source": [
        "### Test input output files"
      ]
    },
    {
      "cell_type": "code",
      "metadata": {
        "colab": {
          "base_uri": "https://localhost:8080/"
        },
        "id": "aTzU2efzMxly",
        "outputId": "e89c8abf-a2b9-4118-de5a-f4591137b66c"
      },
      "source": [
        "%%writefile input1.txt\n",
        "4 8"
      ],
      "execution_count": 4,
      "outputs": [
        {
          "output_type": "stream",
          "text": [
            "Writing input1.txt\n"
          ],
          "name": "stdout"
        }
      ]
    },
    {
      "cell_type": "markdown",
      "metadata": {
        "id": "pdkfsvs-T0Wr"
      },
      "source": [
        ""
      ]
    },
    {
      "cell_type": "code",
      "metadata": {
        "colab": {
          "base_uri": "https://localhost:8080/"
        },
        "id": "zBJ0Gc0NQRet",
        "outputId": "f9d475b8-342a-4915-9309-44021fe26581"
      },
      "source": [
        "%%writefile output1.txt\n",
        "12"
      ],
      "execution_count": 5,
      "outputs": [
        {
          "output_type": "stream",
          "text": [
            "Writing output1.txt\n"
          ],
          "name": "stdout"
        }
      ]
    },
    {
      "cell_type": "code",
      "metadata": {
        "colab": {
          "base_uri": "https://localhost:8080/"
        },
        "id": "IjEcIx63PJAN",
        "outputId": "a9b046ae-5c8b-4569-e495-3d016e34e35c"
      },
      "source": [
        "%%writefile input2.txt\n",
        "-5 9"
      ],
      "execution_count": 6,
      "outputs": [
        {
          "output_type": "stream",
          "text": [
            "Writing input2.txt\n"
          ],
          "name": "stdout"
        }
      ]
    },
    {
      "cell_type": "code",
      "metadata": {
        "colab": {
          "base_uri": "https://localhost:8080/"
        },
        "id": "Up9gOrxURTmd",
        "outputId": "7d76eb40-853a-40c8-afca-767c2670cb3b"
      },
      "source": [
        "%%writefile output2.txt\n",
        "4"
      ],
      "execution_count": 7,
      "outputs": [
        {
          "output_type": "stream",
          "text": [
            "Writing output2.txt\n"
          ],
          "name": "stdout"
        }
      ]
    },
    {
      "cell_type": "code",
      "metadata": {
        "colab": {
          "base_uri": "https://localhost:8080/"
        },
        "id": "PST6G-s-Pwgc",
        "outputId": "2b7e40fd-c8f1-4571-ad26-c18433e91e06"
      },
      "source": [
        "!./APlusB < input1.txt"
      ],
      "execution_count": 8,
      "outputs": [
        {
          "output_type": "stream",
          "text": [
            "12"
          ],
          "name": "stdout"
        }
      ]
    },
    {
      "cell_type": "code",
      "metadata": {
        "colab": {
          "base_uri": "https://localhost:8080/"
        },
        "id": "cKxZOjSlRfIN",
        "outputId": "7128795d-2772-4055-d6e2-fff620c78501"
      },
      "source": [
        "!./APlusB < input2.txt"
      ],
      "execution_count": 9,
      "outputs": [
        {
          "output_type": "stream",
          "text": [
            "4"
          ],
          "name": "stdout"
        }
      ]
    },
    {
      "cell_type": "markdown",
      "metadata": {
        "id": "Qw2TQWCCUwqk"
      },
      "source": [
        "### Comparing files with grep\n",
        "\n",
        "https://askubuntu.com/questions/546796/comparing-two-text-files"
      ]
    },
    {
      "cell_type": "code",
      "metadata": {
        "id": "WVIaAmMKU4QM"
      },
      "source": [
        "!grep -xvFf output1.txt output1.txt "
      ],
      "execution_count": 10,
      "outputs": []
    },
    {
      "cell_type": "code",
      "metadata": {
        "colab": {
          "base_uri": "https://localhost:8080/"
        },
        "id": "MQU8gPPjQuYO",
        "outputId": "423ff0c2-17fd-471d-a2ca-3dc01a29efb1"
      },
      "source": [
        "!grep -xvFf output1.txt output2.txt "
      ],
      "execution_count": 11,
      "outputs": [
        {
          "output_type": "stream",
          "text": [
            "4\n"
          ],
          "name": "stdout"
        }
      ]
    },
    {
      "cell_type": "code",
      "metadata": {
        "colab": {
          "base_uri": "https://localhost:8080/"
        },
        "id": "jYL9OuYBTD_l",
        "outputId": "bc317465-1761-46bc-fa0e-13288ea5c6b7"
      },
      "source": [
        "!grep -xvFf output2.txt output1.txt "
      ],
      "execution_count": 12,
      "outputs": [
        {
          "output_type": "stream",
          "text": [
            "12\n"
          ],
          "name": "stdout"
        }
      ]
    },
    {
      "cell_type": "code",
      "metadata": {
        "id": "Jlja0Xm4TX9M"
      },
      "source": [
        "!./APlusB < input1.txt> ctest1.txt\n",
        "!grep -xvFf output1.txt ctest1.txt"
      ],
      "execution_count": 13,
      "outputs": []
    },
    {
      "cell_type": "code",
      "metadata": {
        "id": "g9OIUZA_QLCQ"
      },
      "source": [
        "!./APlusB < input2.txt > ctest2.txt\n",
        "!grep -xvFf output2.txt ctest2.txt"
      ],
      "execution_count": 14,
      "outputs": []
    },
    {
      "cell_type": "markdown",
      "metadata": {
        "id": "3BgOaDjUVJk6"
      },
      "source": [
        "## Python"
      ]
    },
    {
      "cell_type": "code",
      "metadata": {
        "colab": {
          "base_uri": "https://localhost:8080/"
        },
        "id": "DBvl-T0CTN_8",
        "outputId": "011dcd4b-5817-4188-b173-224eb9b3068b"
      },
      "source": [
        "%%writefile sum.py\n",
        "# python3\n",
        "\n",
        "def sum_of_two_digits(first_digit, second_digit):\n",
        "    return first_digit + second_digit\n",
        "\n",
        "if __name__ == '__main__':\n",
        "    a, b = map(int, input().split())\n",
        "    print(sum_of_two_digits(a, b))"
      ],
      "execution_count": 15,
      "outputs": [
        {
          "output_type": "stream",
          "text": [
            "Writing sum.py\n"
          ],
          "name": "stdout"
        }
      ]
    },
    {
      "cell_type": "code",
      "metadata": {
        "colab": {
          "base_uri": "https://localhost:8080/"
        },
        "id": "QKoKM11_WGyF",
        "outputId": "fa13334e-88d5-4b01-dfb9-aa88b779ea4d"
      },
      "source": [
        "!python sum.py"
      ],
      "execution_count": 16,
      "outputs": [
        {
          "output_type": "stream",
          "text": [
            "20  6\n",
            "26\n"
          ],
          "name": "stdout"
        }
      ]
    },
    {
      "cell_type": "code",
      "metadata": {
        "id": "cocFbPRTWrqt"
      },
      "source": [
        "!python sum.py  < input1.txt> ptest1.txt\n",
        "!grep -xvFf output1.txt ptest1.txt"
      ],
      "execution_count": 17,
      "outputs": []
    },
    {
      "cell_type": "code",
      "metadata": {
        "id": "MorKTa-XXASN"
      },
      "source": [
        "!python sum.py  < input2.txt> ptest2.txt\n",
        "!grep -xvFf output2.txt ptest2.txt"
      ],
      "execution_count": 18,
      "outputs": []
    },
    {
      "cell_type": "markdown",
      "metadata": {
        "id": "uvP-mOubW_5F"
      },
      "source": [
        "# II Solving The Maximum Pairwise Product Programming Challenge in C++"
      ]
    },
    {
      "cell_type": "markdown",
      "metadata": {
        "id": "C12yoFR6Xonl"
      },
      "source": [
        "## C++"
      ]
    },
    {
      "cell_type": "code",
      "metadata": {
        "colab": {
          "base_uri": "https://localhost:8080/"
        },
        "id": "YL4qJX3tXxdd",
        "outputId": "041955be-ad43-4dd4-c456-5853e41a7f4b"
      },
      "source": [
        "%%writefile max_pairwise_product.cpp\n",
        "#include <iostream>\n",
        "#include <vector>\n",
        "#include <algorithm>\n",
        "\n",
        "int MaxPairwiseProduct(const std::vector<int>& numbers) {\n",
        "    int max_product = 0;\n",
        "    int n = numbers.size();\n",
        "\n",
        "    for (int first = 0; first < n; ++first) {\n",
        "        for (int second = first + 1; second < n; ++second) {\n",
        "            max_product = std::max(max_product,\n",
        "                numbers[first] * numbers[second]);\n",
        "        }\n",
        "    }\n",
        "\n",
        "    return max_product;\n",
        "}\n",
        "\n",
        "int main() {\n",
        "    int n;\n",
        "    std::cin >> n;\n",
        "    std::vector<int> numbers(n);\n",
        "    for (int i = 0; i < n; ++i) {\n",
        "        std::cin >> numbers[i];\n",
        "    }\n",
        "\n",
        "    std::cout << MaxPairwiseProduct(numbers) << \"\\n\";\n",
        "    return 0;\n",
        "}\n"
      ],
      "execution_count": 19,
      "outputs": [
        {
          "output_type": "stream",
          "text": [
            "Writing max_pairwise_product.cpp\n"
          ],
          "name": "stdout"
        }
      ]
    },
    {
      "cell_type": "code",
      "metadata": {
        "colab": {
          "base_uri": "https://localhost:8080/"
        },
        "id": "KGxaEjvWX__O",
        "outputId": "5f672221-bd0c-4f03-defc-980fa95bc443"
      },
      "source": [
        "!g++ max_pairwise_product.cpp -o max_pairwise_product\n",
        "!./max_pairwise_product"
      ],
      "execution_count": 20,
      "outputs": [
        {
          "output_type": "stream",
          "text": [
            "6\n",
            "26 4 16 25 98 46\n",
            "4508\n"
          ],
          "name": "stdout"
        }
      ]
    },
    {
      "cell_type": "markdown",
      "metadata": {
        "id": "e7KhxHGNS3i0"
      },
      "source": [
        "### Test 1: Small numbers"
      ]
    },
    {
      "cell_type": "code",
      "metadata": {
        "colab": {
          "base_uri": "https://localhost:8080/"
        },
        "id": "e1mmTzBgShT-",
        "outputId": "8f49044f-72c2-4940-b66e-81f192d4d771"
      },
      "source": [
        "%%writefile input1.txt\n",
        "10\n",
        "1 2 3 4 5 6 7 8 9 10"
      ],
      "execution_count": 21,
      "outputs": [
        {
          "output_type": "stream",
          "text": [
            "Overwriting input1.txt\n"
          ],
          "name": "stdout"
        }
      ]
    },
    {
      "cell_type": "code",
      "metadata": {
        "colab": {
          "base_uri": "https://localhost:8080/"
        },
        "id": "vy_uI0x7TCId",
        "outputId": "bc1720f8-9d52-4914-86e7-a028e159e40f"
      },
      "source": [
        "!./max_pairwise_product < input1.txt"
      ],
      "execution_count": 22,
      "outputs": [
        {
          "output_type": "stream",
          "text": [
            "90\n"
          ],
          "name": "stdout"
        }
      ]
    },
    {
      "cell_type": "markdown",
      "metadata": {
        "id": "IeZ3kTjpYmR9"
      },
      "source": [
        "### Test 2: largest input numbers 200000 200000 in the input"
      ]
    },
    {
      "cell_type": "code",
      "metadata": {
        "colab": {
          "base_uri": "https://localhost:8080/"
        },
        "id": "LQNlZqaqYt7U",
        "outputId": "5e47132e-0458-48d8-f511-1c62f97e65b7"
      },
      "source": [
        "%%writefile input2.txt\n",
        "6\n",
        "1 3 200000 9 200000 23"
      ],
      "execution_count": 23,
      "outputs": [
        {
          "output_type": "stream",
          "text": [
            "Overwriting input2.txt\n"
          ],
          "name": "stdout"
        }
      ]
    },
    {
      "cell_type": "code",
      "metadata": {
        "colab": {
          "base_uri": "https://localhost:8080/"
        },
        "id": "2Wad2VZUZDxR",
        "outputId": "5149f1cb-7393-4ead-ddf3-3ac1409005bc"
      },
      "source": [
        "!./max_pairwise_product < input2.txt"
      ],
      "execution_count": 24,
      "outputs": [
        {
          "output_type": "stream",
          "text": [
            "1345294336\n"
          ],
          "name": "stdout"
        }
      ]
    },
    {
      "cell_type": "markdown",
      "metadata": {
        "id": "H2SC0Qt5HCzz"
      },
      "source": [
        "Changing the variables to long long"
      ]
    },
    {
      "cell_type": "code",
      "metadata": {
        "colab": {
          "base_uri": "https://localhost:8080/"
        },
        "id": "MPcmsxiQZSfE",
        "outputId": "a1d42ce8-e9d9-42c8-d982-d4ca0d2c4ca6"
      },
      "source": [
        "%%writefile max_pairwise_product_long.cpp\n",
        "#include <iostream>\n",
        "#include <vector>\n",
        "#include <algorithm>\n",
        "\n",
        "long long MaxPairwiseProduct(const std::vector<int>& numbers) {\n",
        "    long long max_product = 0LL;\n",
        "\t  long long aux_product = 0LL;\n",
        "    int n = numbers.size();\n",
        "\n",
        "    for (int first = 0; first < n; ++first) {\n",
        "        for (int second = first + 1; second < n; ++second) {\n",
        "\t\t\t       aux_product =  (long long) numbers[first] * numbers[second];\n",
        "            if ( max_product < aux_product)  {\n",
        "\t\t\t\t        max_product = aux_product;\n",
        "             }\n",
        "        }\n",
        "    }\n",
        "\n",
        "    return max_product;\n",
        "}\n",
        "\n",
        "int main() {\n",
        "    int n;\n",
        "    std::cin >> n;\n",
        "    std::vector<int> numbers(n);\n",
        "    for (int i = 0; i < n; ++i) {\n",
        "        std::cin >> numbers[i];\n",
        "    }\n",
        "\n",
        "    std::cout << MaxPairwiseProduct(numbers) << \"\\n\";\n",
        "    return 0;\n",
        "}\n"
      ],
      "execution_count": 25,
      "outputs": [
        {
          "output_type": "stream",
          "text": [
            "Writing max_pairwise_product_long.cpp\n"
          ],
          "name": "stdout"
        }
      ]
    },
    {
      "cell_type": "code",
      "metadata": {
        "colab": {
          "base_uri": "https://localhost:8080/"
        },
        "id": "I5pCeOG1Zm7s",
        "outputId": "4f321e75-99be-44f7-ac55-cc1357c74038"
      },
      "source": [
        "!g++ max_pairwise_product_long.cpp -o max_pairwise_product_long\n",
        "!./max_pairwise_product_long < input1.txt\n",
        "!./max_pairwise_product_long < input2.txt"
      ],
      "execution_count": 26,
      "outputs": [
        {
          "output_type": "stream",
          "text": [
            "90\n",
            "40000000000\n"
          ],
          "name": "stdout"
        }
      ]
    },
    {
      "cell_type": "markdown",
      "metadata": {
        "id": "XPVHkHxH6_7s"
      },
      "source": [
        "### Test 3  stress tests 20  times  random n in [2, 20] "
      ]
    },
    {
      "cell_type": "code",
      "metadata": {
        "id": "PwqpBmYr69fu",
        "colab": {
          "base_uri": "https://localhost:8080/"
        },
        "outputId": "17da73b4-5505-4f8f-c153-590fab804683"
      },
      "source": [
        "%%writefile Test3Write.cpp\n",
        "\n",
        "#include <iostream>\n",
        "#include <fstream>\n",
        "#include <cstdlib>\n",
        "#include <ctime>\n",
        "\n",
        "using namespace std;\n",
        "\n",
        "int main() {\n",
        "  // Create and open a text file\n",
        "  ofstream MyFile(\"input4.txt\");\n",
        "  srand(time(NULL));\n",
        " int random1= rand()% (20-2+1) + 2;\n",
        " MyFile << random1 <<\"\\n\";  // n \n",
        " for (int i=0; i < random1; i++){\n",
        "     srand(time(NULL)+i);\n",
        "     int random2=  rand()% 200000;\n",
        "     MyFile << random2 <<\" \";\n",
        " }\n",
        "  \n",
        "  // Close the file\n",
        "  MyFile.close();\n",
        "}"
      ],
      "execution_count": 70,
      "outputs": [
        {
          "output_type": "stream",
          "text": [
            "Overwriting Test3Write.cpp\n"
          ],
          "name": "stdout"
        }
      ]
    },
    {
      "cell_type": "code",
      "metadata": {
        "id": "DdBk566iQVaE"
      },
      "source": [
        "#1\n",
        "!g++ Test3Write.cpp -o Test3Write\n",
        "!./Test3Write"
      ],
      "execution_count": 76,
      "outputs": []
    },
    {
      "cell_type": "code",
      "metadata": {
        "colab": {
          "base_uri": "https://localhost:8080/"
        },
        "id": "RUYx_ZMLUr4l",
        "outputId": "8c1419b5-cd89-4789-dca9-220760525c73"
      },
      "source": [
        "!g++ max_pairwise_product_long.cpp -o max_pairwise_product_long\n",
        "!time ./max_pairwise_product_long < input4.txt"
      ],
      "execution_count": 77,
      "outputs": [
        {
          "output_type": "stream",
          "text": [
            "27930045200\n",
            "\n",
            "real\t0m0.003s\n",
            "user\t0m0.001s\n",
            "sys\t0m0.002s\n"
          ],
          "name": "stdout"
        }
      ]
    },
    {
      "cell_type": "code",
      "metadata": {
        "id": "MwGcBzW5U7uv"
      },
      "source": [
        "#2\n",
        "!g++ Test3Write.cpp -o Test3Write\n",
        "!./Test3Write"
      ],
      "execution_count": 78,
      "outputs": []
    },
    {
      "cell_type": "code",
      "metadata": {
        "colab": {
          "base_uri": "https://localhost:8080/"
        },
        "id": "RMH-FnM2U0uo",
        "outputId": "2dd6214e-721e-4b3f-ccbf-aadf2d78fa09"
      },
      "source": [
        "!g++ max_pairwise_product_long.cpp -o max_pairwise_product_long\n",
        "!time ./max_pairwise_product_long < input4.txt"
      ],
      "execution_count": 79,
      "outputs": [
        {
          "output_type": "stream",
          "text": [
            "27922022048\n",
            "\n",
            "real\t0m0.004s\n",
            "user\t0m0.003s\n",
            "sys\t0m0.001s\n"
          ],
          "name": "stdout"
        }
      ]
    },
    {
      "cell_type": "code",
      "metadata": {
        "id": "93IowCjJfE17"
      },
      "source": [
        "#3\n",
        "!g++ Test3Write.cpp -o Test3Write\n",
        "!./Test3Write"
      ],
      "execution_count": 81,
      "outputs": []
    },
    {
      "cell_type": "code",
      "metadata": {
        "colab": {
          "base_uri": "https://localhost:8080/"
        },
        "id": "X_7e8QOufd4k",
        "outputId": "dfe81360-fdc5-493d-8306-379550739b3f"
      },
      "source": [
        "!g++ max_pairwise_product_long.cpp -o max_pairwise_product_long\n",
        "!time ./max_pairwise_product_long < input4.txt"
      ],
      "execution_count": 82,
      "outputs": [
        {
          "output_type": "stream",
          "text": [
            "31038982355\n",
            "\n",
            "real\t0m0.003s\n",
            "user\t0m0.001s\n",
            "sys\t0m0.002s\n"
          ],
          "name": "stdout"
        }
      ]
    },
    {
      "cell_type": "code",
      "metadata": {
        "id": "FzgjhvoAfml5"
      },
      "source": [
        "#4\n",
        "!g++ Test3Write.cpp -o Test3Write\n",
        "!./Test3Write"
      ],
      "execution_count": 83,
      "outputs": []
    },
    {
      "cell_type": "code",
      "metadata": {
        "colab": {
          "base_uri": "https://localhost:8080/"
        },
        "id": "mr7ZWb71fqL5",
        "outputId": "b06738fb-350c-434f-8cd1-6b3d048f2a24"
      },
      "source": [
        "!g++ max_pairwise_product_long.cpp -o max_pairwise_product_long\n",
        "!time ./max_pairwise_product_long < input4.txt"
      ],
      "execution_count": 84,
      "outputs": [
        {
          "output_type": "stream",
          "text": [
            "36268974183\n",
            "\n",
            "real\t0m0.004s\n",
            "user\t0m0.002s\n",
            "sys\t0m0.002s\n"
          ],
          "name": "stdout"
        }
      ]
    },
    {
      "cell_type": "code",
      "metadata": {
        "id": "aDxJktk3frQ5"
      },
      "source": [
        "#5\n",
        "!g++ Test3Write.cpp -o Test3Write\n",
        "!./Test3Write"
      ],
      "execution_count": 85,
      "outputs": []
    },
    {
      "cell_type": "code",
      "metadata": {
        "colab": {
          "base_uri": "https://localhost:8080/"
        },
        "id": "5vdtZvMofwFt",
        "outputId": "f7eb5e9b-bf50-4f9f-c607-adfe7f142097"
      },
      "source": [
        "!g++ max_pairwise_product_long.cpp -o max_pairwise_product_long\n",
        "!time ./max_pairwise_product_long < input4.txt"
      ],
      "execution_count": 86,
      "outputs": [
        {
          "output_type": "stream",
          "text": [
            "15274756640\n",
            "\n",
            "real\t0m0.004s\n",
            "user\t0m0.001s\n",
            "sys\t0m0.003s\n"
          ],
          "name": "stdout"
        }
      ]
    },
    {
      "cell_type": "code",
      "metadata": {
        "id": "r9hNDc_afz5z"
      },
      "source": [
        "#6\n",
        "!g++ Test3Write.cpp -o Test3Write\n",
        "!./Test3Write"
      ],
      "execution_count": 87,
      "outputs": []
    },
    {
      "cell_type": "code",
      "metadata": {
        "colab": {
          "base_uri": "https://localhost:8080/"
        },
        "id": "I97wbDo-f1uI",
        "outputId": "7d5006be-bc27-45bf-aaaa-a9867698d66c"
      },
      "source": [
        "!g++ max_pairwise_product_long.cpp -o max_pairwise_product_long\n",
        "!time ./max_pairwise_product_long < input4.txt"
      ],
      "execution_count": 88,
      "outputs": [
        {
          "output_type": "stream",
          "text": [
            "14015678136\n",
            "\n",
            "real\t0m0.005s\n",
            "user\t0m0.000s\n",
            "sys\t0m0.004s\n"
          ],
          "name": "stdout"
        }
      ]
    },
    {
      "cell_type": "code",
      "metadata": {
        "id": "D1wRDGSdgCIo"
      },
      "source": [
        "#7\n",
        "!g++ Test3Write.cpp -o Test3Write\n",
        "!./Test3Write"
      ],
      "execution_count": 89,
      "outputs": []
    },
    {
      "cell_type": "code",
      "metadata": {
        "colab": {
          "base_uri": "https://localhost:8080/"
        },
        "id": "87S6gvt0gD_N",
        "outputId": "ff36b133-affe-42e5-e321-bf271555f94e"
      },
      "source": [
        "!g++ max_pairwise_product_long.cpp -o max_pairwise_product_long\n",
        "!time ./max_pairwise_product_long < input4.txt"
      ],
      "execution_count": 90,
      "outputs": [
        {
          "output_type": "stream",
          "text": [
            "29136402806\n",
            "\n",
            "real\t0m0.003s\n",
            "user\t0m0.002s\n",
            "sys\t0m0.001s\n"
          ],
          "name": "stdout"
        }
      ]
    },
    {
      "cell_type": "code",
      "metadata": {
        "id": "2h6FdSqogLyU"
      },
      "source": [
        "#8\n",
        "!g++ Test3Write.cpp -o Test3Write\n",
        "!./Test3Write"
      ],
      "execution_count": 91,
      "outputs": []
    },
    {
      "cell_type": "code",
      "metadata": {
        "colab": {
          "base_uri": "https://localhost:8080/"
        },
        "id": "NO6EG357gOm7",
        "outputId": "c5f878a5-7964-497b-c16e-7d80038d2a12"
      },
      "source": [
        "!g++ max_pairwise_product_long.cpp -o max_pairwise_product_long\n",
        "!time ./max_pairwise_product_long < input4.txt"
      ],
      "execution_count": 92,
      "outputs": [
        {
          "output_type": "stream",
          "text": [
            "32453119817\n",
            "\n",
            "real\t0m0.008s\n",
            "user\t0m0.002s\n",
            "sys\t0m0.003s\n"
          ],
          "name": "stdout"
        }
      ]
    },
    {
      "cell_type": "code",
      "metadata": {
        "id": "E1YT5l-OgRO8"
      },
      "source": [
        "#9\n",
        "!g++ Test3Write.cpp -o Test3Write\n",
        "!./Test3Write"
      ],
      "execution_count": 93,
      "outputs": []
    },
    {
      "cell_type": "code",
      "metadata": {
        "colab": {
          "base_uri": "https://localhost:8080/"
        },
        "id": "_QGu4VixgUKS",
        "outputId": "e4650f2d-ad78-4dcf-c89b-495f7e960cdc"
      },
      "source": [
        "!g++ max_pairwise_product_long.cpp -o max_pairwise_product_long\n",
        "!time ./max_pairwise_product_long < input4.txt"
      ],
      "execution_count": 94,
      "outputs": [
        {
          "output_type": "stream",
          "text": [
            "36633672090\n",
            "\n",
            "real\t0m0.004s\n",
            "user\t0m0.000s\n",
            "sys\t0m0.004s\n"
          ],
          "name": "stdout"
        }
      ]
    },
    {
      "cell_type": "code",
      "metadata": {
        "id": "MGwduPcRl3mp"
      },
      "source": [
        "#10\n",
        "!g++ Test3Write.cpp -o Test3Write\n",
        "!./Test3Write"
      ],
      "execution_count": 95,
      "outputs": []
    },
    {
      "cell_type": "code",
      "metadata": {
        "colab": {
          "base_uri": "https://localhost:8080/"
        },
        "id": "lU5R2SEal5we",
        "outputId": "22cb8d83-69e4-4122-ab12-5132af157a5c"
      },
      "source": [
        "!g++ max_pairwise_product_long.cpp -o max_pairwise_product_long\n",
        "!time ./max_pairwise_product_long < input4.txt"
      ],
      "execution_count": 96,
      "outputs": [
        {
          "output_type": "stream",
          "text": [
            "31658765768\n",
            "\n",
            "real\t0m0.004s\n",
            "user\t0m0.002s\n",
            "sys\t0m0.002s\n"
          ],
          "name": "stdout"
        }
      ]
    },
    {
      "cell_type": "code",
      "metadata": {
        "id": "OhvsTpq-mYps"
      },
      "source": [
        "#11\n",
        "!g++ Test3Write.cpp -o Test3Write\n",
        "!./Test3Write"
      ],
      "execution_count": 97,
      "outputs": []
    },
    {
      "cell_type": "code",
      "metadata": {
        "colab": {
          "base_uri": "https://localhost:8080/"
        },
        "id": "HNDmh3Ejma1k",
        "outputId": "a79416d1-415c-4dfa-fd7d-9b74a737616b"
      },
      "source": [
        "!g++ max_pairwise_product_long.cpp -o max_pairwise_product_long\n",
        "!time ./max_pairwise_product_long < input4.txt"
      ],
      "execution_count": 98,
      "outputs": [
        {
          "output_type": "stream",
          "text": [
            "35162725836\n",
            "\n",
            "real\t0m0.003s\n",
            "user\t0m0.003s\n",
            "sys\t0m0.000s\n"
          ],
          "name": "stdout"
        }
      ]
    },
    {
      "cell_type": "code",
      "metadata": {
        "id": "_hmXEHFAnh_d"
      },
      "source": [
        "#12\n",
        "!g++ Test3Write.cpp -o Test3Write\n",
        "!./Test3Write"
      ],
      "execution_count": 99,
      "outputs": []
    },
    {
      "cell_type": "code",
      "metadata": {
        "colab": {
          "base_uri": "https://localhost:8080/"
        },
        "id": "K3krKyjYnkGs",
        "outputId": "f5542325-b866-4433-cacb-c662b6a6432a"
      },
      "source": [
        "!g++ max_pairwise_product_long.cpp -o max_pairwise_product_long\n",
        "!time ./max_pairwise_product_long < input4.txt"
      ],
      "execution_count": 100,
      "outputs": [
        {
          "output_type": "stream",
          "text": [
            "30840162752\n",
            "\n",
            "real\t0m0.003s\n",
            "user\t0m0.002s\n",
            "sys\t0m0.001s\n"
          ],
          "name": "stdout"
        }
      ]
    },
    {
      "cell_type": "code",
      "metadata": {
        "id": "jjGS1ueLoSLy"
      },
      "source": [
        "#13\n",
        "!g++ Test3Write.cpp -o Test3Write\n",
        "!./Test3Write"
      ],
      "execution_count": 102,
      "outputs": []
    },
    {
      "cell_type": "code",
      "metadata": {
        "colab": {
          "base_uri": "https://localhost:8080/"
        },
        "id": "9sKuOGmNoznc",
        "outputId": "68567fed-7394-440a-ae24-1f2d381ee882"
      },
      "source": [
        "!g++ max_pairwise_product_long.cpp -o max_pairwise_product_long\n",
        "!time ./max_pairwise_product_long < input4.txt"
      ],
      "execution_count": 103,
      "outputs": [
        {
          "output_type": "stream",
          "text": [
            "32240409896\n",
            "\n",
            "real\t0m0.003s\n",
            "user\t0m0.001s\n",
            "sys\t0m0.002s\n"
          ],
          "name": "stdout"
        }
      ]
    },
    {
      "cell_type": "code",
      "metadata": {
        "id": "SmMdy-0Io3Id"
      },
      "source": [
        "#14\n",
        "!g++ Test3Write.cpp -o Test3Write\n",
        "!./Test3Write"
      ],
      "execution_count": 104,
      "outputs": []
    },
    {
      "cell_type": "code",
      "metadata": {
        "colab": {
          "base_uri": "https://localhost:8080/"
        },
        "id": "r8y5DnkIo8iu",
        "outputId": "78705ae2-bb0d-4bd4-e2f5-b1cab796f581"
      },
      "source": [
        "!g++ max_pairwise_product_long.cpp -o max_pairwise_product_long\n",
        "!time ./max_pairwise_product_long < input4.txt"
      ],
      "execution_count": 105,
      "outputs": [
        {
          "output_type": "stream",
          "text": [
            "25986196648\n",
            "\n",
            "real\t0m0.003s\n",
            "user\t0m0.002s\n",
            "sys\t0m0.001s\n"
          ],
          "name": "stdout"
        }
      ]
    },
    {
      "cell_type": "code",
      "metadata": {
        "id": "M_UiXuXro_Yx"
      },
      "source": [
        "#15\n",
        "!g++ Test3Write.cpp -o Test3Write\n",
        "!./Test3Write"
      ],
      "execution_count": 106,
      "outputs": []
    },
    {
      "cell_type": "code",
      "metadata": {
        "colab": {
          "base_uri": "https://localhost:8080/"
        },
        "id": "mme7ad9XpCY6",
        "outputId": "fd93b885-ef6e-470a-c15e-c4484c338bf2"
      },
      "source": [
        "!g++ max_pairwise_product_long.cpp -o max_pairwise_product_long\n",
        "!time ./max_pairwise_product_long < input4.txt"
      ],
      "execution_count": 107,
      "outputs": [
        {
          "output_type": "stream",
          "text": [
            "38785810800\n",
            "\n",
            "real\t0m0.003s\n",
            "user\t0m0.001s\n",
            "sys\t0m0.002s\n"
          ],
          "name": "stdout"
        }
      ]
    },
    {
      "cell_type": "code",
      "metadata": {
        "id": "lfo0Q6NXpLB6"
      },
      "source": [
        "#16\n",
        "!g++ Test3Write.cpp -o Test3Write\n",
        "!./Test3Write"
      ],
      "execution_count": 108,
      "outputs": []
    },
    {
      "cell_type": "code",
      "metadata": {
        "colab": {
          "base_uri": "https://localhost:8080/"
        },
        "id": "vCF8NHb6pM31",
        "outputId": "78192e77-3a31-47b5-c1f0-5315b1e44e3e"
      },
      "source": [
        "!g++ max_pairwise_product_long.cpp -o max_pairwise_product_long\n",
        "!time ./max_pairwise_product_long < input4.txt"
      ],
      "execution_count": 109,
      "outputs": [
        {
          "output_type": "stream",
          "text": [
            "13896700722\n",
            "\n",
            "real\t0m0.005s\n",
            "user\t0m0.000s\n",
            "sys\t0m0.004s\n"
          ],
          "name": "stdout"
        }
      ]
    },
    {
      "cell_type": "code",
      "metadata": {
        "id": "PSVWM4GFpP1u"
      },
      "source": [
        "#17\n",
        "!g++ Test3Write.cpp -o Test3Write\n",
        "!./Test3Write"
      ],
      "execution_count": 110,
      "outputs": []
    },
    {
      "cell_type": "code",
      "metadata": {
        "colab": {
          "base_uri": "https://localhost:8080/"
        },
        "id": "Q7ROrJFupTTN",
        "outputId": "c1536ea6-19d2-4d07-c0c4-d872ad35586d"
      },
      "source": [
        "!g++ max_pairwise_product_long.cpp -o max_pairwise_product_long\n",
        "!time ./max_pairwise_product_long < input4.txt"
      ],
      "execution_count": 111,
      "outputs": [
        {
          "output_type": "stream",
          "text": [
            "32820534900\n",
            "\n",
            "real\t0m0.003s\n",
            "user\t0m0.002s\n",
            "sys\t0m0.001s\n"
          ],
          "name": "stdout"
        }
      ]
    },
    {
      "cell_type": "code",
      "metadata": {
        "id": "pNUD8ZKrpXox"
      },
      "source": [
        "#18\n",
        "!g++ Test3Write.cpp -o Test3Write\n",
        "!./Test3Write"
      ],
      "execution_count": 112,
      "outputs": []
    },
    {
      "cell_type": "code",
      "metadata": {
        "colab": {
          "base_uri": "https://localhost:8080/"
        },
        "id": "QjD7KUtOpaQa",
        "outputId": "b62321cc-8781-4260-ede6-2d1794922e35"
      },
      "source": [
        "!g++ max_pairwise_product_long.cpp -o max_pairwise_product_long\n",
        "!time ./max_pairwise_product_long < input4.txt"
      ],
      "execution_count": 113,
      "outputs": [
        {
          "output_type": "stream",
          "text": [
            "30611571829\n",
            "\n",
            "real\t0m0.003s\n",
            "user\t0m0.001s\n",
            "sys\t0m0.002s\n"
          ],
          "name": "stdout"
        }
      ]
    },
    {
      "cell_type": "code",
      "metadata": {
        "id": "0fYr8iF7pdUV"
      },
      "source": [
        "#19\n",
        "!g++ Test3Write.cpp -o Test3Write\n",
        "!./Test3Write"
      ],
      "execution_count": 114,
      "outputs": []
    },
    {
      "cell_type": "code",
      "metadata": {
        "colab": {
          "base_uri": "https://localhost:8080/"
        },
        "id": "7-dgu5LrpfFi",
        "outputId": "2dd8d2d1-a47b-496b-d74d-1198a543cd01"
      },
      "source": [
        "!g++ max_pairwise_product_long.cpp -o max_pairwise_product_long\n",
        "!time ./max_pairwise_product_long < input4.txt"
      ],
      "execution_count": 115,
      "outputs": [
        {
          "output_type": "stream",
          "text": [
            "13574052084\n",
            "\n",
            "real\t0m0.004s\n",
            "user\t0m0.001s\n",
            "sys\t0m0.003s\n"
          ],
          "name": "stdout"
        }
      ]
    },
    {
      "cell_type": "code",
      "metadata": {
        "id": "KT-4e5l5piYF"
      },
      "source": [
        "#20\n",
        "!g++ Test3Write.cpp -o Test3Write\n",
        "!./Test3Write"
      ],
      "execution_count": 116,
      "outputs": []
    },
    {
      "cell_type": "code",
      "metadata": {
        "colab": {
          "base_uri": "https://localhost:8080/"
        },
        "id": "ah30JVospkjq",
        "outputId": "62399408-15d5-4306-8bf3-d455a8f04758"
      },
      "source": [
        "!g++ max_pairwise_product_long.cpp -o max_pairwise_product_long\n",
        "!time ./max_pairwise_product_long < input4.txt"
      ],
      "execution_count": 117,
      "outputs": [
        {
          "output_type": "stream",
          "text": [
            "23638794738\n",
            "\n",
            "real\t0m0.005s\n",
            "user\t0m0.001s\n",
            "sys\t0m0.003s\n"
          ],
          "name": "stdout"
        }
      ]
    },
    {
      "cell_type": "markdown",
      "metadata": {
        "id": "9z9yr5QkeyJF"
      },
      "source": [
        "### Test 4  time test  measure the execution time running with the the largest worst case file (200000 increasing numbers, 200000 and 200000 the end) "
      ]
    },
    {
      "cell_type": "code",
      "metadata": {
        "id": "oLiMjbAIfPlX",
        "colab": {
          "base_uri": "https://localhost:8080/"
        },
        "outputId": "41d949ee-6588-4e9b-b613-e2eb0a24fd5f"
      },
      "source": [
        "%%writefile Test2Write.cpp\n",
        "\n",
        "#include <iostream>\n",
        "#include <fstream>\n",
        "#include <cstdlib>\n",
        "\n",
        "using namespace std;\n",
        "\n",
        "int main() {\n",
        "  // Create and open a text file\n",
        "  ofstream MyFile(\"input3.txt\");\n",
        "\n",
        " MyFile << 200000 <<\"\\n\";  // n \n",
        " for (int i=1; i < 200001; i++){\n",
        "     MyFile << i <<\" \";\n",
        " }\n",
        "  \n",
        "  // Close the file\n",
        "  MyFile.close();\n",
        "}"
      ],
      "execution_count": 56,
      "outputs": [
        {
          "output_type": "stream",
          "text": [
            "Overwriting Test2Write.cpp\n"
          ],
          "name": "stdout"
        }
      ]
    },
    {
      "cell_type": "code",
      "metadata": {
        "id": "EH25TkOkZfD9"
      },
      "source": [
        "!g++ Test2Write.cpp -o Test2Write\n",
        "!./Test2Write"
      ],
      "execution_count": 57,
      "outputs": []
    },
    {
      "cell_type": "markdown",
      "metadata": {
        "id": "JB6f03qO-lj9"
      },
      "source": [
        "Measure time\n",
        "\n",
        "https://askubuntu.com/questions/53444/how-can-i-measure-the-execution-time-of-a-terminal-process"
      ]
    },
    {
      "cell_type": "code",
      "metadata": {
        "colab": {
          "base_uri": "https://localhost:8080/"
        },
        "id": "6p2QLEr576zk",
        "outputId": "d0a0e8cb-82ec-4a31-886b-323791cd10b0"
      },
      "source": [
        "!g++ max_pairwise_product_long.cpp -o max_pairwise_product_long\n",
        "!time ./max_pairwise_product_long < input3.txt"
      ],
      "execution_count": 58,
      "outputs": [
        {
          "output_type": "stream",
          "text": [
            "39999800000\n",
            "\n",
            "real\t2m9.094s\n",
            "user\t2m8.452s\n",
            "sys\t0m0.023s\n"
          ],
          "name": "stdout"
        }
      ]
    },
    {
      "cell_type": "markdown",
      "metadata": {
        "id": "AmZeB2wYjxy5"
      },
      "source": [
        "##### Calculate  the number of instructions executed by the algorithm as a function of n, add in each line a comment with the number of instructions that are executed in that line \n",
        "\n",
        "```cpp\n",
        " int main() {                         //N inst exec by line executed  \n",
        "   \n",
        "    int n;                            //1                      \n",
        "    std::cin >> n;                    //1\n",
        "                                              \n",
        "    std::vector<int> numbers(n);      //n    init vector\n",
        "    .\n",
        "    .\n",
        " }\n",
        "\n",
        "```"
      ]
    },
    {
      "cell_type": "code",
      "metadata": {
        "colab": {
          "base_uri": "https://localhost:8080/"
        },
        "id": "djGX3FL13g9b",
        "outputId": "a12bb64e-a688-4f2a-ed96-6c79c948e947"
      },
      "source": [
        "%%writefile test_init_vectors.cpp\n",
        "#include <iostream>\n",
        "#include <vector>\n",
        "#include <algorithm>\n",
        "int main() {                                                               \n",
        "    int n = 10;                                                                                                                            //1\n",
        "    std::vector<int> numbers(n);                                            \n",
        "    for (int i = 0; i < n; ++i) {                                           \n",
        "        std::cout << numbers[i];                                             \n",
        "    }\n",
        "\n",
        "    std::cout << \"\\n\";                       \n",
        "    return 0;                                                              \n",
        "}  "
      ],
      "execution_count": 118,
      "outputs": [
        {
          "output_type": "stream",
          "text": [
            "Writing test_init_vectors.cpp\n"
          ],
          "name": "stdout"
        }
      ]
    },
    {
      "cell_type": "code",
      "metadata": {
        "colab": {
          "base_uri": "https://localhost:8080/"
        },
        "id": "44gZcuE237-1",
        "outputId": "cc85b8dc-e4d4-46f1-e9fc-303dc9d02aa5"
      },
      "source": [
        "!g++ test_init_vectors.cpp -o test_init_vectors\n",
        "!./test_init_vectors"
      ],
      "execution_count": 119,
      "outputs": [
        {
          "output_type": "stream",
          "text": [
            "0000000000\n"
          ],
          "name": "stdout"
        }
      ]
    },
    {
      "cell_type": "code",
      "metadata": {
        "colab": {
          "base_uri": "https://localhost:8080/"
        },
        "id": "uG6Mv-Pwlkii",
        "outputId": "0391c1a1-aa61-4e89-e6ee-32d7818b8893"
      },
      "source": [
        "%%writefile max_pairwise_product_long.cpp\n",
        "#include <iostream>\n",
        "#include <vector>\n",
        "#include <algorithm>\n",
        "\n",
        "long long MaxPairwiseProduct(const std::vector<int>& numbers) {              //N inst exec by line executed \n",
        "    long long max_product = 0LL;                                             //1                                          \n",
        "\t  long long aux_product = 0LL;                                             //1 \n",
        "    int n = numbers.size();                                                  //1 \n",
        "                                                                             \n",
        "    for (int first = 0; first < n; ++first) {                                //1+2n  \n",
        "        for (int second = first + 1; second < n; ++second) {                 //n + (n-1)n \n",
        "\t\t\t       aux_product =  (long long) numbers[first] * numbers[second];    //(n-1)n/2 \n",
        "            if (max_product < aux_product)  {                                //(n-1)n/2 \n",
        "\t\t\t\t        max_product = aux_product;                                   //[0, (n-1)n/2] \n",
        "             }\n",
        "        }\n",
        "    }\n",
        "                                                                             // -------------- \n",
        "    return max_product;                                                      // 4 + 3n + [2(n-1)n, 2.5 (n-1)n] \n",
        "}\n",
        "\n",
        "int main() {                                              //N inst exec by line executed \n",
        "    int n;                                                //1  \n",
        "    std::cin >> n;                                        //1\n",
        "    std::vector<int> numbers(n);                          //n\n",
        "    for (int i = 0; i < n; ++i) {                         //1 + 2n\n",
        "        std::cin >> numbers[i];                           //n\n",
        "    }\n",
        "\n",
        "    std::cout << MaxPairwiseProduct(numbers) << \"\\n\";     //1 + 1  + 4 + 3n + [2(n-1)n, 2.5 (n-1)n]\n",
        "    return 0;                                             // -------------- \n",
        "}                                                         // 9 + 7n + [2(n-1)n, 2.5 (n-1)n]\n"
      ],
      "execution_count": 120,
      "outputs": [
        {
          "output_type": "stream",
          "text": [
            "Overwriting max_pairwise_product_long.cpp\n"
          ],
          "name": "stdout"
        }
      ]
    },
    {
      "cell_type": "markdown",
      "metadata": {
        "id": "0vTsUg8OwcHs"
      },
      "source": [
        "Count executed intructions in code and verify with inputs 1, 2 and 3"
      ]
    },
    {
      "cell_type": "code",
      "metadata": {
        "colab": {
          "base_uri": "https://localhost:8080/"
        },
        "id": "CuRKkqQc137V",
        "outputId": "6448097a-6d07-48d6-a923-6089cacf3d0f"
      },
      "source": [
        "%%writefile max_pairwise_product_long_execints.cpp\n",
        "#include <iostream>\n",
        "#include <vector>\n",
        "#include <algorithm>\n",
        "\n",
        "long long MaxPairwiseProduct(const std::vector<int>& numbers, long long &execints) {              //N inst exec by line executed \n",
        "    \n",
        "    long long m = 0LL;                                                       //1\n",
        "    \n",
        "    long long max_product = 0LL;                                             //1\n",
        "    execints++;\n",
        "\n",
        "\t  long long aux_product = 0LL;                                             //1\n",
        "    execints++;\n",
        "\n",
        "    int n = numbers.size();                                                  //1 \n",
        "    execints++;\n",
        "\n",
        "    execints++;                                                                         \n",
        "    for (int first = 0; first < n; ++first) {                                //1+2n  \n",
        "        execints += 2;\n",
        "\n",
        "        long long m = 0LL;\n",
        "\n",
        "        execints++;                                    \n",
        "        for (int second = first + 1; second < n; ++second) {                 //n+ (n-1)n \n",
        "            execints += 2;                                                \n",
        "\n",
        "\t\t\t      aux_product =  (long long) numbers[first] * numbers[second];    //(n-1)n/2 \n",
        "            execints++; \n",
        "\n",
        "            execints++; \n",
        "            if ( max_product < aux_product)  {                               //(n-1)n/2 \n",
        "                       \n",
        "\t\t\t\t        max_product = aux_product;                                   //[0, (n-1)n/2] \n",
        "                execints++; \n",
        "                m++;\n",
        "             }\n",
        "        }\n",
        "        if ( (first <= 10) || (n- first <= 10)) std::cout << m << \"\\n\";\n",
        "    }\n",
        "                                                                            // -------------- \n",
        "    return max_product;                                                     // 4 + 3n + [2(n-1)n, 2.5 (n-1)n] \n",
        "}\n",
        "\n",
        "int main() {                                                 //N inst exec by line executed \n",
        "    long long execints =0LL;\n",
        "\n",
        "    int n;                                                   //1\n",
        "    execints++;                                                              \n",
        "    \n",
        "    std::cin >> n;                                           //1\n",
        "    execints++;\n",
        "\n",
        "    std::vector<int> numbers(n);                             //n\n",
        "    execints += n;\n",
        "    \n",
        "    execints++;\n",
        "    for (int i = 0; i < n; ++i) {                            //1 + 2n\n",
        "        execints += 2;\n",
        "\n",
        "        std::cin >> numbers[i];\n",
        "        execints++;                                          //n\n",
        "    }\n",
        "    \n",
        "    //std::cout << MaxPairwiseProduct(numbers) << \"\\n\";      //1 + 1  + 4 + 3n + [2(n-1)n, 2.5 (n-1)n]\n",
        "\n",
        "    execints++;\n",
        "    int M = MaxPairwiseProduct(numbers,execints);\n",
        "\n",
        "    execints++;\n",
        "    std::cout <<  execints << \"\\n\";                       \n",
        "    return 0;                                                // -------------- \n",
        "}                                                            // 9 + 7n + [2(n-1)n, 2.5 (n-1)n]"
      ],
      "execution_count": 121,
      "outputs": [
        {
          "output_type": "stream",
          "text": [
            "Writing max_pairwise_product_long_execints.cpp\n"
          ],
          "name": "stdout"
        }
      ]
    },
    {
      "cell_type": "code",
      "metadata": {
        "colab": {
          "base_uri": "https://localhost:8080/"
        },
        "id": "Kuvm1C05ly2a",
        "outputId": "0144743c-a63f-4e2a-8da7-4b7ea646754a"
      },
      "source": [
        "!g++ max_pairwise_product_long_execints.cpp -o max_pairwise_product_long_execints\n",
        "!./max_pairwise_product_long_execints < input1.txt\n",
        "!./max_pairwise_product_long_execints < input2.txt\n",
        "!./max_pairwise_product_long_execints < input3.txt"
      ],
      "execution_count": 123,
      "outputs": [
        {
          "output_type": "stream",
          "text": [
            "9\n",
            "5\n",
            "4\n",
            "3\n",
            "2\n",
            "2\n",
            "2\n",
            "2\n",
            "1\n",
            "0\n",
            "289\n",
            "2\n",
            "1\n",
            "2\n",
            "0\n",
            "0\n",
            "0\n",
            "116\n",
            "199999\n",
            "100000\n",
            "66667\n",
            "50000\n",
            "40000\n",
            "33334\n",
            "28572\n",
            "25000\n",
            "22223\n",
            "20000\n",
            "18182\n",
            "2\n",
            "2\n",
            "2\n",
            "2\n",
            "2\n",
            "2\n",
            "2\n",
            "2\n",
            "1\n",
            "0\n",
            "80003672077\n"
          ],
          "name": "stdout"
        }
      ]
    },
    {
      "cell_type": "markdown",
      "metadata": {
        "id": "L_uaamxeAHK7"
      },
      "source": [
        "The number of instructions executed by the algooirithm with a list of size $n$ is  \n",
        "\n",
        "$$T = 9 + 7n + [2(n-1)n, 2.5 (n-1)n]$$\n",
        "\n",
        "It depends on the size of the lists and  the order of the list.\n",
        "\n",
        "For the input1.txt \n",
        "```\n",
        "10\n",
        "1 2 3 4 5 6 7 8 9 10\n",
        "```\n",
        "$$T = 9 + 7(10) + 2(9)(10) +  9 + 5 + 4 + 3 + 2 + 2 + 2 + 2 + 1 + 0  = 289 $$\n",
        "\n",
        "For the input2.txt \n",
        "```\n",
        "6\n",
        "1 3 200000 9 200000 23\n",
        "```\n",
        "$$T = 9 + 7(6) + 2(5)(6)  +  2 + 1 + 2 + 0 + 0 + 0 = 116 $$\n",
        "\n",
        "\n",
        "For the input3.txt that is the worst case (n=200000 and list in incresing order)\n",
        "\n",
        "```\n",
        "200000\n",
        "1 2 3 4 5 6 7 8 9 10 ... 199998 199999 200000\n",
        "```\n",
        "\n",
        "$$\n",
        "\\begin{array}{ll}\n",
        "T &= 9 + 7(200000) + (2)(199999)(200000)  + (199999 +\n",
        "100000 + 66667 +50000 \\cdots 2 + 2 + 1)\\\\\n",
        "&= 80003672077  \\\\\n",
        "  &< 9 + 7(200000) + (2.5)(199999)(200000) \\\\\n",
        "  & = 100000900009\n",
        "\\end{array}\n",
        "  $$"
      ]
    },
    {
      "cell_type": "markdown",
      "metadata": {
        "id": "NXW7QkoBL6xH"
      },
      "source": [
        "Calculate estimated time by instruction and number of instructions by second"
      ]
    },
    {
      "cell_type": "code",
      "metadata": {
        "colab": {
          "base_uri": "https://localhost:8080/"
        },
        "id": "pKqB3i7dIxnc",
        "outputId": "0fbecb79-c7b8-49e1-d4f6-a508d35167b2"
      },
      "source": [
        "# Estimated time by instruction\n",
        "\n",
        "128/80003672077 \n"
      ],
      "execution_count": 124,
      "outputs": [
        {
          "output_type": "execute_result",
          "data": {
            "text/plain": [
              "1.5999265618308827e-09"
            ]
          },
          "metadata": {
            "tags": []
          },
          "execution_count": 124
        }
      ]
    },
    {
      "cell_type": "code",
      "metadata": {
        "colab": {
          "base_uri": "https://localhost:8080/"
        },
        "id": "18N1ouqeMhE1",
        "outputId": "c7f39a6c-9818-44a0-b9b7-4a05fb12d758"
      },
      "source": [
        "# Estimated number of instructions by second\n",
        "\n",
        "1/(128/80003672077) "
      ],
      "execution_count": 125,
      "outputs": [
        {
          "output_type": "execute_result",
          "data": {
            "text/plain": [
              "625028688.1015625"
            ]
          },
          "metadata": {
            "tags": []
          },
          "execution_count": 125
        }
      ]
    },
    {
      "cell_type": "markdown",
      "metadata": {
        "id": "CQufozXLNJwO"
      },
      "source": [
        "### Efficient solution"
      ]
    },
    {
      "cell_type": "markdown",
      "metadata": {
        "id": "nLcKBwbU0QsE"
      },
      "source": [
        "Add in each line a coment with the number of intstrcution that are executed in that line"
      ]
    },
    {
      "cell_type": "code",
      "metadata": {
        "id": "knls5Fh3NSt_",
        "colab": {
          "base_uri": "https://localhost:8080/"
        },
        "outputId": "dcd11cba-6552-4a4a-c218-78640c29638b"
      },
      "source": [
        "%%writefile geetsCode.cpp\n",
        "// A O(n) C++ program to find maximum product pair in an array\n",
        "#include<bits/stdc++.h>\n",
        "#include<ctime>\n",
        "using namespace std;\n",
        " \n",
        "void maxProduct( long long arr[],long long n)\n",
        "{\n",
        "    if (n < 2)                                            //1\n",
        "    {\n",
        "        cout << \"No pairs exists\\n\";\n",
        "        return;\n",
        "    }\n",
        " \n",
        "    if (n == 2)                                           //1\n",
        "    {\n",
        "        cout << arr[0] << \" \" << arr[1] << endl;\n",
        "        return;\n",
        "    }\n",
        " \n",
        "    // Iniitialize maximum and second maximum             //1\n",
        "     long long posa = 0, posb = 0;\n",
        " \n",
        "    // Iniitialize minimum and second minimum\n",
        "     long long nega = 0, negb = 0;                        //1\n",
        " \n",
        "    // Traverse given array\n",
        "    for ( long long i = 0; i < n-1; i++)                  //n-1\n",
        "    {\n",
        "        // Update maximum and second maximum if needed\n",
        "        if (arr[i] > posa)\n",
        "        {\n",
        "            posb = posa;\n",
        "            posa = arr[i];\n",
        "        }\n",
        "        else if (arr[i] > posb)\n",
        "            posb = arr[i];\n",
        " \n",
        "        // Update minimum and second minimum if needed\n",
        "        if (arr[i] < 0 && abs(arr[i]) > abs(nega))\n",
        "        {\n",
        "            negb = nega;\n",
        "            nega = arr[i];\n",
        "        }\n",
        "        else if(arr[i] < 0 && abs(arr[i]) > abs(negb))\n",
        "            negb = arr[i];\n",
        "    }\n",
        " \n",
        "    if (nega*negb > posa*posb)\n",
        "        cout << \"Max product pair is {\" << nega << \", \"\n",
        "             << negb << \"}\"<<\"\\nEl producto es:\"<<nega*negb;\n",
        "    else\n",
        "        cout << \"Max product pair is {\" << posa << \", \"\n",
        "             << posb << \"}\"<<\"\\nEl producto es:\"<<posa*posb;\n",
        "}\n",
        " \n",
        "// Driver program to test above function\n",
        "int main()\n",
        "{\n",
        "    unsigned t0, t1;\n",
        "\t\n",
        "     long long tam=0;\n",
        "    cin>>tam;\n",
        "    cout<<\"tam:\"<<tam<<\"\\n\";\n",
        "     long long arr[tam];\n",
        "    for( long long a=0;a<tam;a++){\n",
        "    cin>>arr[a];\t\n",
        "\t}\n",
        "  \n",
        "    maxProduct(arr, tam+1);\n",
        "  \n",
        "}"
      ],
      "execution_count": 132,
      "outputs": [
        {
          "output_type": "stream",
          "text": [
            "Overwriting geetsCode.cpp\n"
          ],
          "name": "stdout"
        }
      ]
    },
    {
      "cell_type": "markdown",
      "metadata": {
        "id": "-JCijbWxNSii"
      },
      "source": [
        "Test with inputs 1 and 2\n",
        "\n"
      ]
    },
    {
      "cell_type": "code",
      "metadata": {
        "id": "TrTGAfqlNVXT",
        "colab": {
          "base_uri": "https://localhost:8080/"
        },
        "outputId": "70c6f871-cf31-40e2-f7cd-767dc4070553"
      },
      "source": [
        "#input1\n",
        "!g++ geetsCode.cpp -o geetsCode\n",
        "!time ./geetsCode < input1.txt"
      ],
      "execution_count": 133,
      "outputs": [
        {
          "output_type": "stream",
          "text": [
            "tam:10\n",
            "Max product pair is {10, 9}\n",
            "El producto es:90\n",
            "real\t0m0.003s\n",
            "user\t0m0.001s\n",
            "sys\t0m0.002s\n"
          ],
          "name": "stdout"
        }
      ]
    },
    {
      "cell_type": "code",
      "metadata": {
        "colab": {
          "base_uri": "https://localhost:8080/"
        },
        "id": "Om8ILJ2szX2-",
        "outputId": "a1484d88-96ed-4430-815f-5153b6f0f17c"
      },
      "source": [
        "#input2\n",
        "!g++ geetsCode.cpp -o geetsCode\n",
        "!time ./geetsCode < input2.txt"
      ],
      "execution_count": 134,
      "outputs": [
        {
          "output_type": "stream",
          "text": [
            "tam:6\n",
            "Max product pair is {200000, 200000}\n",
            "El producto es:40000000000\n",
            "real\t0m0.005s\n",
            "user\t0m0.001s\n",
            "sys\t0m0.002s\n"
          ],
          "name": "stdout"
        }
      ]
    },
    {
      "cell_type": "markdown",
      "metadata": {
        "id": "PRX51wADNR8b"
      },
      "source": [
        "Test and time it with input 3"
      ]
    },
    {
      "cell_type": "code",
      "metadata": {
        "id": "v4z7-Is_NRt7",
        "colab": {
          "base_uri": "https://localhost:8080/"
        },
        "outputId": "d15e2c90-8635-4a62-d6ec-db44e40ac22a"
      },
      "source": [
        "#input3\n",
        "!g++ geetsCode.cpp -o geetsCode\n",
        "!time ./geetsCode < input3.txt"
      ],
      "execution_count": 136,
      "outputs": [
        {
          "output_type": "stream",
          "text": [
            "tam:200000\n",
            "Max product pair is {200000, 199999}\n",
            "El producto es:39999800000\n",
            "real\t0m0.074s\n",
            "user\t0m0.066s\n",
            "sys\t0m0.003s\n"
          ],
          "name": "stdout"
        }
      ]
    },
    {
      "cell_type": "markdown",
      "metadata": {
        "id": "rpdfs0_TNZJf"
      },
      "source": [
        "20 stress tests"
      ]
    },
    {
      "cell_type": "code",
      "metadata": {
        "id": "Lu4tYcKzNcTT"
      },
      "source": [
        "#1\n",
        "!g++ Test3Write.cpp -o Test3Write\n",
        "!./Test3Write"
      ],
      "execution_count": 140,
      "outputs": []
    },
    {
      "cell_type": "code",
      "metadata": {
        "colab": {
          "base_uri": "https://localhost:8080/"
        },
        "id": "_qBxkC1R2aB-",
        "outputId": "ef7fd5a5-6b6e-4a64-ae34-240d445d8101"
      },
      "source": [
        "!g++ geetsCode.cpp -o geetsCode\n",
        "!time ./geetsCode < input4.txt"
      ],
      "execution_count": 141,
      "outputs": [
        {
          "output_type": "stream",
          "text": [
            "tam:14\n",
            "Max product pair is {188678, 179606}\n",
            "El producto es:33887700868\n",
            "real\t0m0.003s\n",
            "user\t0m0.002s\n",
            "sys\t0m0.001s\n"
          ],
          "name": "stdout"
        }
      ]
    },
    {
      "cell_type": "code",
      "metadata": {
        "id": "gyR-t95x2hUY"
      },
      "source": [
        "#2\n",
        "!g++ Test3Write.cpp -o Test3Write\n",
        "!./Test3Write"
      ],
      "execution_count": 142,
      "outputs": []
    },
    {
      "cell_type": "code",
      "metadata": {
        "colab": {
          "base_uri": "https://localhost:8080/"
        },
        "id": "ZGwmb1j62kLu",
        "outputId": "40efd1dd-f5a5-4caa-8737-1ce84e78ac6f"
      },
      "source": [
        "!g++ geetsCode.cpp -o geetsCode\n",
        "!time ./geetsCode < input4.txt"
      ],
      "execution_count": 143,
      "outputs": [
        {
          "output_type": "stream",
          "text": [
            "tam:9\n",
            "Max product pair is {197893, 166402}\n",
            "El producto es:32929790986\n",
            "real\t0m0.003s\n",
            "user\t0m0.001s\n",
            "sys\t0m0.002s\n"
          ],
          "name": "stdout"
        }
      ]
    },
    {
      "cell_type": "code",
      "metadata": {
        "id": "m3HXnqEZ26F4"
      },
      "source": [
        "#3\n",
        "!g++ Test3Write.cpp -o Test3Write\n",
        "!./Test3Write"
      ],
      "execution_count": 144,
      "outputs": []
    },
    {
      "cell_type": "code",
      "metadata": {
        "colab": {
          "base_uri": "https://localhost:8080/"
        },
        "id": "sc9HPOCY25sv",
        "outputId": "744cadda-490d-480b-e9ce-ce98f0824cfe"
      },
      "source": [
        "!g++ geetsCode.cpp -o geetsCode\n",
        "!time ./geetsCode < input4.txt"
      ],
      "execution_count": 145,
      "outputs": [
        {
          "output_type": "stream",
          "text": [
            "tam:11\n",
            "Max product pair is {193897, 184881}\n",
            "El producto es:35847871257\n",
            "real\t0m0.004s\n",
            "user\t0m0.002s\n",
            "sys\t0m0.001s\n"
          ],
          "name": "stdout"
        }
      ]
    },
    {
      "cell_type": "code",
      "metadata": {
        "id": "2JNJMoir3Mo6"
      },
      "source": [
        "#4\n",
        "!g++ Test3Write.cpp -o Test3Write\n",
        "!./Test3Write"
      ],
      "execution_count": 146,
      "outputs": []
    },
    {
      "cell_type": "code",
      "metadata": {
        "colab": {
          "base_uri": "https://localhost:8080/"
        },
        "id": "eTL5dCar3Og7",
        "outputId": "4f27b3c7-d3a0-4167-9e97-66dd2660a0e9"
      },
      "source": [
        "!g++ geetsCode.cpp -o geetsCode\n",
        "!time ./geetsCode < input4.txt"
      ],
      "execution_count": 147,
      "outputs": [
        {
          "output_type": "stream",
          "text": [
            "tam:17\n",
            "Max product pair is {199423, 169124}\n",
            "El producto es:33727215452\n",
            "real\t0m0.003s\n",
            "user\t0m0.002s\n",
            "sys\t0m0.001s\n"
          ],
          "name": "stdout"
        }
      ]
    },
    {
      "cell_type": "code",
      "metadata": {
        "id": "6VTCBDxT3SCF"
      },
      "source": [
        "#5\n",
        "!g++ Test3Write.cpp -o Test3Write\n",
        "!./Test3Write"
      ],
      "execution_count": 148,
      "outputs": []
    },
    {
      "cell_type": "code",
      "metadata": {
        "colab": {
          "base_uri": "https://localhost:8080/"
        },
        "id": "7WBvxdjo3Tz1",
        "outputId": "6c3e7d39-1697-411d-fa95-c1934fa62b6a"
      },
      "source": [
        "!g++ geetsCode.cpp -o geetsCode\n",
        "!time ./geetsCode < input4.txt"
      ],
      "execution_count": 149,
      "outputs": [
        {
          "output_type": "stream",
          "text": [
            "tam:19\n",
            "Max product pair is {183487, 181489}\n",
            "El producto es:33300872143\n",
            "real\t0m0.003s\n",
            "user\t0m0.002s\n",
            "sys\t0m0.001s\n"
          ],
          "name": "stdout"
        }
      ]
    },
    {
      "cell_type": "code",
      "metadata": {
        "id": "G5mEFWrj3Z0D"
      },
      "source": [
        "#6\n",
        "!g++ Test3Write.cpp -o Test3Write\n",
        "!./Test3Write"
      ],
      "execution_count": 150,
      "outputs": []
    },
    {
      "cell_type": "code",
      "metadata": {
        "colab": {
          "base_uri": "https://localhost:8080/"
        },
        "id": "trlglSmH3c0j",
        "outputId": "2e80c821-13fb-48fb-de07-ddd3906207f5"
      },
      "source": [
        "!g++ geetsCode.cpp -o geetsCode\n",
        "!time ./geetsCode < input4.txt"
      ],
      "execution_count": 151,
      "outputs": [
        {
          "output_type": "stream",
          "text": [
            "tam:14\n",
            "Max product pair is {174064, 169053}\n",
            "El producto es:29426041392\n",
            "real\t0m0.003s\n",
            "user\t0m0.000s\n",
            "sys\t0m0.003s\n"
          ],
          "name": "stdout"
        }
      ]
    },
    {
      "cell_type": "code",
      "metadata": {
        "id": "5zI7YPGG69Xw"
      },
      "source": [
        "#7\n",
        "!g++ Test3Write.cpp -o Test3Write\n",
        "!./Test3Write"
      ],
      "execution_count": 152,
      "outputs": []
    },
    {
      "cell_type": "code",
      "metadata": {
        "colab": {
          "base_uri": "https://localhost:8080/"
        },
        "id": "yFei3xvT6_HY",
        "outputId": "ac701b38-f22f-4eba-bea9-6b991ab19a69"
      },
      "source": [
        "!g++ geetsCode.cpp -o geetsCode\n",
        "!time ./geetsCode < input4.txt"
      ],
      "execution_count": 153,
      "outputs": [
        {
          "output_type": "stream",
          "text": [
            "tam:3\n",
            "Max product pair is {131333, 123064}\n",
            "El producto es:16162364312\n",
            "real\t0m0.003s\n",
            "user\t0m0.002s\n",
            "sys\t0m0.001s\n"
          ],
          "name": "stdout"
        }
      ]
    },
    {
      "cell_type": "code",
      "metadata": {
        "id": "rhJ5e5Ek7Gfp"
      },
      "source": [
        "#8\n",
        "!g++ Test3Write.cpp -o Test3Write\n",
        "!./Test3Write"
      ],
      "execution_count": 154,
      "outputs": []
    },
    {
      "cell_type": "code",
      "metadata": {
        "colab": {
          "base_uri": "https://localhost:8080/"
        },
        "id": "h72naDfg7L-7",
        "outputId": "4aa337eb-71fe-4ed0-bcd5-17b3a09ce141"
      },
      "source": [
        "!g++ geetsCode.cpp -o geetsCode\n",
        "!time ./geetsCode < input4.txt"
      ],
      "execution_count": 155,
      "outputs": [
        {
          "output_type": "stream",
          "text": [
            "tam:17\n",
            "Max product pair is {193231, 184382}\n",
            "El producto es:35628318242\n",
            "real\t0m0.003s\n",
            "user\t0m0.001s\n",
            "sys\t0m0.002s\n"
          ],
          "name": "stdout"
        }
      ]
    },
    {
      "cell_type": "code",
      "metadata": {
        "id": "xLJYVBlh7Ptz"
      },
      "source": [
        "#8\n",
        "!g++ Test3Write.cpp -o Test3Write\n",
        "!./Test3Write"
      ],
      "execution_count": 156,
      "outputs": []
    },
    {
      "cell_type": "code",
      "metadata": {
        "colab": {
          "base_uri": "https://localhost:8080/"
        },
        "id": "IK6JfsaG7RTE",
        "outputId": "2279938d-0951-4e5c-bdda-63c88307262d"
      },
      "source": [
        "!g++ geetsCode.cpp -o geetsCode\n",
        "!time ./geetsCode < input4.txt"
      ],
      "execution_count": 157,
      "outputs": [
        {
          "output_type": "stream",
          "text": [
            "tam:16\n",
            "Max product pair is {195675, 189982}\n",
            "El producto es:37174727850\n",
            "real\t0m0.003s\n",
            "user\t0m0.000s\n",
            "sys\t0m0.003s\n"
          ],
          "name": "stdout"
        }
      ]
    },
    {
      "cell_type": "code",
      "metadata": {
        "id": "x90-K2ja7UWX"
      },
      "source": [
        "#9\n",
        "!g++ Test3Write.cpp -o Test3Write\n",
        "!./Test3Write"
      ],
      "execution_count": 158,
      "outputs": []
    },
    {
      "cell_type": "code",
      "metadata": {
        "colab": {
          "base_uri": "https://localhost:8080/"
        },
        "id": "MAcfVp-V7VpI",
        "outputId": "8db466cd-90ff-4b08-c87b-797245e250d5"
      },
      "source": [
        "!g++ geetsCode.cpp -o geetsCode\n",
        "!time ./geetsCode < input4.txt"
      ],
      "execution_count": 159,
      "outputs": [
        {
          "output_type": "stream",
          "text": [
            "tam:9\n",
            "Max product pair is {189085, 120106}\n",
            "El producto es:22710243010\n",
            "real\t0m0.003s\n",
            "user\t0m0.002s\n",
            "sys\t0m0.001s\n"
          ],
          "name": "stdout"
        }
      ]
    },
    {
      "cell_type": "code",
      "metadata": {
        "id": "VHeZ2cpI7ev8"
      },
      "source": [
        "#10\n",
        "!g++ Test3Write.cpp -o Test3Write\n",
        "!./Test3Write"
      ],
      "execution_count": 160,
      "outputs": []
    },
    {
      "cell_type": "code",
      "metadata": {
        "colab": {
          "base_uri": "https://localhost:8080/"
        },
        "id": "DTG3a-AZ7gXZ",
        "outputId": "a14a69c6-81fb-4c12-9884-651d9706dd0e"
      },
      "source": [
        "!g++ geetsCode.cpp -o geetsCode\n",
        "!time ./geetsCode < input4.txt"
      ],
      "execution_count": 161,
      "outputs": [
        {
          "output_type": "stream",
          "text": [
            "tam:8\n",
            "Max product pair is {188366, 151364}\n",
            "El producto es:28511831224\n",
            "real\t0m0.003s\n",
            "user\t0m0.001s\n",
            "sys\t0m0.002s\n"
          ],
          "name": "stdout"
        }
      ]
    },
    {
      "cell_type": "code",
      "metadata": {
        "id": "BIKCT2ld7o-v"
      },
      "source": [
        "#11\n",
        "!g++ Test3Write.cpp -o Test3Write\n",
        "!./Test3Write"
      ],
      "execution_count": 162,
      "outputs": []
    },
    {
      "cell_type": "code",
      "metadata": {
        "colab": {
          "base_uri": "https://localhost:8080/"
        },
        "id": "ZtSQ8Wh37qwi",
        "outputId": "770864fb-87dc-4950-8bed-a6d5c022b27b"
      },
      "source": [
        "!g++ geetsCode.cpp -o geetsCode\n",
        "!time ./geetsCode < input4.txt"
      ],
      "execution_count": 163,
      "outputs": [
        {
          "output_type": "stream",
          "text": [
            "tam:11\n",
            "Max product pair is {180270, 168584}\n",
            "El producto es:30390637680\n",
            "real\t0m0.003s\n",
            "user\t0m0.000s\n",
            "sys\t0m0.003s\n"
          ],
          "name": "stdout"
        }
      ]
    },
    {
      "cell_type": "code",
      "metadata": {
        "id": "OiqYZCw98Yo-"
      },
      "source": [
        "#12\n",
        "!g++ Test3Write.cpp -o Test3Write\n",
        "!./Test3Write"
      ],
      "execution_count": 164,
      "outputs": []
    },
    {
      "cell_type": "code",
      "metadata": {
        "colab": {
          "base_uri": "https://localhost:8080/"
        },
        "id": "QFJI8OxK8bbm",
        "outputId": "676a2370-9d00-4cc4-f9ed-5f207679af3d"
      },
      "source": [
        "!g++ geetsCode.cpp -o geetsCode\n",
        "!time ./geetsCode < input4.txt"
      ],
      "execution_count": 165,
      "outputs": [
        {
          "output_type": "stream",
          "text": [
            "tam:2\n",
            "Max product pair is {169850, 63155}\n",
            "El producto es:10726876750\n",
            "real\t0m0.003s\n",
            "user\t0m0.002s\n",
            "sys\t0m0.001s\n"
          ],
          "name": "stdout"
        }
      ]
    },
    {
      "cell_type": "code",
      "metadata": {
        "id": "Bf6KkF8L8rN1"
      },
      "source": [
        "#13\n",
        "!g++ Test3Write.cpp -o Test3Write\n",
        "!./Test3Write"
      ],
      "execution_count": 166,
      "outputs": []
    },
    {
      "cell_type": "code",
      "metadata": {
        "colab": {
          "base_uri": "https://localhost:8080/"
        },
        "id": "tVckjSgb8tPD",
        "outputId": "c7092a4a-38ce-4544-8b1f-658149d8f3e7"
      },
      "source": [
        "!g++ geetsCode.cpp -o geetsCode\n",
        "!time ./geetsCode < input4.txt"
      ],
      "execution_count": 167,
      "outputs": [
        {
          "output_type": "stream",
          "text": [
            "tam:15\n",
            "Max product pair is {195281, 188691}\n",
            "El producto es:36847767171\n",
            "real\t0m0.003s\n",
            "user\t0m0.002s\n",
            "sys\t0m0.001s\n"
          ],
          "name": "stdout"
        }
      ]
    },
    {
      "cell_type": "code",
      "metadata": {
        "id": "lFSUKw4d80Ju"
      },
      "source": [
        "#14\n",
        "!g++ Test3Write.cpp -o Test3Write\n",
        "!./Test3Write"
      ],
      "execution_count": 168,
      "outputs": []
    },
    {
      "cell_type": "code",
      "metadata": {
        "colab": {
          "base_uri": "https://localhost:8080/"
        },
        "id": "U3NlS_e782Ap",
        "outputId": "e2662608-84c6-4fae-d2c7-00d9138dcf23"
      },
      "source": [
        "!g++ geetsCode.cpp -o geetsCode\n",
        "!time ./geetsCode < input4.txt"
      ],
      "execution_count": 169,
      "outputs": [
        {
          "output_type": "stream",
          "text": [
            "tam:4\n",
            "Max product pair is {192177, 140782}\n",
            "El producto es:27055062414\n",
            "real\t0m0.003s\n",
            "user\t0m0.001s\n",
            "sys\t0m0.002s\n"
          ],
          "name": "stdout"
        }
      ]
    },
    {
      "cell_type": "code",
      "metadata": {
        "id": "ryjV2SeH85EP"
      },
      "source": [
        "#15\n",
        "!g++ Test3Write.cpp -o Test3Write\n",
        "!./Test3Write"
      ],
      "execution_count": 170,
      "outputs": []
    },
    {
      "cell_type": "code",
      "metadata": {
        "colab": {
          "base_uri": "https://localhost:8080/"
        },
        "id": "SONe3ucz86xz",
        "outputId": "9802a910-611b-4f49-ce85-e9bf16d51369"
      },
      "source": [
        "!g++ geetsCode.cpp -o geetsCode\n",
        "!time ./geetsCode < input4.txt"
      ],
      "execution_count": 171,
      "outputs": [
        {
          "output_type": "stream",
          "text": [
            "tam:7\n",
            "Max product pair is {188032, 177293}\n",
            "El producto es:33336757376\n",
            "real\t0m0.003s\n",
            "user\t0m0.002s\n",
            "sys\t0m0.001s\n"
          ],
          "name": "stdout"
        }
      ]
    },
    {
      "cell_type": "code",
      "metadata": {
        "id": "KJByYtp5895H"
      },
      "source": [
        "#16\n",
        "!g++ Test3Write.cpp -o Test3Write\n",
        "!./Test3Write"
      ],
      "execution_count": 172,
      "outputs": []
    },
    {
      "cell_type": "code",
      "metadata": {
        "colab": {
          "base_uri": "https://localhost:8080/"
        },
        "id": "QndYpLfo9AOb",
        "outputId": "cad8c6f8-1693-4faf-90fb-720604964741"
      },
      "source": [
        "!g++ geetsCode.cpp -o geetsCode\n",
        "!time ./geetsCode < input4.txt"
      ],
      "execution_count": 173,
      "outputs": [
        {
          "output_type": "stream",
          "text": [
            "tam:17\n",
            "Max product pair is {198706, 195341}\n",
            "El producto es:38815428746\n",
            "real\t0m0.003s\n",
            "user\t0m0.001s\n",
            "sys\t0m0.002s\n"
          ],
          "name": "stdout"
        }
      ]
    },
    {
      "cell_type": "code",
      "metadata": {
        "id": "G9MMqoC29Huk"
      },
      "source": [
        "#17\n",
        "!g++ Test3Write.cpp -o Test3Write\n",
        "!./Test3Write"
      ],
      "execution_count": 174,
      "outputs": []
    },
    {
      "cell_type": "code",
      "metadata": {
        "colab": {
          "base_uri": "https://localhost:8080/"
        },
        "id": "XE5B3WTi9Js3",
        "outputId": "9609d74a-34f6-414b-eb1b-18690ffe824a"
      },
      "source": [
        "!g++ geetsCode.cpp -o geetsCode\n",
        "!time ./geetsCode < input4.txt"
      ],
      "execution_count": 175,
      "outputs": [
        {
          "output_type": "stream",
          "text": [
            "tam:5\n",
            "Max product pair is {164548, 127493}\n",
            "El producto es:20978718164\n",
            "real\t0m0.003s\n",
            "user\t0m0.001s\n",
            "sys\t0m0.002s\n"
          ],
          "name": "stdout"
        }
      ]
    },
    {
      "cell_type": "code",
      "metadata": {
        "id": "SKyBZTan9PC3"
      },
      "source": [
        "#18\n",
        "!g++ Test3Write.cpp -o Test3Write\n",
        "!./Test3Write"
      ],
      "execution_count": 176,
      "outputs": []
    },
    {
      "cell_type": "code",
      "metadata": {
        "colab": {
          "base_uri": "https://localhost:8080/"
        },
        "id": "iOVWuU_a9SNz",
        "outputId": "54334063-aa6d-4350-8072-d834f0950471"
      },
      "source": [
        "!g++ geetsCode.cpp -o geetsCode\n",
        "!time ./geetsCode < input4.txt"
      ],
      "execution_count": 177,
      "outputs": [
        {
          "output_type": "stream",
          "text": [
            "tam:16\n",
            "Max product pair is {193726, 190914}\n",
            "El producto es:36985005564\n",
            "real\t0m0.005s\n",
            "user\t0m0.001s\n",
            "sys\t0m0.002s\n"
          ],
          "name": "stdout"
        }
      ]
    },
    {
      "cell_type": "code",
      "metadata": {
        "id": "AhwlFZ6k9Uwq"
      },
      "source": [
        "#19\n",
        "!g++ Test3Write.cpp -o Test3Write\n",
        "!./Test3Write"
      ],
      "execution_count": 178,
      "outputs": []
    },
    {
      "cell_type": "code",
      "metadata": {
        "colab": {
          "base_uri": "https://localhost:8080/"
        },
        "id": "W2tvTxxD9Xfl",
        "outputId": "9acee170-72cb-4c5f-f687-b4a73632c9a5"
      },
      "source": [
        "!g++ geetsCode.cpp -o geetsCode\n",
        "!time ./geetsCode < input4.txt"
      ],
      "execution_count": 179,
      "outputs": [
        {
          "output_type": "stream",
          "text": [
            "tam:17\n",
            "Max product pair is {179277, 173148}\n",
            "El producto es:31041453996\n",
            "real\t0m0.003s\n",
            "user\t0m0.001s\n",
            "sys\t0m0.002s\n"
          ],
          "name": "stdout"
        }
      ]
    },
    {
      "cell_type": "code",
      "metadata": {
        "id": "hOl6aYqw9bac"
      },
      "source": [
        "#20\n",
        "!g++ Test3Write.cpp -o Test3Write\n",
        "!./Test3Write"
      ],
      "execution_count": 180,
      "outputs": []
    },
    {
      "cell_type": "code",
      "metadata": {
        "colab": {
          "base_uri": "https://localhost:8080/"
        },
        "id": "R03QpOtf9gGX",
        "outputId": "8d526978-38e8-4b45-e751-cf7a1dbf0297"
      },
      "source": [
        "!g++ geetsCode.cpp -o geetsCode\n",
        "!time ./geetsCode < input4.txt"
      ],
      "execution_count": 181,
      "outputs": [
        {
          "output_type": "stream",
          "text": [
            "tam:17\n",
            "Max product pair is {194553, 191147}\n",
            "El producto es:37188222291\n",
            "real\t0m0.003s\n",
            "user\t0m0.001s\n",
            "sys\t0m0.002s\n"
          ],
          "name": "stdout"
        }
      ]
    },
    {
      "cell_type": "markdown",
      "metadata": {
        "id": "L8U4151JNbxk"
      },
      "source": [
        "Count executed instructions in code and verify with inputs 1,2 and 3\n"
      ]
    },
    {
      "cell_type": "code",
      "metadata": {
        "id": "dh85RM8vNhFz",
        "colab": {
          "base_uri": "https://localhost:8080/"
        },
        "outputId": "590fa079-b706-4158-caae-b221f98e46e2"
      },
      "source": [
        "%%writefile execIntsGeetsCode.cpp\n",
        "// A O(n) C++ program to find maximum product pair in an array\n",
        "#include<bits/stdc++.h>\n",
        "#include<ctime>\n",
        "using namespace std;\n",
        " \n",
        "void maxProduct( long long arr[],long long n, long long execints)\n",
        "{\n",
        " \n",
        "    if (n < 2)                                            //1\n",
        "    {\n",
        "        cout << \"No pairs exists\\n\";\n",
        "        execints ++;\n",
        "        return;\n",
        "    }\n",
        " \n",
        "    if (n == 2)                                           //1\n",
        "    {\n",
        "        cout << arr[0] << \" \" << arr[1] << endl;\n",
        "        execints++;\n",
        "        return;\n",
        "    }\n",
        " \n",
        "    // Iniitialize maximum and second maximum             //1\n",
        "     long long posa = 0, posb = 0;\n",
        "      execints++;\n",
        " \n",
        "    // Iniitialize minimum and second minimum\n",
        "     long long nega = 0, negb = 0;                        //1\n",
        "      execints++;\n",
        " \n",
        "    // Traverse given array\n",
        "    for ( long long i = 0; i < n-1; i++)                  //n-1\n",
        "    {\n",
        "        execints++;\n",
        "        // Update maximum and second maximum if needed\n",
        "        if (arr[i] > posa)\n",
        "        {\n",
        "            posb = posa;\n",
        "            posa = arr[i];\n",
        "            execints++;\n",
        "        }\n",
        "        else if (arr[i] > posb)\n",
        "            posb = arr[i];\n",
        "            execints++;\n",
        "        // Update minimum and second minimum if needed\n",
        "        if (arr[i] < 0 && abs(arr[i]) > abs(nega))\n",
        "        {\n",
        "            negb = nega;\n",
        "            execints++;\n",
        "            nega = arr[i];\n",
        "            execints++;\n",
        "        }\n",
        "        else if(arr[i] < 0 && abs(arr[i]) > abs(negb))\n",
        "            negb = arr[i];\n",
        "            execints++;\n",
        "    }\n",
        " \n",
        "    if (nega*negb > posa*posb){\n",
        "        //cout << \"Max product pair is {\" << nega << \", \"\n",
        "            // << negb << \"}\"<<\"\\nEl producto es:\"<<nega*negb;\n",
        "        execints++;\n",
        "        }\n",
        "    else{\n",
        "        //cout << \"Max product pair is {\" << posa << \", \"\n",
        "            // << posb << \"}\"<<\"\\nEl producto es:\"<<posa*posb;\n",
        "        execints++;\n",
        "         }\n",
        "    cout<<\"Execints: \"<<execints<<\"\\n\";\n",
        "  \n",
        "}\n",
        " \n",
        "// Driver program to test above function\n",
        "int main()\n",
        "{\n",
        "    unsigned t0, t1;\n",
        "    long long execints = 0LL;\n",
        "     long long tam=0;                                                  //1\n",
        "    execints++;\n",
        "    cin>>tam;                                                          //1\n",
        "    execints++;\n",
        "    cout<<\"tam:\"<<tam<<\"\\n\";\n",
        "    execints++;                                                        //1\n",
        "     long long arr[tam];                                               //1\n",
        "    execints++;\n",
        "    for( long long a=0;a<tam;a++){                                    //n+1\n",
        "    cin>>arr[a];\t\n",
        "    execints++;\n",
        "\t}\n",
        "  \n",
        "    maxProduct(arr, tam+1, execints);\n",
        "  \n",
        "}"
      ],
      "execution_count": 265,
      "outputs": [
        {
          "output_type": "stream",
          "text": [
            "Overwriting execIntsGeetsCode.cpp\n"
          ],
          "name": "stdout"
        }
      ]
    },
    {
      "cell_type": "code",
      "metadata": {
        "colab": {
          "base_uri": "https://localhost:8080/"
        },
        "id": "VCirKuYxPiZz",
        "outputId": "609a7436-468a-4308-dba5-f8a9fd1bc72c"
      },
      "source": [
        "#input1\n",
        "!g++ execIntsGeetsCode.cpp -o execIntsGeetsCode\n",
        "!time ./execIntsGeetsCode < input1.txt"
      ],
      "execution_count": 266,
      "outputs": [
        {
          "output_type": "stream",
          "text": [
            "tam:10\n",
            "Execints: 57\n",
            "\n",
            "real\t0m0.005s\n",
            "user\t0m0.002s\n",
            "sys\t0m0.002s\n"
          ],
          "name": "stdout"
        }
      ]
    },
    {
      "cell_type": "code",
      "metadata": {
        "colab": {
          "base_uri": "https://localhost:8080/"
        },
        "id": "9bAH8wPzQqX5",
        "outputId": "bbff22f2-5327-4a0d-d9fb-d2531d4b0a2f"
      },
      "source": [
        "#input2\n",
        "!g++ execIntsGeetsCode.cpp -o execIntsGeetsCode\n",
        "!time ./execIntsGeetsCode < input2.txt"
      ],
      "execution_count": 267,
      "outputs": [
        {
          "output_type": "stream",
          "text": [
            "tam:6\n",
            "Execints: 34\n",
            "\n",
            "real\t0m0.003s\n",
            "user\t0m0.002s\n",
            "sys\t0m0.001s\n"
          ],
          "name": "stdout"
        }
      ]
    },
    {
      "cell_type": "code",
      "metadata": {
        "colab": {
          "base_uri": "https://localhost:8080/"
        },
        "id": "U9jJYSivQ6tp",
        "outputId": "c258db48-3f7d-4749-ffeb-cdb2fcb6302f"
      },
      "source": [
        "#input3\n",
        "!g++ execIntsGeetsCode.cpp -o execIntsGeetsCode\n",
        "!time ./execIntsGeetsCode < input3.txt"
      ],
      "execution_count": 268,
      "outputs": [
        {
          "output_type": "stream",
          "text": [
            "tam:200000\n",
            "Execints: 1000007\n",
            "\n",
            "real\t0m0.065s\n",
            "user\t0m0.061s\n",
            "sys\t0m0.003s\n"
          ],
          "name": "stdout"
        }
      ]
    },
    {
      "cell_type": "markdown",
      "metadata": {
        "id": "K6ybgCmpNygr"
      },
      "source": [
        "Calculate estimated time by instruction and number of instructions by second"
      ]
    },
    {
      "cell_type": "code",
      "metadata": {
        "id": "kwe3G1O3Nz1w",
        "colab": {
          "base_uri": "https://localhost:8080/"
        },
        "outputId": "e3fd3543-dcc0-4f6c-c6bd-3e7812e8c041"
      },
      "source": [
        "#Time by instruction input 1\n",
        "0.03/57"
      ],
      "execution_count": 269,
      "outputs": [
        {
          "output_type": "execute_result",
          "data": {
            "text/plain": [
              "0.0005263157894736842"
            ]
          },
          "metadata": {
            "tags": []
          },
          "execution_count": 269
        }
      ]
    },
    {
      "cell_type": "code",
      "metadata": {
        "colab": {
          "base_uri": "https://localhost:8080/"
        },
        "id": "iFFCwIgWRvfQ",
        "outputId": "593c5f9f-66d3-4126-90e3-efecf1764fa1"
      },
      "source": [
        "#Instructions by second input 1\n",
        "1/(0.03/57)"
      ],
      "execution_count": 270,
      "outputs": [
        {
          "output_type": "execute_result",
          "data": {
            "text/plain": [
              "1900.0"
            ]
          },
          "metadata": {
            "tags": []
          },
          "execution_count": 270
        }
      ]
    },
    {
      "cell_type": "code",
      "metadata": {
        "colab": {
          "base_uri": "https://localhost:8080/"
        },
        "id": "cQBuTFpaR3CS",
        "outputId": "943575c8-cb19-496b-ac33-c5d4f0e96647"
      },
      "source": [
        "#Time by instruction input 2\n",
        "0.05/34"
      ],
      "execution_count": 272,
      "outputs": [
        {
          "output_type": "execute_result",
          "data": {
            "text/plain": [
              "0.0014705882352941176"
            ]
          },
          "metadata": {
            "tags": []
          },
          "execution_count": 272
        }
      ]
    },
    {
      "cell_type": "code",
      "metadata": {
        "colab": {
          "base_uri": "https://localhost:8080/"
        },
        "id": "LBC6nfcZR9UR",
        "outputId": "b0cc1468-db27-4bce-9207-953750fab256"
      },
      "source": [
        "#Instructions by second input 2\n",
        "1/(0.05/34)"
      ],
      "execution_count": 273,
      "outputs": [
        {
          "output_type": "execute_result",
          "data": {
            "text/plain": [
              "680.0"
            ]
          },
          "metadata": {
            "tags": []
          },
          "execution_count": 273
        }
      ]
    },
    {
      "cell_type": "code",
      "metadata": {
        "colab": {
          "base_uri": "https://localhost:8080/"
        },
        "id": "DzUAiWH3SAa5",
        "outputId": "433c8a08-af98-4f22-817a-cc3d3b153866"
      },
      "source": [
        "#Time by instruction input 3\n",
        "0.074/1000007"
      ],
      "execution_count": 275,
      "outputs": [
        {
          "output_type": "execute_result",
          "data": {
            "text/plain": [
              "7.399948200362598e-08"
            ]
          },
          "metadata": {
            "tags": []
          },
          "execution_count": 275
        }
      ]
    },
    {
      "cell_type": "code",
      "metadata": {
        "colab": {
          "base_uri": "https://localhost:8080/"
        },
        "id": "zjLwe7y6SKBM",
        "outputId": "f53460d2-895c-41c8-e8ed-d34a59541881"
      },
      "source": [
        "#Instructions by second input 3\n",
        "1/(0.074/1000007)"
      ],
      "execution_count": 276,
      "outputs": [
        {
          "output_type": "execute_result",
          "data": {
            "text/plain": [
              "13513608.108108107"
            ]
          },
          "metadata": {
            "tags": []
          },
          "execution_count": 276
        }
      ]
    },
    {
      "cell_type": "markdown",
      "metadata": {
        "id": "sc9nOLQrfTm0"
      },
      "source": [
        "### Super efficient solution\n",
        "\n",
        "Whitout storing the list in memory and whitout calling a function, add in each line a coment with the number of intstrcution that are executed in that line "
      ]
    },
    {
      "cell_type": "code",
      "metadata": {
        "id": "hBLt_xBQLy8E",
        "colab": {
          "base_uri": "https://localhost:8080/"
        },
        "outputId": "49cf615c-7368-489c-9e4d-0336f6d1a179"
      },
      "source": [
        "%%writefile superEfficient.cpp\n",
        "/* Based on https://www.linkedin.com/pulse/lets-solve-maximum-pairwise-product-algorithm-problem-okpala, on April 10, 2021 by rsierraa. */\n",
        "\n",
        "#include <cstdlib>\n",
        "#include <iostream>\n",
        "#include <vector>\n",
        "\n",
        "using namespace std;\n",
        "\n",
        "int main() {\n",
        "\n",
        "    int max1 = 0;                                                               //1\n",
        "    int max2 = 0;   \n",
        "    int n;                                                                      //1\n",
        "    cin >> n;                                                                   //1\n",
        "\n",
        "    int element;\n",
        "    for (int i = 0; i < n; ++i) {                                               //1 + 2n\n",
        "        cin >> element;                                                         //1\n",
        "\n",
        "      if (element > max1){                                                      //1\n",
        "        max2 = max1;                                                            //[0, n]\n",
        "        max1 = element;                                                         //[0, n]\n",
        "      }\n",
        "\n",
        "      else if (element > max2){                                                 //1\n",
        "        max2 = element;                                                         //[0, n]\n",
        "      }\n",
        "    }\n",
        "\n",
        "    cout << (long long) max1*max2 << \"\\n\";                                      //1\n",
        "\n",
        "    return 0;                                                                   \n",
        "                                                                                // total 8 + 2n + [0, 3n]\n",
        "}"
      ],
      "execution_count": 189,
      "outputs": [
        {
          "output_type": "stream",
          "text": [
            "Overwriting superEfficient.cpp\n"
          ],
          "name": "stdout"
        }
      ]
    },
    {
      "cell_type": "markdown",
      "metadata": {
        "id": "683gc3roHqzb"
      },
      "source": [
        "Test with inputs 1 and 2\n",
        "\n",
        "\n",
        " "
      ]
    },
    {
      "cell_type": "code",
      "metadata": {
        "id": "b7d4LA8OIc2_",
        "colab": {
          "base_uri": "https://localhost:8080/"
        },
        "outputId": "227fa10d-b7ff-4999-ce9e-65e266b9ed3c"
      },
      "source": [
        "#input1\n",
        "!g++ superEfficient.cpp -o superEfficient\n",
        "!time ./superEfficient < input1.txt"
      ],
      "execution_count": 190,
      "outputs": [
        {
          "output_type": "stream",
          "text": [
            "90\n",
            "\n",
            "real\t0m0.003s\n",
            "user\t0m0.001s\n",
            "sys\t0m0.002s\n"
          ],
          "name": "stdout"
        }
      ]
    },
    {
      "cell_type": "code",
      "metadata": {
        "colab": {
          "base_uri": "https://localhost:8080/"
        },
        "id": "9TLQf87bCyJU",
        "outputId": "5c6f7401-2d34-4a4a-d449-fdbce4454a1c"
      },
      "source": [
        "#input2\n",
        "!g++ superEfficient.cpp -o superEfficient\n",
        "!time ./superEfficient < input2.txt"
      ],
      "execution_count": 191,
      "outputs": [
        {
          "output_type": "stream",
          "text": [
            "40000000000\n",
            "\n",
            "real\t0m0.008s\n",
            "user\t0m0.001s\n",
            "sys\t0m0.003s\n"
          ],
          "name": "stdout"
        }
      ]
    },
    {
      "cell_type": "markdown",
      "metadata": {
        "id": "36Ugn1odIeJz"
      },
      "source": [
        "Test and time it with input 3"
      ]
    },
    {
      "cell_type": "code",
      "metadata": {
        "id": "jDyMbCnxHqSN",
        "colab": {
          "base_uri": "https://localhost:8080/"
        },
        "outputId": "a97f626a-9cea-4a07-8ba9-72ac56cc5d3e"
      },
      "source": [
        "#input3\n",
        "!g++ superEfficient.cpp -o superEfficient\n",
        "!time ./superEfficient < input3.txt"
      ],
      "execution_count": 192,
      "outputs": [
        {
          "output_type": "stream",
          "text": [
            "39999800000\n",
            "\n",
            "real\t0m0.061s\n",
            "user\t0m0.058s\n",
            "sys\t0m0.003s\n"
          ],
          "name": "stdout"
        }
      ]
    },
    {
      "cell_type": "markdown",
      "metadata": {
        "id": "bhqiKQG6fjKM"
      },
      "source": [
        "20 stress tests "
      ]
    },
    {
      "cell_type": "code",
      "metadata": {
        "id": "2KsiXKhALzwm"
      },
      "source": [
        "#1\n",
        "!g++ Test3Write.cpp -o Test3Write\n",
        "!./Test3Write"
      ],
      "execution_count": 193,
      "outputs": []
    },
    {
      "cell_type": "code",
      "metadata": {
        "colab": {
          "base_uri": "https://localhost:8080/"
        },
        "id": "hU57EDHJDh7Q",
        "outputId": "f795e53b-6666-412b-bbbe-c35f61338196"
      },
      "source": [
        "!g++ superEfficient.cpp -o superEfficient\n",
        "!time ./superEfficient < input4.txt"
      ],
      "execution_count": 194,
      "outputs": [
        {
          "output_type": "stream",
          "text": [
            "30393312521\n",
            "\n",
            "real\t0m0.003s\n",
            "user\t0m0.001s\n",
            "sys\t0m0.002s\n"
          ],
          "name": "stdout"
        }
      ]
    },
    {
      "cell_type": "code",
      "metadata": {
        "id": "N5hvLIljDnLY"
      },
      "source": [
        "#2\n",
        "!g++ Test3Write.cpp -o Test3Write\n",
        "!./Test3Write"
      ],
      "execution_count": 195,
      "outputs": []
    },
    {
      "cell_type": "code",
      "metadata": {
        "colab": {
          "base_uri": "https://localhost:8080/"
        },
        "id": "OVqWcB7gDqD5",
        "outputId": "30f88927-6f66-4776-bfa1-2086731bc965"
      },
      "source": [
        "!g++ superEfficient.cpp -o superEfficient\n",
        "!time ./superEfficient < input4.txt"
      ],
      "execution_count": 196,
      "outputs": [
        {
          "output_type": "stream",
          "text": [
            "36639271192\n",
            "\n",
            "real\t0m0.004s\n",
            "user\t0m0.000s\n",
            "sys\t0m0.004s\n"
          ],
          "name": "stdout"
        }
      ]
    },
    {
      "cell_type": "code",
      "metadata": {
        "id": "CaQkLWvWDucx"
      },
      "source": [
        "#3\n",
        "!g++ Test3Write.cpp -o Test3Write\n",
        "!./Test3Write"
      ],
      "execution_count": 197,
      "outputs": []
    },
    {
      "cell_type": "code",
      "metadata": {
        "colab": {
          "base_uri": "https://localhost:8080/"
        },
        "id": "k-GHeBObDwwW",
        "outputId": "2ed2fe3e-dedb-447d-c3d5-99fb736bf823"
      },
      "source": [
        "!g++ superEfficient.cpp -o superEfficient\n",
        "!time ./superEfficient < input4.txt"
      ],
      "execution_count": 198,
      "outputs": [
        {
          "output_type": "stream",
          "text": [
            "22585654756\n",
            "\n",
            "real\t0m0.004s\n",
            "user\t0m0.003s\n",
            "sys\t0m0.000s\n"
          ],
          "name": "stdout"
        }
      ]
    },
    {
      "cell_type": "code",
      "metadata": {
        "id": "TWWgZ4_mDzdL"
      },
      "source": [
        "#4\n",
        "!g++ Test3Write.cpp -o Test3Write\n",
        "!./Test3Write"
      ],
      "execution_count": 199,
      "outputs": []
    },
    {
      "cell_type": "code",
      "metadata": {
        "colab": {
          "base_uri": "https://localhost:8080/"
        },
        "id": "_HnbJVLKD12H",
        "outputId": "16fc3e52-4505-4ca0-fec7-e0ee671ced79"
      },
      "source": [
        "!g++ superEfficient.cpp -o superEfficient\n",
        "!time ./superEfficient < input4.txt"
      ],
      "execution_count": 200,
      "outputs": [
        {
          "output_type": "stream",
          "text": [
            "34260728840\n",
            "\n",
            "real\t0m0.003s\n",
            "user\t0m0.001s\n",
            "sys\t0m0.002s\n"
          ],
          "name": "stdout"
        }
      ]
    },
    {
      "cell_type": "code",
      "metadata": {
        "id": "shQL1kGQD4I3"
      },
      "source": [
        "#5\n",
        "!g++ Test3Write.cpp -o Test3Write\n",
        "!./Test3Write"
      ],
      "execution_count": 201,
      "outputs": []
    },
    {
      "cell_type": "code",
      "metadata": {
        "colab": {
          "base_uri": "https://localhost:8080/"
        },
        "id": "yL-1h8vhD7Bs",
        "outputId": "153b5377-8605-4d0f-fd4a-195822555c1c"
      },
      "source": [
        "!g++ superEfficient.cpp -o superEfficient\n",
        "!time ./superEfficient < input4.txt"
      ],
      "execution_count": 202,
      "outputs": [
        {
          "output_type": "stream",
          "text": [
            "20379599128\n",
            "\n",
            "real\t0m0.014s\n",
            "user\t0m0.001s\n",
            "sys\t0m0.002s\n"
          ],
          "name": "stdout"
        }
      ]
    },
    {
      "cell_type": "code",
      "metadata": {
        "id": "tQSUYryzD9la"
      },
      "source": [
        "#6\n",
        "!g++ Test3Write.cpp -o Test3Write\n",
        "!./Test3Write"
      ],
      "execution_count": 203,
      "outputs": []
    },
    {
      "cell_type": "code",
      "metadata": {
        "colab": {
          "base_uri": "https://localhost:8080/"
        },
        "id": "zfjsCNuuEYm3",
        "outputId": "28e800d5-1e8d-4079-b930-2aae612ef14b"
      },
      "source": [
        "!g++ superEfficient.cpp -o superEfficient\n",
        "!time ./superEfficient < input4.txt"
      ],
      "execution_count": 204,
      "outputs": [
        {
          "output_type": "stream",
          "text": [
            "22530464208\n",
            "\n",
            "real\t0m0.003s\n",
            "user\t0m0.001s\n",
            "sys\t0m0.002s\n"
          ],
          "name": "stdout"
        }
      ]
    },
    {
      "cell_type": "code",
      "metadata": {
        "id": "Pfg5_mnxEcOe"
      },
      "source": [
        "#7\n",
        "!g++ Test3Write.cpp -o Test3Write\n",
        "!./Test3Write"
      ],
      "execution_count": 205,
      "outputs": []
    },
    {
      "cell_type": "code",
      "metadata": {
        "colab": {
          "base_uri": "https://localhost:8080/"
        },
        "id": "Kwo9mtYKEeEv",
        "outputId": "58e4a72f-4bf3-4f13-ee33-ee348812596a"
      },
      "source": [
        "!g++ superEfficient.cpp -o superEfficient\n",
        "!time ./superEfficient < input4.txt"
      ],
      "execution_count": 206,
      "outputs": [
        {
          "output_type": "stream",
          "text": [
            "34957639505\n",
            "\n",
            "real\t0m0.005s\n",
            "user\t0m0.001s\n",
            "sys\t0m0.003s\n"
          ],
          "name": "stdout"
        }
      ]
    },
    {
      "cell_type": "code",
      "metadata": {
        "id": "7wDNpV5aElIM"
      },
      "source": [
        "#8\n",
        "!g++ Test3Write.cpp -o Test3Write\n",
        "!./Test3Write"
      ],
      "execution_count": 207,
      "outputs": []
    },
    {
      "cell_type": "code",
      "metadata": {
        "colab": {
          "base_uri": "https://localhost:8080/"
        },
        "id": "wTKBZmg1EnHw",
        "outputId": "51e49d9f-4e9f-4921-b416-d5ef203967c4"
      },
      "source": [
        "!g++ superEfficient.cpp -o superEfficient\n",
        "!time ./superEfficient < input4.txt"
      ],
      "execution_count": 208,
      "outputs": [
        {
          "output_type": "stream",
          "text": [
            "33196542420\n",
            "\n",
            "real\t0m0.003s\n",
            "user\t0m0.000s\n",
            "sys\t0m0.003s\n"
          ],
          "name": "stdout"
        }
      ]
    },
    {
      "cell_type": "code",
      "metadata": {
        "id": "Ro3XJi3XEpuv"
      },
      "source": [
        "#9\n",
        "!g++ Test3Write.cpp -o Test3Write\n",
        "!./Test3Write"
      ],
      "execution_count": 209,
      "outputs": []
    },
    {
      "cell_type": "code",
      "metadata": {
        "colab": {
          "base_uri": "https://localhost:8080/"
        },
        "id": "pAKQ63BPEsz1",
        "outputId": "475ea044-3e0b-4b76-b266-ea249fba2e3d"
      },
      "source": [
        "!g++ superEfficient.cpp -o superEfficient\n",
        "!time ./superEfficient < input4.txt"
      ],
      "execution_count": 210,
      "outputs": [
        {
          "output_type": "stream",
          "text": [
            "2479692852\n",
            "\n",
            "real\t0m0.003s\n",
            "user\t0m0.002s\n",
            "sys\t0m0.001s\n"
          ],
          "name": "stdout"
        }
      ]
    },
    {
      "cell_type": "code",
      "metadata": {
        "id": "cnWsFwcjEutP"
      },
      "source": [
        "#10\n",
        "!g++ Test3Write.cpp -o Test3Write\n",
        "!./Test3Write"
      ],
      "execution_count": 211,
      "outputs": []
    },
    {
      "cell_type": "code",
      "metadata": {
        "colab": {
          "base_uri": "https://localhost:8080/"
        },
        "id": "zON0-roLEwRY",
        "outputId": "9c41bff4-e09e-4bfc-c411-bd996e8bbaa4"
      },
      "source": [
        "!g++ superEfficient.cpp -o superEfficient\n",
        "!time ./superEfficient < input4.txt"
      ],
      "execution_count": 212,
      "outputs": [
        {
          "output_type": "stream",
          "text": [
            "28696452320\n",
            "\n",
            "real\t0m0.004s\n",
            "user\t0m0.002s\n",
            "sys\t0m0.002s\n"
          ],
          "name": "stdout"
        }
      ]
    },
    {
      "cell_type": "code",
      "metadata": {
        "id": "lXUIsC9YE2mf"
      },
      "source": [
        "#11\n",
        "!g++ Test3Write.cpp -o Test3Write\n",
        "!./Test3Write"
      ],
      "execution_count": 213,
      "outputs": []
    },
    {
      "cell_type": "code",
      "metadata": {
        "colab": {
          "base_uri": "https://localhost:8080/"
        },
        "id": "tgPxCUz2E50Z",
        "outputId": "04f5fa8e-ddee-42f5-99dc-d1d9c7dd480e"
      },
      "source": [
        "!g++ superEfficient.cpp -o superEfficient\n",
        "!time ./superEfficient < input4.txt"
      ],
      "execution_count": 214,
      "outputs": [
        {
          "output_type": "stream",
          "text": [
            "25256775912\n",
            "\n",
            "real\t0m0.003s\n",
            "user\t0m0.003s\n",
            "sys\t0m0.000s\n"
          ],
          "name": "stdout"
        }
      ]
    },
    {
      "cell_type": "code",
      "metadata": {
        "id": "xWKkH_RDE7nY"
      },
      "source": [
        "#12\n",
        "!g++ Test3Write.cpp -o Test3Write\n",
        "!./Test3Write"
      ],
      "execution_count": 216,
      "outputs": []
    },
    {
      "cell_type": "code",
      "metadata": {
        "colab": {
          "base_uri": "https://localhost:8080/"
        },
        "id": "lQoK7zIlE9E5",
        "outputId": "1634ac1c-c361-434b-e594-1f3b5e21dc40"
      },
      "source": [
        "!g++ superEfficient.cpp -o superEfficient\n",
        "!time ./superEfficient < input4.txt"
      ],
      "execution_count": 217,
      "outputs": [
        {
          "output_type": "stream",
          "text": [
            "34514864735\n",
            "\n",
            "real\t0m0.004s\n",
            "user\t0m0.000s\n",
            "sys\t0m0.003s\n"
          ],
          "name": "stdout"
        }
      ]
    },
    {
      "cell_type": "code",
      "metadata": {
        "id": "EjBtS6yWE_uP"
      },
      "source": [
        "#13\n",
        "!g++ Test3Write.cpp -o Test3Write\n",
        "!./Test3Write"
      ],
      "execution_count": 218,
      "outputs": []
    },
    {
      "cell_type": "code",
      "metadata": {
        "colab": {
          "base_uri": "https://localhost:8080/"
        },
        "id": "ybrMhjDYFCvm",
        "outputId": "42a3d5a7-17df-4cb2-8e51-b2e9602bd412"
      },
      "source": [
        "!g++ superEfficient.cpp -o superEfficient\n",
        "!time ./superEfficient < input4.txt"
      ],
      "execution_count": 219,
      "outputs": [
        {
          "output_type": "stream",
          "text": [
            "27399991160\n",
            "\n",
            "real\t0m0.004s\n",
            "user\t0m0.002s\n",
            "sys\t0m0.001s\n"
          ],
          "name": "stdout"
        }
      ]
    },
    {
      "cell_type": "code",
      "metadata": {
        "id": "2B50mMDKFFkD"
      },
      "source": [
        "#14\n",
        "!g++ Test3Write.cpp -o Test3Write\n",
        "!./Test3Write"
      ],
      "execution_count": 220,
      "outputs": []
    },
    {
      "cell_type": "code",
      "metadata": {
        "colab": {
          "base_uri": "https://localhost:8080/"
        },
        "id": "5z4msf2GFHCb",
        "outputId": "4a88ca8b-47ad-4d08-d29e-fa308213770e"
      },
      "source": [
        "!g++ superEfficient.cpp -o superEfficient\n",
        "!time ./superEfficient < input4.txt"
      ],
      "execution_count": 221,
      "outputs": [
        {
          "output_type": "stream",
          "text": [
            "1336839614\n",
            "\n",
            "real\t0m0.007s\n",
            "user\t0m0.004s\n",
            "sys\t0m0.001s\n"
          ],
          "name": "stdout"
        }
      ]
    },
    {
      "cell_type": "code",
      "metadata": {
        "id": "3mrT7DTuFKM8"
      },
      "source": [
        "#15\n",
        "!g++ Test3Write.cpp -o Test3Write\n",
        "!./Test3Write"
      ],
      "execution_count": 222,
      "outputs": []
    },
    {
      "cell_type": "code",
      "metadata": {
        "colab": {
          "base_uri": "https://localhost:8080/"
        },
        "id": "rulIoprpFMJv",
        "outputId": "02aab721-6642-426d-c403-4a2750af307b"
      },
      "source": [
        "!g++ superEfficient.cpp -o superEfficient\n",
        "!time ./superEfficient < input4.txt"
      ],
      "execution_count": 223,
      "outputs": [
        {
          "output_type": "stream",
          "text": [
            "24133866972\n",
            "\n",
            "real\t0m0.003s\n",
            "user\t0m0.000s\n",
            "sys\t0m0.003s\n"
          ],
          "name": "stdout"
        }
      ]
    },
    {
      "cell_type": "code",
      "metadata": {
        "id": "lkMjuhYsFQow"
      },
      "source": [
        "#16\n",
        "!g++ Test3Write.cpp -o Test3Write\n",
        "!./Test3Write"
      ],
      "execution_count": 225,
      "outputs": []
    },
    {
      "cell_type": "code",
      "metadata": {
        "colab": {
          "base_uri": "https://localhost:8080/"
        },
        "id": "Fi1PfM3MFSh_",
        "outputId": "a5586650-0374-40bb-8227-ab09e5ce073e"
      },
      "source": [
        "!g++ superEfficient.cpp -o superEfficient\n",
        "!time ./superEfficient < input4.txt"
      ],
      "execution_count": 226,
      "outputs": [
        {
          "output_type": "stream",
          "text": [
            "39576327648\n",
            "\n",
            "real\t0m0.004s\n",
            "user\t0m0.002s\n",
            "sys\t0m0.001s\n"
          ],
          "name": "stdout"
        }
      ]
    },
    {
      "cell_type": "code",
      "metadata": {
        "id": "oSNRqfySFVT7"
      },
      "source": [
        "#17\n",
        "!g++ Test3Write.cpp -o Test3Write\n",
        "!./Test3Write"
      ],
      "execution_count": 227,
      "outputs": []
    },
    {
      "cell_type": "code",
      "metadata": {
        "colab": {
          "base_uri": "https://localhost:8080/"
        },
        "id": "MQenaMsvFX-f",
        "outputId": "e8375ed5-f318-4937-b1b4-dd7c21392d59"
      },
      "source": [
        "!g++ superEfficient.cpp -o superEfficient\n",
        "!time ./superEfficient < input4.txt"
      ],
      "execution_count": 228,
      "outputs": [
        {
          "output_type": "stream",
          "text": [
            "33184198840\n",
            "\n",
            "real\t0m0.003s\n",
            "user\t0m0.001s\n",
            "sys\t0m0.002s\n"
          ],
          "name": "stdout"
        }
      ]
    },
    {
      "cell_type": "code",
      "metadata": {
        "id": "FkS6-sOhFaAA"
      },
      "source": [
        "#18\n",
        "!g++ Test3Write.cpp -o Test3Write\n",
        "!./Test3Write"
      ],
      "execution_count": 229,
      "outputs": []
    },
    {
      "cell_type": "code",
      "metadata": {
        "colab": {
          "base_uri": "https://localhost:8080/"
        },
        "id": "APs5GGOBFcUb",
        "outputId": "8094d948-da8b-45cf-a942-a1e6a8be170d"
      },
      "source": [
        "!g++ superEfficient.cpp -o superEfficient\n",
        "!time ./superEfficient < input4.txt"
      ],
      "execution_count": 230,
      "outputs": [
        {
          "output_type": "stream",
          "text": [
            "9945443904\n",
            "\n",
            "real\t0m0.003s\n",
            "user\t0m0.001s\n",
            "sys\t0m0.002s\n"
          ],
          "name": "stdout"
        }
      ]
    },
    {
      "cell_type": "code",
      "metadata": {
        "id": "66Y5X5hkFgUL"
      },
      "source": [
        "#19\n",
        "!g++ Test3Write.cpp -o Test3Write\n",
        "!./Test3Write"
      ],
      "execution_count": 231,
      "outputs": []
    },
    {
      "cell_type": "code",
      "metadata": {
        "colab": {
          "base_uri": "https://localhost:8080/"
        },
        "id": "eeaoFr0fFi1q",
        "outputId": "31c49085-1980-4fdc-bf0f-0bae09159866"
      },
      "source": [
        "!g++ superEfficient.cpp -o superEfficient\n",
        "!time ./superEfficient < input4.txt"
      ],
      "execution_count": 232,
      "outputs": [
        {
          "output_type": "stream",
          "text": [
            "26761321800\n",
            "\n",
            "real\t0m0.003s\n",
            "user\t0m0.002s\n",
            "sys\t0m0.001s\n"
          ],
          "name": "stdout"
        }
      ]
    },
    {
      "cell_type": "code",
      "metadata": {
        "id": "8PXGtfiZFlUL"
      },
      "source": [
        "#20\n",
        "!g++ Test3Write.cpp -o Test3Write\n",
        "!./Test3Write"
      ],
      "execution_count": 233,
      "outputs": []
    },
    {
      "cell_type": "code",
      "metadata": {
        "colab": {
          "base_uri": "https://localhost:8080/"
        },
        "id": "LsL231TJFmxD",
        "outputId": "b308cda1-eab8-447e-e90f-0b555b114677"
      },
      "source": [
        "!g++ superEfficient.cpp -o superEfficient\n",
        "!time ./superEfficient < input4.txt"
      ],
      "execution_count": 234,
      "outputs": [
        {
          "output_type": "stream",
          "text": [
            "34966523488\n",
            "\n",
            "real\t0m0.004s\n",
            "user\t0m0.000s\n",
            "sys\t0m0.003s\n"
          ],
          "name": "stdout"
        }
      ]
    },
    {
      "cell_type": "markdown",
      "metadata": {
        "id": "fEXj8GHJH5p1"
      },
      "source": [
        "Count executed instructions in code and verify with inputs 1,2 and 3"
      ]
    },
    {
      "cell_type": "code",
      "metadata": {
        "id": "LF1DHjKXIAsF",
        "colab": {
          "base_uri": "https://localhost:8080/"
        },
        "outputId": "7b2e45d6-a20e-4264-fba9-ec54fe6e2851"
      },
      "source": [
        "%%writefile super_countexecs.cpp\n",
        "\n",
        "#include <cstdlib>\n",
        "#include <iostream>\n",
        "#include <vector>\n",
        "\n",
        "using namespace std;\n",
        "\n",
        "long long execints = 0LL;\n",
        "\n",
        "int m;\n",
        "\n",
        "int main() {\n",
        "\n",
        "    int max1 = 0;                                                               //1\n",
        "    execints++;\n",
        "    int max2 = 0;                                                               //1\n",
        "    execints++;\n",
        "    int n, element;                                                             //2\n",
        "    execints += 2;\n",
        "    cin >> n;                                                                   //1\n",
        "    execints++;\n",
        "\n",
        "    execints++;\n",
        "    for (int i = 0; i < n; ++i) {                                               //1 + 2n\n",
        "        execints+= 2;\n",
        "        cin >> element;                                                         //1\n",
        "        execints++;\n",
        "  \n",
        "      if (element > max1){                                                      //1\n",
        "        max2 = max1;                                                            //[0, n]\n",
        "        execints++;\n",
        "        max1 = element;                                                         //[0, n]\n",
        "        execints++;\n",
        "        m += 2;\n",
        "      }\n",
        "\n",
        "      else if (element > max2){                                                 //1\n",
        "        max2 = element;                                                         //[0, n]\n",
        "        execints++;\n",
        "        m++;\n",
        "      }\n",
        "    }\n",
        "\n",
        "    cout << m << \"\\n\";\n",
        "\n",
        "\n",
        "    execints++;\n",
        "    //cout << (long long) max1 * max2 << \"\\n\";                                    //1\n",
        "\n",
        "    cout << execints << \"\\n\";\n",
        "\n",
        "    return 0;                                                                   //----------------------\n",
        "                                                                                //10 + 2n + [0, 3n]\n",
        "}"
      ],
      "execution_count": 243,
      "outputs": [
        {
          "output_type": "stream",
          "text": [
            "Overwriting super_countexecs.cpp\n"
          ],
          "name": "stdout"
        }
      ]
    },
    {
      "cell_type": "code",
      "metadata": {
        "colab": {
          "base_uri": "https://localhost:8080/"
        },
        "id": "uIZm1XmCJXa9",
        "outputId": "661bf012-117e-4a4a-b233-ccb22cc3d43e"
      },
      "source": [
        "#input1\n",
        "!g++ super_countexecs.cpp -o super_countexecs\n",
        "!time ./super_countexecs < input1.txt"
      ],
      "execution_count": 244,
      "outputs": [
        {
          "output_type": "stream",
          "text": [
            "20\n",
            "57\n",
            "\n",
            "real\t0m0.003s\n",
            "user\t0m0.001s\n",
            "sys\t0m0.002s\n"
          ],
          "name": "stdout"
        }
      ]
    },
    {
      "cell_type": "code",
      "metadata": {
        "colab": {
          "base_uri": "https://localhost:8080/"
        },
        "id": "oBMd51s6Jsx0",
        "outputId": "267fbb6e-c001-4ccb-ea40-9466a96d33b8"
      },
      "source": [
        "#input2\n",
        "!g++ super_countexecs.cpp -o super_countexecs\n",
        "!time ./super_countexecs < input2.txt"
      ],
      "execution_count": 245,
      "outputs": [
        {
          "output_type": "stream",
          "text": [
            "8\n",
            "33\n",
            "\n",
            "real\t0m0.005s\n",
            "user\t0m0.002s\n",
            "sys\t0m0.002s\n"
          ],
          "name": "stdout"
        }
      ]
    },
    {
      "cell_type": "code",
      "metadata": {
        "colab": {
          "base_uri": "https://localhost:8080/"
        },
        "id": "n7N7DZEfK83L",
        "outputId": "1d2700fe-c055-4cce-ea22-52e38a515d68"
      },
      "source": [
        "#input3\n",
        "!g++ super_countexecs.cpp -o super_countexecs\n",
        "!time ./super_countexecs < input3.txt"
      ],
      "execution_count": 246,
      "outputs": [
        {
          "output_type": "stream",
          "text": [
            "400000\n",
            "1000007\n",
            "\n",
            "real\t0m0.066s\n",
            "user\t0m0.063s\n",
            "sys\t0m0.001s\n"
          ],
          "name": "stdout"
        }
      ]
    },
    {
      "cell_type": "markdown",
      "metadata": {
        "id": "yae7sSm2IG9U"
      },
      "source": [
        "Calculate estimated time by instruction and number of instructions by second"
      ]
    },
    {
      "cell_type": "code",
      "metadata": {
        "id": "suouY7BYL2dz",
        "colab": {
          "base_uri": "https://localhost:8080/"
        },
        "outputId": "3462efcc-6da6-42d0-8f52-84c2584853b2"
      },
      "source": [
        "#input 1 time by instruction\n",
        "0.03/57"
      ],
      "execution_count": 247,
      "outputs": [
        {
          "output_type": "execute_result",
          "data": {
            "text/plain": [
              "0.0005263157894736842"
            ]
          },
          "metadata": {
            "tags": []
          },
          "execution_count": 247
        }
      ]
    },
    {
      "cell_type": "code",
      "metadata": {
        "colab": {
          "base_uri": "https://localhost:8080/"
        },
        "id": "4ZZs4dKKLiOl",
        "outputId": "83397a3f-0935-454f-fd17-3804cd4a1918"
      },
      "source": [
        "#input2 time by instruction\n",
        "0.008/33"
      ],
      "execution_count": 248,
      "outputs": [
        {
          "output_type": "execute_result",
          "data": {
            "text/plain": [
              "0.00024242424242424242"
            ]
          },
          "metadata": {
            "tags": []
          },
          "execution_count": 248
        }
      ]
    },
    {
      "cell_type": "code",
      "metadata": {
        "colab": {
          "base_uri": "https://localhost:8080/"
        },
        "id": "SagdDKWqMT7X",
        "outputId": "d14cd23b-e8b5-4393-ab11-93836002b25f"
      },
      "source": [
        "#input3 time by instruction\n",
        "0.061/1000007"
      ],
      "execution_count": 249,
      "outputs": [
        {
          "output_type": "execute_result",
          "data": {
            "text/plain": [
              "6.099957300298898e-08"
            ]
          },
          "metadata": {
            "tags": []
          },
          "execution_count": 249
        }
      ]
    },
    {
      "cell_type": "code",
      "metadata": {
        "colab": {
          "base_uri": "https://localhost:8080/"
        },
        "id": "gg4WRuhEMeVc",
        "outputId": "7012d4c4-95f0-4641-e027-c8270baf9e30"
      },
      "source": [
        "#Numbers of instructions by second input 1\n",
        "1/(0.03/57)"
      ],
      "execution_count": 250,
      "outputs": [
        {
          "output_type": "execute_result",
          "data": {
            "text/plain": [
              "1900.0"
            ]
          },
          "metadata": {
            "tags": []
          },
          "execution_count": 250
        }
      ]
    },
    {
      "cell_type": "code",
      "metadata": {
        "colab": {
          "base_uri": "https://localhost:8080/"
        },
        "id": "zJy_AXywMtP4",
        "outputId": "493e252d-c01d-4626-cea7-c276b04fe318"
      },
      "source": [
        "#Numbers of instructions by second input 2\n",
        "1/(0.008/33)"
      ],
      "execution_count": 251,
      "outputs": [
        {
          "output_type": "execute_result",
          "data": {
            "text/plain": [
              "4125.0"
            ]
          },
          "metadata": {
            "tags": []
          },
          "execution_count": 251
        }
      ]
    },
    {
      "cell_type": "code",
      "metadata": {
        "colab": {
          "base_uri": "https://localhost:8080/"
        },
        "id": "TkLAe75pM0YR",
        "outputId": "d7dd6d57-6cf6-4b06-aaf1-362c5fe588bf"
      },
      "source": [
        "#Numbers of instructions by second input 3\n",
        "1/(0.061/1000007)"
      ],
      "execution_count": 252,
      "outputs": [
        {
          "output_type": "execute_result",
          "data": {
            "text/plain": [
              "16393557.37704918"
            ]
          },
          "metadata": {
            "tags": []
          },
          "execution_count": 252
        }
      ]
    },
    {
      "cell_type": "markdown",
      "metadata": {
        "id": "rydCU4bFfrhG"
      },
      "source": [
        "## Python"
      ]
    },
    {
      "cell_type": "markdown",
      "metadata": {
        "id": "6n707zUXO0N0"
      },
      "source": [
        "Efficient cython file reading, string parsing, and array building\n",
        "\n",
        "https://stackoverflow.com/questions/37219875/efficient-cython-file-reading-string-parsing-and-array-building\n",
        "\n",
        "\n",
        "\n",
        "File PreProcessing With C and Cython\n",
        "\n",
        "https://github.com/EveryTimeIWill18/Cython_Repo/blob/master/FastFileProcessingWithCython.ipynb\n",
        "\n"
      ]
    },
    {
      "cell_type": "code",
      "metadata": {
        "id": "xwq0n_b4L3ML",
        "colab": {
          "base_uri": "https://localhost:8080/"
        },
        "outputId": "de2da0f6-9be2-4568-f4ac-138eb4d3d3bc"
      },
      "source": [
        "# A O(n) Python 3 program to find\n",
        "# maximum product pair in an array\n",
        "\n",
        "# Function to find maximum product\n",
        "# pair in arr[0..n-1]\n",
        "def maxProduct(arr, n):\n",
        "\n",
        "\tif (n < 2):\n",
        "\t\tprint(\"No pairs exists\")\n",
        "\t\treturn\n",
        "\n",
        "\tif (n == 2):\n",
        "\t\tprint(arr[0] ,\" \" , arr[1])\n",
        "\t\treturn\n",
        "\n",
        "\t# Iniitialize maximum and\n",
        "\t# second maximum\n",
        "\tposa = 0\n",
        "\tposb = 0\n",
        "\n",
        "\t# Iniitialize minimum and\n",
        "\t# second minimum\n",
        "\tnega = 0\n",
        "\tnegb = 0\n",
        "\n",
        "\t# Traverse given array\n",
        "\tfor i in range(n):\n",
        "\t\n",
        "\t\t# Update maximum and second\n",
        "\t\t# maximum if needed\n",
        "\t\tif (arr[i] > posa):\n",
        "\t\t\tposb = posa\n",
        "\t\t\tposa = arr[i]\n",
        "\t\t\n",
        "\t\telif (arr[i] > posb):\n",
        "\t\t\tposb = arr[i]\n",
        "\n",
        "\t\t# Update minimum and second\n",
        "\t\t# minimum if needed\n",
        "\t\tif (arr[i] < 0 and abs(arr[i]) > abs(nega)):\n",
        "\t\t\tnegb = nega\n",
        "\t\t\tnega = arr[i]\n",
        "\t\t\n",
        "\t\telif(arr[i] < 0 and abs(arr[i]) > abs(negb)):\n",
        "\t\t\tnegb = arr[i]\n",
        "\n",
        "\tif (nega * negb > posa * posb):\n",
        "\t\tprint(\"Max product pair is {\" ,\n",
        "\t\t\t\tnega ,\", \", negb , \"}\",\"\\nel producto es\",nega*negb)\n",
        "\telse:\n",
        "\t\tprint( \"Max product pair is {\" ,\n",
        "\t\t\t\tposa ,\", \" ,posb , \"}\",\"\\nel producto es\",posb*posa)\n",
        "\n",
        "\n",
        "# Driver Code\n",
        "if __name__ ==\"__main__\":\n",
        "\tarr = [1, 4, 3, 6, 7, 0]\n",
        "\tn = len(arr)\n",
        "\tmaxProduct(arr, n)\n",
        "\n",
        "# This code is contributed\n",
        "# by ChitraNayal\n"
      ],
      "execution_count": 137,
      "outputs": [
        {
          "output_type": "stream",
          "text": [
            "Max product pair is { 7 ,  6 } \n",
            "el producto es 42\n"
          ],
          "name": "stdout"
        }
      ]
    },
    {
      "cell_type": "code",
      "metadata": {
        "colab": {
          "base_uri": "https://localhost:8080/"
        },
        "id": "WiQPmNYO13yT",
        "outputId": "0128e723-9959-44d3-c03d-320278de3cf0"
      },
      "source": [
        "import time\n",
        "lista=[]\n",
        "f = open ('input3.txt','r')\n",
        "a=f.readline()\n",
        "B=f.readline()\n",
        "print(lista)\n",
        "for x in B.split():\n",
        "  lista.append(int(x))\n",
        "inicio = time.time()\n",
        "maxProduct(lista,len(lista))\n",
        "fin = time.time()\n",
        "print(\"el tiempo de ejecucion es de:\",fin-inicio)"
      ],
      "execution_count": 139,
      "outputs": [
        {
          "output_type": "stream",
          "text": [
            "[]\n",
            "Max product pair is { 200000 ,  199999 } \n",
            "el producto es 39999800000\n",
            "el tiempo de ejecucion es de: 0.05421018600463867\n"
          ],
          "name": "stdout"
        }
      ]
    },
    {
      "cell_type": "markdown",
      "metadata": {
        "id": "LkVxxlhl9H98"
      },
      "source": [
        "# Screenhsoots of the Coursera Submissions in C++ and Python"
      ]
    },
    {
      "cell_type": "markdown",
      "metadata": {
        "id": "FRsK_FZ_BNJE"
      },
      "source": [
        "![Tarea1.PNG](data:image/png;base64,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)"
      ]
    },
    {
      "cell_type": "markdown",
      "metadata": {
        "id": "pcx0OtUZ_WJt"
      },
      "source": [
        "![Tarea2.PNG](data:image/png;base64,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)"
      ]
    }
  ]
}